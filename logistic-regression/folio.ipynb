{
  "nbformat": 4,
  "nbformat_minor": 0,
  "metadata": {
    "colab": {
      "name": "folio.ipynb",
      "provenance": [],
      "collapsed_sections": []
    },
    "kernelspec": {
      "name": "python3",
      "display_name": "Python 3"
    },
    "language_info": {
      "name": "python"
    }
  },
  "cells": [
    {
      "cell_type": "code",
      "metadata": {
        "colab": {
          "base_uri": "https://localhost:8080/"
        },
        "id": "JxnMvY0OBoBZ",
        "outputId": "c21df38c-f00e-4885-8953-9a74a81a68ac"
      },
      "source": [
        "from google.colab import drive\n",
        "drive.mount('/content/drive')"
      ],
      "execution_count": null,
      "outputs": [
        {
          "output_type": "stream",
          "name": "stdout",
          "text": [
            "Drive already mounted at /content/drive; to attempt to forcibly remount, call drive.mount(\"/content/drive\", force_remount=True).\n"
          ]
        }
      ]
    },
    {
      "cell_type": "code",
      "metadata": {
        "id": "m6BBCt_cB1pJ"
      },
      "source": [
        "import os\n",
        "import cv2 \n",
        "from google.colab.patches import cv2_imshow\n",
        "import numpy as np\n",
        "from sklearn.model_selection import train_test_split\n",
        "from sklearn.linear_model import LogisticRegression"
      ],
      "execution_count": null,
      "outputs": []
    },
    {
      "cell_type": "code",
      "metadata": {
        "id": "KM9CUSEWBr7x"
      },
      "source": [
        "folio = '/content/drive/MyDrive/folio/'"
      ],
      "execution_count": null,
      "outputs": []
    },
    {
      "cell_type": "code",
      "metadata": {
        "id": "MFtIMvXaCiDQ"
      },
      "source": [
        "X = []\n",
        "y = []"
      ],
      "execution_count": null,
      "outputs": []
    },
    {
      "cell_type": "code",
      "metadata": {
        "colab": {
          "base_uri": "https://localhost:8080/"
        },
        "id": "5IVY50IoB0DM",
        "outputId": "7c1b0f8e-e058-4901-e077-8550531116bf"
      },
      "source": [
        "folder = os.listdir(folio)\n",
        "folder"
      ],
      "execution_count": null,
      "outputs": [
        {
          "output_type": "execute_result",
          "data": {
            "text/plain": [
              "['jackfruit',\n",
              " 'barbados cherry',\n",
              " 'croton',\n",
              " 'bitter orange',\n",
              " 'coeur demoiselle',\n",
              " 'betel',\n",
              " 'mulberry leaf',\n",
              " 'ashanti blood',\n",
              " 'coffee',\n",
              " 'caricature plant']"
            ]
          },
          "metadata": {},
          "execution_count": 75
        }
      ]
    },
    {
      "cell_type": "code",
      "metadata": {
        "colab": {
          "base_uri": "https://localhost:8080/"
        },
        "id": "4QNX1Ue3B4rm",
        "outputId": "cd1c6a68-5b74-48f4-99e3-706ec2cf359b"
      },
      "source": [
        "SCALE = 0.1\n",
        "for idx in range(len(folder)):\n",
        "    for file in os.listdir(folio + folder[idx]):\n",
        "        y.append(folder[idx])\n",
        "        print(folder[idx])\n",
        "        img = cv2.imread(folio + folder[idx] + '/' + file, 0)\n",
        "        X.append(cv2.resize(img, (int(img.shape[1] * SCALE), int(img.shape[0] * SCALE))))"
      ],
      "execution_count": null,
      "outputs": [
        {
          "output_type": "stream",
          "name": "stdout",
          "text": [
            "ashanti blood\n",
            "ashanti blood\n",
            "ashanti blood\n",
            "ashanti blood\n",
            "ashanti blood\n",
            "ashanti blood\n",
            "ashanti blood\n",
            "ashanti blood\n",
            "ashanti blood\n",
            "ashanti blood\n",
            "ashanti blood\n",
            "ashanti blood\n",
            "ashanti blood\n",
            "ashanti blood\n",
            "ashanti blood\n",
            "coffee\n",
            "coffee\n",
            "coffee\n",
            "coffee\n",
            "coffee\n",
            "coffee\n",
            "coffee\n",
            "coffee\n",
            "coffee\n",
            "coffee\n",
            "coffee\n",
            "coffee\n",
            "coffee\n",
            "coffee\n",
            "coffee\n",
            "coffee\n",
            "coffee\n",
            "coffee\n",
            "coffee\n",
            "coffee\n",
            "caricature plant\n",
            "caricature plant\n",
            "caricature plant\n",
            "caricature plant\n",
            "caricature plant\n",
            "caricature plant\n",
            "caricature plant\n",
            "caricature plant\n",
            "caricature plant\n",
            "caricature plant\n",
            "caricature plant\n",
            "caricature plant\n",
            "caricature plant\n",
            "caricature plant\n",
            "caricature plant\n",
            "caricature plant\n",
            "caricature plant\n",
            "caricature plant\n",
            "caricature plant\n",
            "caricature plant\n"
          ]
        }
      ]
    },
    {
      "cell_type": "code",
      "metadata": {
        "id": "yOfdh4nLCB_o"
      },
      "source": [
        "X, y = np.array(X), np.array(y)"
      ],
      "execution_count": null,
      "outputs": []
    },
    {
      "cell_type": "code",
      "metadata": {
        "id": "YPOePBKLF238"
      },
      "source": [
        "X_train, X_test, y_train, y_test = train_test_split(X, y, test_size=0.3, random_state=1)"
      ],
      "execution_count": null,
      "outputs": []
    },
    {
      "cell_type": "markdown",
      "metadata": {
        "id": "bPZm5cKCGSa7"
      },
      "source": [
        "# Method 1"
      ]
    },
    {
      "cell_type": "code",
      "metadata": {
        "id": "WEf_6gYbGEkI"
      },
      "source": [
        "def convert_to_1D (image):\n",
        "    return np.reshape(image, image.shape[0] * image.shape[1])"
      ],
      "execution_count": null,
      "outputs": []
    },
    {
      "cell_type": "code",
      "metadata": {
        "id": "6PdgbRreGYNJ"
      },
      "source": [
        "X_train_new = []\n",
        "for x in X_train:\n",
        "    X_train_new.append(convert_to_1D(x))"
      ],
      "execution_count": null,
      "outputs": []
    },
    {
      "cell_type": "code",
      "metadata": {
        "id": "N5QbWsSqGftr"
      },
      "source": [
        "X_test_new = []\n",
        "for x in X_test:\n",
        "    X_test_new.append(convert_to_1D(x))"
      ],
      "execution_count": null,
      "outputs": []
    },
    {
      "cell_type": "markdown",
      "metadata": {
        "id": "gKS3L8y5HXB4"
      },
      "source": [
        "# Method 2"
      ]
    },
    {
      "cell_type": "code",
      "metadata": {
        "id": "EP7Gv4rpHYYD"
      },
      "source": [
        "from skimage.feature import hog\n",
        "def calculate_hog(image):\n",
        "    return hog(image, orientations=9, pixels_per_cell=(16, 16), cells_per_block=(2, 2), block_norm='L2')"
      ],
      "execution_count": null,
      "outputs": []
    },
    {
      "cell_type": "code",
      "metadata": {
        "id": "54UQx6F9HmYK"
      },
      "source": [
        "X_train_new_ = [ ]\n",
        "for x in X_train:\n",
        "    X_train_new_.append(calculate_hog(x))"
      ],
      "execution_count": null,
      "outputs": []
    },
    {
      "cell_type": "code",
      "metadata": {
        "id": "xi1HebbTHmP0"
      },
      "source": [
        "X_test_new_ = [ ]\n",
        "for x in X_test:\n",
        "    X_test_new_.append(calculate_hog(x))"
      ],
      "execution_count": null,
      "outputs": []
    },
    {
      "cell_type": "markdown",
      "metadata": {
        "id": "E6N8qQpxHY7s"
      },
      "source": [
        "# Training & Evaluation"
      ]
    },
    {
      "cell_type": "markdown",
      "metadata": {
        "id": "O6T8Adw0JvYg"
      },
      "source": [
        "## Method 1"
      ]
    },
    {
      "cell_type": "code",
      "metadata": {
        "colab": {
          "base_uri": "https://localhost:8080/"
        },
        "id": "wFBM_RbAGl05",
        "outputId": "01a81ebe-057b-4956-900c-04a8bc240511"
      },
      "source": [
        "model = LogisticRegression(max_iter= 10000 , random_state=1, n_jobs=-1)\n",
        "model.fit(X_train_new, y_train)"
      ],
      "execution_count": null,
      "outputs": [
        {
          "output_type": "execute_result",
          "data": {
            "text/plain": [
              "LogisticRegression(max_iter=10000, n_jobs=-1, random_state=1)"
            ]
          },
          "metadata": {},
          "execution_count": 85
        }
      ]
    },
    {
      "cell_type": "code",
      "metadata": {
        "id": "pNjCeoF2G_d-"
      },
      "source": [
        "y_pred = model.predict(X_test_new)"
      ],
      "execution_count": null,
      "outputs": []
    },
    {
      "cell_type": "code",
      "metadata": {
        "colab": {
          "base_uri": "https://localhost:8080/"
        },
        "id": "7w2hguNkHH_X",
        "outputId": "bcced3c5-6156-4294-f0c5-b2767eac42b8"
      },
      "source": [
        "from sklearn.metrics import accuracy_score, classification_report\n",
        "print(f'Method 1 - LogisticRegress - accuracy: {accuracy_score(y_test, y_pred)}')\n",
        "print(classification_report(y_test, y_pred))"
      ],
      "execution_count": null,
      "outputs": [
        {
          "output_type": "stream",
          "name": "stdout",
          "text": [
            "Method 1 - LogisticRegress - accuracy: 0.9166666666666666\n",
            "                  precision    recall  f1-score   support\n",
            "\n",
            "   ashanti blood       0.80      1.00      0.89         4\n",
            " barbados cherry       0.89      0.89      0.89         9\n",
            "           betel       1.00      0.86      0.92         7\n",
            "   bitter orange       1.00      1.00      1.00         3\n",
            "caricature plant       0.83      1.00      0.91         5\n",
            "coeur demoiselle       1.00      1.00      1.00         5\n",
            "          coffee       0.75      0.75      0.75         8\n",
            "          croton       1.00      1.00      1.00         8\n",
            "       jackfruit       1.00      0.83      0.91         6\n",
            "   mulberry leaf       1.00      1.00      1.00         5\n",
            "\n",
            "        accuracy                           0.92        60\n",
            "       macro avg       0.93      0.93      0.93        60\n",
            "    weighted avg       0.92      0.92      0.92        60\n",
            "\n"
          ]
        }
      ]
    },
    {
      "cell_type": "markdown",
      "metadata": {
        "id": "I5T3-A_PJwrl"
      },
      "source": [
        "## Method 2"
      ]
    },
    {
      "cell_type": "code",
      "metadata": {
        "colab": {
          "base_uri": "https://localhost:8080/"
        },
        "id": "ZKhm_VvWJmOM",
        "outputId": "cdfd41fc-45a8-4587-f8b9-c1d7f87fd3d1"
      },
      "source": [
        "model_2 = LogisticRegression(max_iter= 10000, random_state=1, n_jobs=-1)\n",
        "model_2.fit(X_train_new_, y_train)"
      ],
      "execution_count": null,
      "outputs": [
        {
          "output_type": "execute_result",
          "data": {
            "text/plain": [
              "LogisticRegression(max_iter=10000, n_jobs=-1, random_state=1)"
            ]
          },
          "metadata": {},
          "execution_count": 88
        }
      ]
    },
    {
      "cell_type": "code",
      "metadata": {
        "id": "8lNFcCFIJ5id"
      },
      "source": [
        "y_pred_2 = model_2.predict(X_test_new_)"
      ],
      "execution_count": null,
      "outputs": []
    },
    {
      "cell_type": "code",
      "metadata": {
        "colab": {
          "base_uri": "https://localhost:8080/"
        },
        "id": "pgVwLHMkJ8sv",
        "outputId": "82ce7fbb-eb81-40f9-ea8d-44616b165a51"
      },
      "source": [
        "from sklearn.metrics import accuracy_score, classification_report\n",
        "print(f'Method 2 - LogisticRegress - accuracy: {accuracy_score(y_test, y_pred_2)}')\n",
        "print(classification_report(y_test, y_pred_2))"
      ],
      "execution_count": null,
      "outputs": [
        {
          "output_type": "stream",
          "name": "stdout",
          "text": [
            "Method 2 - LogisticRegress - accuracy: 0.9166666666666666\n",
            "                  precision    recall  f1-score   support\n",
            "\n",
            "   ashanti blood       0.80      1.00      0.89         4\n",
            " barbados cherry       1.00      0.89      0.94         9\n",
            "           betel       1.00      0.71      0.83         7\n",
            "   bitter orange       1.00      1.00      1.00         3\n",
            "caricature plant       0.80      0.80      0.80         5\n",
            "coeur demoiselle       1.00      1.00      1.00         5\n",
            "          coffee       0.73      1.00      0.84         8\n",
            "          croton       1.00      1.00      1.00         8\n",
            "       jackfruit       1.00      0.83      0.91         6\n",
            "   mulberry leaf       1.00      1.00      1.00         5\n",
            "\n",
            "        accuracy                           0.92        60\n",
            "       macro avg       0.93      0.92      0.92        60\n",
            "    weighted avg       0.93      0.92      0.92        60\n",
            "\n"
          ]
        }
      ]
    }
  ]
}