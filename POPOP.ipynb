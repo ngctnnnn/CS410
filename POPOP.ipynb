{
  "nbformat": 4,
  "nbformat_minor": 0,
  "metadata": {
    "anaconda-cloud": {},
    "kernelspec": {
      "display_name": "Python [Root]",
      "language": "python",
      "name": "Python [Root]"
    },
    "language_info": {
      "codemirror_mode": {
        "name": "ipython",
        "version": 2
      },
      "file_extension": ".py",
      "mimetype": "text/x-python",
      "name": "python",
      "nbconvert_exporter": "python",
      "pygments_lexer": "ipython2",
      "version": "2.7.12"
    },
    "colab": {
      "name": "GA_OneMax.ipynb",
      "provenance": [],
      "collapsed_sections": []
    }
  },
  "cells": [
    {
      "cell_type": "markdown",
      "metadata": {
        "id": "2Y7WObG2D1Dk"
      },
      "source": [
        "Full name: `Tan Ngoc Pham`    \n",
        "Student ID: `19520925`"
      ]
    },
    {
      "cell_type": "code",
      "metadata": {
        "collapsed": true,
        "id": "YZJ3R7zjmMLp"
      },
      "source": [
        "import numpy as np\n",
        "import random"
      ],
      "execution_count": 204,
      "outputs": []
    },
    {
      "cell_type": "code",
      "metadata": {
        "id": "hUhEE84VmMLr"
      },
      "source": [
        "def initialize_population( num_individuals, num_variables ):\n",
        "    \"\"\"\n",
        "    Khởi tạo quần thể gồm num_individuals cá thể. Mỗi cá thể có num_parameters biến.\n",
        "    \n",
        "    Arguments:\n",
        "    num_individuals -- Số lượng cá thể\n",
        "    num_variables -- Số lượng biến\n",
        "    \n",
        "    Returns:\n",
        "    pop -- Ma trận (num_individuals, num_variables\u001d) chứa quần thể mới được khởi tạo ngẫu nhiên.\n",
        "    \"\"\"\n",
        "    \n",
        "    ### BẮT ĐẦU CODE TỪ ĐÂY ### \n",
        "    pop = np.random.randint(2, size=(num_individuals, num_variables))\n",
        "    ### DỪNG CODE TẠI ĐÂY ###\n",
        "    \n",
        "    return pop"
      ],
      "execution_count": 205,
      "outputs": []
    },
    {
      "cell_type": "code",
      "metadata": {
        "colab": {
          "base_uri": "https://localhost:8080/"
        },
        "id": "hnZGcZavedyJ",
        "outputId": "697a4725-cdc9-48e1-b3bc-8f06082b9d1e"
      },
      "source": [
        "pop = initialize_population(8, 4)\n",
        "pop"
      ],
      "execution_count": 206,
      "outputs": [
        {
          "output_type": "execute_result",
          "data": {
            "text/plain": [
              "array([[0, 1, 0, 0],\n",
              "       [0, 0, 0, 0],\n",
              "       [1, 0, 0, 1],\n",
              "       [1, 1, 1, 0],\n",
              "       [1, 1, 1, 1],\n",
              "       [1, 1, 0, 1],\n",
              "       [0, 0, 1, 1],\n",
              "       [0, 0, 0, 1]])"
            ]
          },
          "metadata": {},
          "execution_count": 206
        }
      ]
    },
    {
      "cell_type": "code",
      "metadata": {
        "id": "poknDwSSmMLs"
      },
      "source": [
        "def onemax( ind ):\n",
        "    \"\"\"\n",
        "    Hàm đánh giá OneMax: Đếm số bit 1 trong chuỗi nhị phân (cá thể ind).\n",
        "    \n",
        "    Arguments:\n",
        "    ind -- Cá thể cần được đánh giá.\n",
        "\n",
        "    Returns:\n",
        "    value -- Giá trị của cá thể ind.\n",
        "    \"\"\"\n",
        "    \n",
        "    ### BẮT ĐẦU CODE TỪ ĐÂY ###     \n",
        "    value = np.sum(ind)\n",
        "    \n",
        "    ### DỪNG CODE TẠI ĐÂY ###\n",
        "    \n",
        "    return value"
      ],
      "execution_count": 207,
      "outputs": []
    },
    {
      "cell_type": "code",
      "metadata": {
        "colab": {
          "base_uri": "https://localhost:8080/"
        },
        "id": "qJghdfwyetL_",
        "outputId": "d46df163-8cc9-4df4-ddee-18838e72ef80"
      },
      "source": [
        "onemax(pop[0])"
      ],
      "execution_count": 208,
      "outputs": [
        {
          "output_type": "execute_result",
          "data": {
            "text/plain": [
              "1"
            ]
          },
          "metadata": {},
          "execution_count": 208
        }
      ]
    },
    {
      "cell_type": "code",
      "metadata": {
        "id": "Q-xYm-5zmMLu"
      },
      "source": [
        "def evaluate_population( pop ):\n",
        "    \"\"\"\n",
        "    Hàm đánh giá tất cả cá thể trong quần thể.\n",
        "    \n",
        "    Arguments:\n",
        "    pop -- Quàn thể cần được đánh giá.\n",
        "\n",
        "    Returns:\n",
        "    values -- Giá trị của tất cả các cá thể trong quần thể.\n",
        "    \"\"\" \n",
        "\n",
        "    ### BẮT ĐẦU CODE TỪ ĐÂY ### \n",
        "    values = [onemax(individual) for individual in pop]\n",
        "    \n",
        "    ### DỪNG CODE TẠI ĐÂY ###\n",
        "    \n",
        "    return values"
      ],
      "execution_count": 209,
      "outputs": []
    },
    {
      "cell_type": "code",
      "metadata": {
        "colab": {
          "base_uri": "https://localhost:8080/"
        },
        "id": "OxzgxTMyfAWs",
        "outputId": "030b698f-e973-4b9f-ac80-55ab96d73202"
      },
      "source": [
        "pop_fitness = evaluate_population(pop)\n",
        "pop_fitness"
      ],
      "execution_count": 210,
      "outputs": [
        {
          "output_type": "execute_result",
          "data": {
            "text/plain": [
              "[1, 0, 2, 3, 4, 3, 2, 1]"
            ]
          },
          "metadata": {},
          "execution_count": 210
        }
      ]
    },
    {
      "cell_type": "code",
      "metadata": {
        "id": "xdWzIquvmMLv"
      },
      "source": [
        "def better_fitness( fitness_1, fitness_2, maximization=True ):\n",
        "    \"\"\"\n",
        "    Hàm so sánh độ thích nghi của 2 cá thể.\n",
        "    \n",
        "    Arguments:\n",
        "    fitness_1 -- Độ thích nghi của cá thể 1.\n",
        "    fitness_2 -- Độ thích nghi của cá thể 2.\n",
        "    maximization -- Biến boolean cho biết bài toán đang giải thuộc dạng tối đa hoá (mặc định) hay không\n",
        "    \n",
        "    Returns:\n",
        "    True nếu fitness_1 tốt hơn fitness_2. Ngược lại, trả về False.\n",
        "    \"\"\"\n",
        "    \n",
        "    if maximization:\n",
        "        if fitness_1 > fitness_2:\n",
        "            return True\n",
        "    else:\n",
        "        if fitness_1 < fitness_2:\n",
        "            return True\n",
        "        \n",
        "    return False"
      ],
      "execution_count": 211,
      "outputs": []
    },
    {
      "cell_type": "code",
      "metadata": {
        "colab": {
          "base_uri": "https://localhost:8080/"
        },
        "id": "LeS3va2w1iEI",
        "outputId": "795ff19f-d6a1-47b4-bb9a-29a330f77866"
      },
      "source": [
        "better_fitness(pop_fitness[6], pop_fitness[5])"
      ],
      "execution_count": 212,
      "outputs": [
        {
          "output_type": "execute_result",
          "data": {
            "text/plain": [
              "False"
            ]
          },
          "metadata": {},
          "execution_count": 212
        }
      ]
    },
    {
      "cell_type": "code",
      "metadata": {
        "id": "aPVYVkGwmMLv"
      },
      "source": [
        "def tournament_selection( pop, pop_fitness, selection_size, tournament_size):\n",
        "    \"\"\"\n",
        "    Hàm chọn lọc cạnh tranh.\n",
        "    \n",
        "    Arguments:\n",
        "    pop -- Quần thể để thực hiện phép chọn lọc.\n",
        "    pop_fitness -- Mảng 1 chiều chứa giá trị (độ thích nghi) của từng cá thể trong quần thể.\n",
        "    selection_size -- Số lượng cá thể \u001dsẽ được chọn.\n",
        "    tournament_size -- Kích thước của tournament: Số lượng các cá thể được so sánh với nhau mỗi lần.\n",
        "    \n",
        "    Returns:\n",
        "    selected_indices -- Chỉ số của những cá thể trong quần thể pop được chọn. Chỉ số có thể được lặp lại.\n",
        "    \"\"\"\n",
        "    \n",
        "    ### BẮT ĐẦU CODE TỪ ĐÂY ### \n",
        "    num_individuals = len(pop)\n",
        "    indices = np.arange(num_individuals)\n",
        "    selected_indices = []\n",
        "    \n",
        "    while len(selected_indices) < selection_size:\n",
        "        # Đảo ngẫu nhiên thứ tự các cá thể trong quần thể.\n",
        "        np.random.shuffle(indices)\n",
        "        pool = [pop[idx] for idx in indices]\n",
        "        pool_fitness = [pop_fitness[idx] for idx in indices]\n",
        "        \n",
        "        for i in range(0, len(pop), tournament_size):\n",
        "            max_index = np.argmax(pool_fitness[i : i + tournament_size + 1])\n",
        "            selected_indices.append(i + max_index)\n",
        "    ### DỪNG CODE TẠI ĐÂY ###\n",
        "    \n",
        "    return selected_indices"
      ],
      "execution_count": 213,
      "outputs": []
    },
    {
      "cell_type": "code",
      "metadata": {
        "colab": {
          "base_uri": "https://localhost:8080/"
        },
        "id": "ZXIZVAay6PJ2",
        "outputId": "3102080b-cf90-42c4-eb0c-42d40be5a98b"
      },
      "source": [
        "tournament_selection(pop, pop_fitness, len(pop), 4)"
      ],
      "execution_count": 214,
      "outputs": [
        {
          "output_type": "execute_result",
          "data": {
            "text/plain": [
              "[0, 7, 3, 6, 2, 4, 4, 4]"
            ]
          },
          "metadata": {},
          "execution_count": 214
        }
      ]
    },
    {
      "cell_type": "code",
      "metadata": {
        "id": "Ge94BH6_mMLx"
      },
      "source": [
        "def variation( pop ):\n",
        "    \"\"\"\n",
        "    Hàm biến đổi tạo ra các cá thể con.\n",
        "    \n",
        "    Arguments:\n",
        "    pop -- Quàn thể hiện tại.\n",
        "\n",
        "    Returns:\n",
        "    offspring -- Quần thể chứa các cá thể con được sinh ra.\n",
        "    \"\"\"  \n",
        "    \n",
        "    ### BẮT ĐẦU CODE TỪ ĐÂY ### \n",
        "    num_individuals = len(pop)\n",
        "    num_parameters = len(pop[0])\n",
        "    indices = np.arange(num_individuals)\n",
        "    # Đảo ngẫu nhiên thứ tự các cá thể trong quần thể\n",
        "    np.random.shuffle(indices)\n",
        "    offspring = []\n",
        "    \n",
        "    for i in range(0, num_individuals, 2):\n",
        "        idx1 = indices[i]\n",
        "        idx2 = indices[i+1]\n",
        "        offspring1 = list(pop[idx1])\n",
        "        offspring2 = list(pop[idx2])\n",
        "        \n",
        "        # Cài đặt phép lai đồng nhất uniform crossover. \n",
        "        # Không cần cài đặt đột biến mutation.\n",
        "        for i in range(len(offspring1)):\n",
        "            tmp = random.uniform(0, 1)\n",
        "            if tmp <= 0.5:\n",
        "                offspring1[i], offspring2[i] = offspring2[i], offspring1[i]\n",
        "\n",
        "        offspring.append(offspring1)\n",
        "        offspring.append(offspring2)\n",
        "\n",
        "\n",
        "    ### DỪNG CODE TẠI ĐÂY ###\n",
        "    \n",
        "    offspring = np.array(offspring)\n",
        "    return offspring"
      ],
      "execution_count": 215,
      "outputs": []
    },
    {
      "cell_type": "code",
      "metadata": {
        "colab": {
          "base_uri": "https://localhost:8080/"
        },
        "id": "EpxUfX2p7oe0",
        "outputId": "0ccb050b-a7e3-4193-830e-a6ac745ecae7"
      },
      "source": [
        "variation(pop)"
      ],
      "execution_count": 216,
      "outputs": [
        {
          "output_type": "execute_result",
          "data": {
            "text/plain": [
              "array([[0, 0, 0, 1],\n",
              "       [0, 0, 0, 0],\n",
              "       [1, 0, 1, 0],\n",
              "       [1, 1, 0, 1],\n",
              "       [1, 1, 0, 0],\n",
              "       [0, 1, 0, 1],\n",
              "       [0, 0, 1, 1],\n",
              "       [1, 1, 1, 1]])"
            ]
          },
          "metadata": {},
          "execution_count": 216
        }
      ]
    },
    {
      "cell_type": "code",
      "metadata": {
        "id": "f48pgHskmMLy"
      },
      "source": [
        "def popop(num_individuals, num_parameters, num_generations):\n",
        "    \"\"\"\n",
        "    Hàm cài đặt thuật giải di truyền theo các bước P->O->(P+O)->P\n",
        "    \n",
        "    Arguments:\n",
        "    num_individuals -- Số lượng cá thể trong quần thể.\n",
        "    num_parameters -- Số lượng biến.\n",
        "    num_generations -- Số thế hệ thuật toán sẽ chạy.\n",
        "\n",
        "    Returns:\n",
        "    In ra quần thể ở thế hệ cuối cùng và giá trị của từng cá thể.\n",
        "    \"\"\" \n",
        "\n",
        "    ### BẮT ĐẦU CODE TỪ ĐÂY ### \n",
        "    # Khởi tạo quần thể\n",
        "    pop = initialize_population(num_individuals, num_parameters)\n",
        "    pop_fitness = evaluate_population(pop)\n",
        "    print(\"#Gen 0:\")\n",
        "    print(pop_fitness)\n",
        "    \n",
        "    # Sử dụng tournament_size 4 và selection_size là bằng kích thước quần thể\n",
        "    selection_size = len(pop)\n",
        "    tournament_size = 4\n",
        "\n",
        "    for i in range(num_generations):\n",
        "        # Tạo ra các cá thể con và đánh giá chúng\n",
        "        offspring = variation(pop)\n",
        "        offspring_fitness = evaluate_population(offspring)\n",
        "        \n",
        "        # Tạo ra quần thể pool gồm quần thể hiện tại pop và offspring\n",
        "        pool = np.vstack((pop,offspring))\n",
        "        pool_fitness = np.hstack((pop_fitness, offspring_fitness))\n",
        "\n",
        "        # Thực hiện tournament selection trên quần thể pool \n",
        "        pool_indices = tournament_selection(pop, pop_fitness, selection_size, tournament_size)\n",
        "\n",
        "        # Thay thế quần thể hiện tại bằng những cá thể được chọn ra từ pool.\n",
        "        pop = pool[pool_indices, :]\n",
        "        pop_fitness = pool_fitness[pool_indices]\n",
        "        print(\"#Gen {}:\".format(i+1))\n",
        "        print(pop_fitness)\n",
        "\n",
        "    ### DỪNG CODE TẠI ĐÂY ###\n",
        "    print(\"#Result:\")\n",
        "    print(pop)\n",
        "    print(pop_fitness)"
      ],
      "execution_count": 217,
      "outputs": []
    },
    {
      "cell_type": "code",
      "metadata": {
        "id": "9O1avjQKmML0",
        "colab": {
          "base_uri": "https://localhost:8080/"
        },
        "outputId": "4ec9e17e-48fa-4491-b0ff-e218c1ac0e6a"
      },
      "source": [
        "# Trường hợp kích thước quần thể là 4\n",
        "# np.random.seed(58)\n",
        "num_parameters = 20\n",
        "num_individuals = 4\n",
        "num_generations = 10\n",
        "popop(num_individuals, num_parameters, num_generations)"
      ],
      "execution_count": 221,
      "outputs": [
        {
          "output_type": "stream",
          "name": "stdout",
          "text": [
            "#Gen 0:\n",
            "[8, 11, 8, 10]\n",
            "#Gen 1:\n",
            "[ 8 10  8 10]\n",
            "#Gen 2:\n",
            "[10  8  8  8]\n",
            "#Gen 3:\n",
            "[8 8 8 8]\n",
            "#Gen 4:\n",
            "[8 8 8 8]\n",
            "#Gen 5:\n",
            "[8 8 8 8]\n",
            "#Gen 6:\n",
            "[8 8 8 8]\n",
            "#Gen 7:\n",
            "[8 8 8 8]\n",
            "#Gen 8:\n",
            "[8 8 8 8]\n",
            "#Gen 9:\n",
            "[8 8 8 8]\n",
            "#Gen 10:\n",
            "[8 8 8 8]\n",
            "#Result:\n",
            "[[1 0 1 1 0 1 0 0 0 0 1 0 1 0 0 1 0 0 1 0]\n",
            " [1 0 1 1 0 1 0 0 0 0 1 0 1 0 0 1 0 0 1 0]\n",
            " [1 0 1 1 0 1 0 0 0 0 1 0 1 0 0 1 0 0 1 0]\n",
            " [1 0 1 1 0 1 0 0 0 0 1 0 1 0 0 1 0 0 1 0]]\n",
            "[8 8 8 8]\n"
          ]
        }
      ]
    },
    {
      "cell_type": "code",
      "metadata": {
        "id": "WB7EvfcKmML1",
        "colab": {
          "base_uri": "https://localhost:8080/"
        },
        "outputId": "e3d09521-3b17-4e23-8cd3-13c2e532d1e0"
      },
      "source": [
        "# Trường hợp kích thước quần thể là 8\n",
        "np.random.seed(44)\n",
        "num_parameters = 4\n",
        "num_individuals = 8\n",
        "num_generations = 10\n",
        "popop(num_individuals, num_parameters, num_generations)"
      ],
      "execution_count": 234,
      "outputs": [
        {
          "output_type": "stream",
          "name": "stdout",
          "text": [
            "#Gen 0:\n",
            "[3, 2, 2, 3, 4, 2, 3, 2]\n",
            "#Gen 1:\n",
            "[2 4 3 4 2 4 2 2]\n",
            "#Gen 2:\n",
            "[4 2 4 2 2 4 3 2]\n",
            "#Gen 3:\n",
            "[2 4 4 2 2 4 4 2]\n",
            "#Gen 4:\n",
            "[4 2 4 4 2 4 2 2]\n",
            "#Gen 5:\n",
            "[4 4 2 2 4 2 4 4]\n",
            "#Gen 6:\n",
            "[4 4 4 4 4 4 4 4]\n",
            "#Gen 7:\n",
            "[4 4 4 4 4 4 4 4]\n",
            "#Gen 8:\n",
            "[4 4 4 4 4 4 4 4]\n",
            "#Gen 9:\n",
            "[4 4 4 4 4 4 4 4]\n",
            "#Gen 10:\n",
            "[4 4 4 4 4 4 4 4]\n",
            "#Result:\n",
            "[[1 1 1 1]\n",
            " [1 1 1 1]\n",
            " [1 1 1 1]\n",
            " [1 1 1 1]\n",
            " [1 1 1 1]\n",
            " [1 1 1 1]\n",
            " [1 1 1 1]\n",
            " [1 1 1 1]]\n",
            "[4 4 4 4 4 4 4 4]\n"
          ]
        }
      ]
    },
    {
      "cell_type": "code",
      "metadata": {
        "id": "wp149-CemML2",
        "colab": {
          "base_uri": "https://localhost:8080/"
        },
        "outputId": "d4328826-d7b9-41e1-846e-17e30ea66a9b"
      },
      "source": [
        "# Trường hợp kích thước quần thể là 16\n",
        "np.random.seed(59)\n",
        "num_parameters = 20\n",
        "num_individuals = 16\n",
        "num_generations = 10\n",
        "popop(num_individuals, num_parameters, num_generations)"
      ],
      "execution_count": 242,
      "outputs": [
        {
          "output_type": "stream",
          "name": "stdout",
          "text": [
            "#Gen 0:\n",
            "[14, 6, 13, 11, 10, 13, 8, 10, 11, 11, 11, 10, 11, 8, 8, 11]\n",
            "#Gen 1:\n",
            "[10 10 10 11 13  8 11 11  6  8 11  8 13  8 11  8]\n",
            "#Gen 2:\n",
            "[10  8  8 13 10  8 13 13 10 11  6 11 10 13  8  8]\n",
            "#Gen 3:\n",
            "[10 10  6 10  8 13  6 13 10 13  6 13  8  8 11 10]\n",
            "#Gen 4:\n",
            "[10 13 13 11  8  8 13 11 10  6 13  8 10  6 13 11]\n",
            "#Gen 5:\n",
            "[13 13 13 10 13 10 10 10 13  8  6 11 13  8 10 13]\n",
            "#Gen 6:\n",
            "[13 13 13  8 13 13 13 13 10 13 11 13 13 10 13 10]\n",
            "#Gen 7:\n",
            "[13 13 10 13 13 13 13 10 13 13 10 13 13 13 10 10]\n",
            "#Gen 8:\n",
            "[13 13 13 13 13 13 13 13 13 13 13 13 13 13 13 13]\n",
            "#Gen 9:\n",
            "[13 13 13 13 13 13 13 13 13 13 13 13 13 13 13 13]\n",
            "#Gen 10:\n",
            "[13 13 13 13 13 13 13 13 13 13 13 13 13 13 13 13]\n",
            "#Result:\n",
            "[[1 1 1 1 1 0 0 0 1 1 0 1 1 0 0 1 1 0 1 1]\n",
            " [1 1 1 1 1 0 0 0 1 1 0 1 1 0 0 1 1 0 1 1]\n",
            " [1 1 1 1 1 0 0 0 1 1 0 1 1 0 0 1 1 0 1 1]\n",
            " [1 1 1 1 1 0 0 0 1 1 0 1 1 0 0 1 1 0 1 1]\n",
            " [1 1 1 1 1 0 0 0 1 1 0 1 1 0 0 1 1 0 1 1]\n",
            " [1 1 1 1 1 0 0 0 1 1 0 1 1 0 0 1 1 0 1 1]\n",
            " [1 1 1 1 1 0 0 0 1 1 0 1 1 0 0 1 1 0 1 1]\n",
            " [1 1 1 1 1 0 0 0 1 1 0 1 1 0 0 1 1 0 1 1]\n",
            " [1 1 1 1 1 0 0 0 1 1 0 1 1 0 0 1 1 0 1 1]\n",
            " [1 1 1 1 1 0 0 0 1 1 0 1 1 0 0 1 1 0 1 1]\n",
            " [1 1 1 1 1 0 0 0 1 1 0 1 1 0 0 1 1 0 1 1]\n",
            " [1 1 1 1 1 0 0 0 1 1 0 1 1 0 0 1 1 0 1 1]\n",
            " [1 1 1 1 1 0 0 0 1 1 0 1 1 0 0 1 1 0 1 1]\n",
            " [1 1 1 1 1 0 0 0 1 1 0 1 1 0 0 1 1 0 1 1]\n",
            " [1 1 1 1 1 0 0 0 1 1 0 1 1 0 0 1 1 0 1 1]\n",
            " [1 1 1 1 1 0 0 0 1 1 0 1 1 0 0 1 1 0 1 1]]\n",
            "[13 13 13 13 13 13 13 13 13 13 13 13 13 13 13 13]\n"
          ]
        }
      ]
    }
  ]
}