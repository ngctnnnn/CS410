{
  "nbformat": 4,
  "nbformat_minor": 0,
  "metadata": {
    "colab": {
      "name": "Neural Network Pytorch.ipynb",
      "provenance": [],
      "collapsed_sections": [],
      "toc_visible": true
    },
    "kernelspec": {
      "name": "python3",
      "display_name": "Python 3"
    },
    "language_info": {
      "name": "python"
    },
    "accelerator": "GPU",
    "widgets": {
      "application/vnd.jupyter.widget-state+json": {
        "c46803c504f046ea83a1710508a0003b": {
          "model_module": "@jupyter-widgets/controls",
          "model_name": "HBoxModel",
          "model_module_version": "1.5.0",
          "state": {
            "_view_name": "HBoxView",
            "_dom_classes": [],
            "_model_name": "HBoxModel",
            "_view_module": "@jupyter-widgets/controls",
            "_model_module_version": "1.5.0",
            "_view_count": null,
            "_view_module_version": "1.5.0",
            "box_style": "",
            "layout": "IPY_MODEL_5e774c539420462ea0c032a8d3838965",
            "_model_module": "@jupyter-widgets/controls",
            "children": [
              "IPY_MODEL_d8190f779ece4b96909234bb282b5138",
              "IPY_MODEL_fb4e8e157b4b41f89357cac5c22744d5",
              "IPY_MODEL_fee554d80cbe4af5bdf815b1d8f7cd69"
            ]
          }
        },
        "5e774c539420462ea0c032a8d3838965": {
          "model_module": "@jupyter-widgets/base",
          "model_name": "LayoutModel",
          "model_module_version": "1.2.0",
          "state": {
            "_view_name": "LayoutView",
            "grid_template_rows": null,
            "right": null,
            "justify_content": null,
            "_view_module": "@jupyter-widgets/base",
            "overflow": null,
            "_model_module_version": "1.2.0",
            "_view_count": null,
            "flex_flow": null,
            "width": null,
            "min_width": null,
            "border": null,
            "align_items": null,
            "bottom": null,
            "_model_module": "@jupyter-widgets/base",
            "top": null,
            "grid_column": null,
            "overflow_y": null,
            "overflow_x": null,
            "grid_auto_flow": null,
            "grid_area": null,
            "grid_template_columns": null,
            "flex": null,
            "_model_name": "LayoutModel",
            "justify_items": null,
            "grid_row": null,
            "max_height": null,
            "align_content": null,
            "visibility": null,
            "align_self": null,
            "height": null,
            "min_height": null,
            "padding": null,
            "grid_auto_rows": null,
            "grid_gap": null,
            "max_width": null,
            "order": null,
            "_view_module_version": "1.2.0",
            "grid_template_areas": null,
            "object_position": null,
            "object_fit": null,
            "grid_auto_columns": null,
            "margin": null,
            "display": null,
            "left": null
          }
        },
        "d8190f779ece4b96909234bb282b5138": {
          "model_module": "@jupyter-widgets/controls",
          "model_name": "HTMLModel",
          "model_module_version": "1.5.0",
          "state": {
            "_view_name": "HTMLView",
            "style": "IPY_MODEL_698f5dd9f26446dc9e45259da4491bce",
            "_dom_classes": [],
            "description": "",
            "_model_name": "HTMLModel",
            "placeholder": "​",
            "_view_module": "@jupyter-widgets/controls",
            "_model_module_version": "1.5.0",
            "value": "",
            "_view_count": null,
            "_view_module_version": "1.5.0",
            "description_tooltip": null,
            "_model_module": "@jupyter-widgets/controls",
            "layout": "IPY_MODEL_fd781a30dbb04759813d587aeec55ca8"
          }
        },
        "fb4e8e157b4b41f89357cac5c22744d5": {
          "model_module": "@jupyter-widgets/controls",
          "model_name": "FloatProgressModel",
          "model_module_version": "1.5.0",
          "state": {
            "_view_name": "ProgressView",
            "style": "IPY_MODEL_ec58c3772acc4e53873083a8220a7d8a",
            "_dom_classes": [],
            "description": "",
            "_model_name": "FloatProgressModel",
            "bar_style": "success",
            "max": 26421880,
            "_view_module": "@jupyter-widgets/controls",
            "_model_module_version": "1.5.0",
            "value": 26421880,
            "_view_count": null,
            "_view_module_version": "1.5.0",
            "orientation": "horizontal",
            "min": 0,
            "description_tooltip": null,
            "_model_module": "@jupyter-widgets/controls",
            "layout": "IPY_MODEL_63c5f4804a474ac383bfe2dc3517cc0f"
          }
        },
        "fee554d80cbe4af5bdf815b1d8f7cd69": {
          "model_module": "@jupyter-widgets/controls",
          "model_name": "HTMLModel",
          "model_module_version": "1.5.0",
          "state": {
            "_view_name": "HTMLView",
            "style": "IPY_MODEL_997962b586c44bd887631976cb8e1a63",
            "_dom_classes": [],
            "description": "",
            "_model_name": "HTMLModel",
            "placeholder": "​",
            "_view_module": "@jupyter-widgets/controls",
            "_model_module_version": "1.5.0",
            "value": " 26422272/? [00:04&lt;00:00, 8266236.90it/s]",
            "_view_count": null,
            "_view_module_version": "1.5.0",
            "description_tooltip": null,
            "_model_module": "@jupyter-widgets/controls",
            "layout": "IPY_MODEL_678bf1dfa13840fa8be0289b033303ba"
          }
        },
        "698f5dd9f26446dc9e45259da4491bce": {
          "model_module": "@jupyter-widgets/controls",
          "model_name": "DescriptionStyleModel",
          "model_module_version": "1.5.0",
          "state": {
            "_view_name": "StyleView",
            "_model_name": "DescriptionStyleModel",
            "description_width": "",
            "_view_module": "@jupyter-widgets/base",
            "_model_module_version": "1.5.0",
            "_view_count": null,
            "_view_module_version": "1.2.0",
            "_model_module": "@jupyter-widgets/controls"
          }
        },
        "fd781a30dbb04759813d587aeec55ca8": {
          "model_module": "@jupyter-widgets/base",
          "model_name": "LayoutModel",
          "model_module_version": "1.2.0",
          "state": {
            "_view_name": "LayoutView",
            "grid_template_rows": null,
            "right": null,
            "justify_content": null,
            "_view_module": "@jupyter-widgets/base",
            "overflow": null,
            "_model_module_version": "1.2.0",
            "_view_count": null,
            "flex_flow": null,
            "width": null,
            "min_width": null,
            "border": null,
            "align_items": null,
            "bottom": null,
            "_model_module": "@jupyter-widgets/base",
            "top": null,
            "grid_column": null,
            "overflow_y": null,
            "overflow_x": null,
            "grid_auto_flow": null,
            "grid_area": null,
            "grid_template_columns": null,
            "flex": null,
            "_model_name": "LayoutModel",
            "justify_items": null,
            "grid_row": null,
            "max_height": null,
            "align_content": null,
            "visibility": null,
            "align_self": null,
            "height": null,
            "min_height": null,
            "padding": null,
            "grid_auto_rows": null,
            "grid_gap": null,
            "max_width": null,
            "order": null,
            "_view_module_version": "1.2.0",
            "grid_template_areas": null,
            "object_position": null,
            "object_fit": null,
            "grid_auto_columns": null,
            "margin": null,
            "display": null,
            "left": null
          }
        },
        "ec58c3772acc4e53873083a8220a7d8a": {
          "model_module": "@jupyter-widgets/controls",
          "model_name": "ProgressStyleModel",
          "model_module_version": "1.5.0",
          "state": {
            "_view_name": "StyleView",
            "_model_name": "ProgressStyleModel",
            "description_width": "",
            "_view_module": "@jupyter-widgets/base",
            "_model_module_version": "1.5.0",
            "_view_count": null,
            "_view_module_version": "1.2.0",
            "bar_color": null,
            "_model_module": "@jupyter-widgets/controls"
          }
        },
        "63c5f4804a474ac383bfe2dc3517cc0f": {
          "model_module": "@jupyter-widgets/base",
          "model_name": "LayoutModel",
          "model_module_version": "1.2.0",
          "state": {
            "_view_name": "LayoutView",
            "grid_template_rows": null,
            "right": null,
            "justify_content": null,
            "_view_module": "@jupyter-widgets/base",
            "overflow": null,
            "_model_module_version": "1.2.0",
            "_view_count": null,
            "flex_flow": null,
            "width": null,
            "min_width": null,
            "border": null,
            "align_items": null,
            "bottom": null,
            "_model_module": "@jupyter-widgets/base",
            "top": null,
            "grid_column": null,
            "overflow_y": null,
            "overflow_x": null,
            "grid_auto_flow": null,
            "grid_area": null,
            "grid_template_columns": null,
            "flex": null,
            "_model_name": "LayoutModel",
            "justify_items": null,
            "grid_row": null,
            "max_height": null,
            "align_content": null,
            "visibility": null,
            "align_self": null,
            "height": null,
            "min_height": null,
            "padding": null,
            "grid_auto_rows": null,
            "grid_gap": null,
            "max_width": null,
            "order": null,
            "_view_module_version": "1.2.0",
            "grid_template_areas": null,
            "object_position": null,
            "object_fit": null,
            "grid_auto_columns": null,
            "margin": null,
            "display": null,
            "left": null
          }
        },
        "997962b586c44bd887631976cb8e1a63": {
          "model_module": "@jupyter-widgets/controls",
          "model_name": "DescriptionStyleModel",
          "model_module_version": "1.5.0",
          "state": {
            "_view_name": "StyleView",
            "_model_name": "DescriptionStyleModel",
            "description_width": "",
            "_view_module": "@jupyter-widgets/base",
            "_model_module_version": "1.5.0",
            "_view_count": null,
            "_view_module_version": "1.2.0",
            "_model_module": "@jupyter-widgets/controls"
          }
        },
        "678bf1dfa13840fa8be0289b033303ba": {
          "model_module": "@jupyter-widgets/base",
          "model_name": "LayoutModel",
          "model_module_version": "1.2.0",
          "state": {
            "_view_name": "LayoutView",
            "grid_template_rows": null,
            "right": null,
            "justify_content": null,
            "_view_module": "@jupyter-widgets/base",
            "overflow": null,
            "_model_module_version": "1.2.0",
            "_view_count": null,
            "flex_flow": null,
            "width": null,
            "min_width": null,
            "border": null,
            "align_items": null,
            "bottom": null,
            "_model_module": "@jupyter-widgets/base",
            "top": null,
            "grid_column": null,
            "overflow_y": null,
            "overflow_x": null,
            "grid_auto_flow": null,
            "grid_area": null,
            "grid_template_columns": null,
            "flex": null,
            "_model_name": "LayoutModel",
            "justify_items": null,
            "grid_row": null,
            "max_height": null,
            "align_content": null,
            "visibility": null,
            "align_self": null,
            "height": null,
            "min_height": null,
            "padding": null,
            "grid_auto_rows": null,
            "grid_gap": null,
            "max_width": null,
            "order": null,
            "_view_module_version": "1.2.0",
            "grid_template_areas": null,
            "object_position": null,
            "object_fit": null,
            "grid_auto_columns": null,
            "margin": null,
            "display": null,
            "left": null
          }
        },
        "9ffcf44e9ce446c39eef368dd2e1a44f": {
          "model_module": "@jupyter-widgets/controls",
          "model_name": "HBoxModel",
          "model_module_version": "1.5.0",
          "state": {
            "_view_name": "HBoxView",
            "_dom_classes": [],
            "_model_name": "HBoxModel",
            "_view_module": "@jupyter-widgets/controls",
            "_model_module_version": "1.5.0",
            "_view_count": null,
            "_view_module_version": "1.5.0",
            "box_style": "",
            "layout": "IPY_MODEL_05217e799838460eb0ee06ab70db48c8",
            "_model_module": "@jupyter-widgets/controls",
            "children": [
              "IPY_MODEL_3664b0ec1ce946a6933f51a66725e5b9",
              "IPY_MODEL_fbc255dc7882436db38540360a182461",
              "IPY_MODEL_d5a01c72fcb34b43a37a4b345c1992cb"
            ]
          }
        },
        "05217e799838460eb0ee06ab70db48c8": {
          "model_module": "@jupyter-widgets/base",
          "model_name": "LayoutModel",
          "model_module_version": "1.2.0",
          "state": {
            "_view_name": "LayoutView",
            "grid_template_rows": null,
            "right": null,
            "justify_content": null,
            "_view_module": "@jupyter-widgets/base",
            "overflow": null,
            "_model_module_version": "1.2.0",
            "_view_count": null,
            "flex_flow": null,
            "width": null,
            "min_width": null,
            "border": null,
            "align_items": null,
            "bottom": null,
            "_model_module": "@jupyter-widgets/base",
            "top": null,
            "grid_column": null,
            "overflow_y": null,
            "overflow_x": null,
            "grid_auto_flow": null,
            "grid_area": null,
            "grid_template_columns": null,
            "flex": null,
            "_model_name": "LayoutModel",
            "justify_items": null,
            "grid_row": null,
            "max_height": null,
            "align_content": null,
            "visibility": null,
            "align_self": null,
            "height": null,
            "min_height": null,
            "padding": null,
            "grid_auto_rows": null,
            "grid_gap": null,
            "max_width": null,
            "order": null,
            "_view_module_version": "1.2.0",
            "grid_template_areas": null,
            "object_position": null,
            "object_fit": null,
            "grid_auto_columns": null,
            "margin": null,
            "display": null,
            "left": null
          }
        },
        "3664b0ec1ce946a6933f51a66725e5b9": {
          "model_module": "@jupyter-widgets/controls",
          "model_name": "HTMLModel",
          "model_module_version": "1.5.0",
          "state": {
            "_view_name": "HTMLView",
            "style": "IPY_MODEL_0d51e19107cc40349c48707f98a1543d",
            "_dom_classes": [],
            "description": "",
            "_model_name": "HTMLModel",
            "placeholder": "​",
            "_view_module": "@jupyter-widgets/controls",
            "_model_module_version": "1.5.0",
            "value": "",
            "_view_count": null,
            "_view_module_version": "1.5.0",
            "description_tooltip": null,
            "_model_module": "@jupyter-widgets/controls",
            "layout": "IPY_MODEL_a8700c98618346c68c04a9a0b184a29c"
          }
        },
        "fbc255dc7882436db38540360a182461": {
          "model_module": "@jupyter-widgets/controls",
          "model_name": "FloatProgressModel",
          "model_module_version": "1.5.0",
          "state": {
            "_view_name": "ProgressView",
            "style": "IPY_MODEL_517db2a266364b3e82f42a97b79a9d4d",
            "_dom_classes": [],
            "description": "",
            "_model_name": "FloatProgressModel",
            "bar_style": "success",
            "max": 29515,
            "_view_module": "@jupyter-widgets/controls",
            "_model_module_version": "1.5.0",
            "value": 29515,
            "_view_count": null,
            "_view_module_version": "1.5.0",
            "orientation": "horizontal",
            "min": 0,
            "description_tooltip": null,
            "_model_module": "@jupyter-widgets/controls",
            "layout": "IPY_MODEL_72ee15a3c06b406088f8ec4969cfc23e"
          }
        },
        "d5a01c72fcb34b43a37a4b345c1992cb": {
          "model_module": "@jupyter-widgets/controls",
          "model_name": "HTMLModel",
          "model_module_version": "1.5.0",
          "state": {
            "_view_name": "HTMLView",
            "style": "IPY_MODEL_7229de12835a4841b618162fc65ab9ab",
            "_dom_classes": [],
            "description": "",
            "_model_name": "HTMLModel",
            "placeholder": "​",
            "_view_module": "@jupyter-widgets/controls",
            "_model_module_version": "1.5.0",
            "value": " 29696/? [00:00&lt;00:00, 55585.43it/s]",
            "_view_count": null,
            "_view_module_version": "1.5.0",
            "description_tooltip": null,
            "_model_module": "@jupyter-widgets/controls",
            "layout": "IPY_MODEL_63dafdaba4184983841af55404510092"
          }
        },
        "0d51e19107cc40349c48707f98a1543d": {
          "model_module": "@jupyter-widgets/controls",
          "model_name": "DescriptionStyleModel",
          "model_module_version": "1.5.0",
          "state": {
            "_view_name": "StyleView",
            "_model_name": "DescriptionStyleModel",
            "description_width": "",
            "_view_module": "@jupyter-widgets/base",
            "_model_module_version": "1.5.0",
            "_view_count": null,
            "_view_module_version": "1.2.0",
            "_model_module": "@jupyter-widgets/controls"
          }
        },
        "a8700c98618346c68c04a9a0b184a29c": {
          "model_module": "@jupyter-widgets/base",
          "model_name": "LayoutModel",
          "model_module_version": "1.2.0",
          "state": {
            "_view_name": "LayoutView",
            "grid_template_rows": null,
            "right": null,
            "justify_content": null,
            "_view_module": "@jupyter-widgets/base",
            "overflow": null,
            "_model_module_version": "1.2.0",
            "_view_count": null,
            "flex_flow": null,
            "width": null,
            "min_width": null,
            "border": null,
            "align_items": null,
            "bottom": null,
            "_model_module": "@jupyter-widgets/base",
            "top": null,
            "grid_column": null,
            "overflow_y": null,
            "overflow_x": null,
            "grid_auto_flow": null,
            "grid_area": null,
            "grid_template_columns": null,
            "flex": null,
            "_model_name": "LayoutModel",
            "justify_items": null,
            "grid_row": null,
            "max_height": null,
            "align_content": null,
            "visibility": null,
            "align_self": null,
            "height": null,
            "min_height": null,
            "padding": null,
            "grid_auto_rows": null,
            "grid_gap": null,
            "max_width": null,
            "order": null,
            "_view_module_version": "1.2.0",
            "grid_template_areas": null,
            "object_position": null,
            "object_fit": null,
            "grid_auto_columns": null,
            "margin": null,
            "display": null,
            "left": null
          }
        },
        "517db2a266364b3e82f42a97b79a9d4d": {
          "model_module": "@jupyter-widgets/controls",
          "model_name": "ProgressStyleModel",
          "model_module_version": "1.5.0",
          "state": {
            "_view_name": "StyleView",
            "_model_name": "ProgressStyleModel",
            "description_width": "",
            "_view_module": "@jupyter-widgets/base",
            "_model_module_version": "1.5.0",
            "_view_count": null,
            "_view_module_version": "1.2.0",
            "bar_color": null,
            "_model_module": "@jupyter-widgets/controls"
          }
        },
        "72ee15a3c06b406088f8ec4969cfc23e": {
          "model_module": "@jupyter-widgets/base",
          "model_name": "LayoutModel",
          "model_module_version": "1.2.0",
          "state": {
            "_view_name": "LayoutView",
            "grid_template_rows": null,
            "right": null,
            "justify_content": null,
            "_view_module": "@jupyter-widgets/base",
            "overflow": null,
            "_model_module_version": "1.2.0",
            "_view_count": null,
            "flex_flow": null,
            "width": null,
            "min_width": null,
            "border": null,
            "align_items": null,
            "bottom": null,
            "_model_module": "@jupyter-widgets/base",
            "top": null,
            "grid_column": null,
            "overflow_y": null,
            "overflow_x": null,
            "grid_auto_flow": null,
            "grid_area": null,
            "grid_template_columns": null,
            "flex": null,
            "_model_name": "LayoutModel",
            "justify_items": null,
            "grid_row": null,
            "max_height": null,
            "align_content": null,
            "visibility": null,
            "align_self": null,
            "height": null,
            "min_height": null,
            "padding": null,
            "grid_auto_rows": null,
            "grid_gap": null,
            "max_width": null,
            "order": null,
            "_view_module_version": "1.2.0",
            "grid_template_areas": null,
            "object_position": null,
            "object_fit": null,
            "grid_auto_columns": null,
            "margin": null,
            "display": null,
            "left": null
          }
        },
        "7229de12835a4841b618162fc65ab9ab": {
          "model_module": "@jupyter-widgets/controls",
          "model_name": "DescriptionStyleModel",
          "model_module_version": "1.5.0",
          "state": {
            "_view_name": "StyleView",
            "_model_name": "DescriptionStyleModel",
            "description_width": "",
            "_view_module": "@jupyter-widgets/base",
            "_model_module_version": "1.5.0",
            "_view_count": null,
            "_view_module_version": "1.2.0",
            "_model_module": "@jupyter-widgets/controls"
          }
        },
        "63dafdaba4184983841af55404510092": {
          "model_module": "@jupyter-widgets/base",
          "model_name": "LayoutModel",
          "model_module_version": "1.2.0",
          "state": {
            "_view_name": "LayoutView",
            "grid_template_rows": null,
            "right": null,
            "justify_content": null,
            "_view_module": "@jupyter-widgets/base",
            "overflow": null,
            "_model_module_version": "1.2.0",
            "_view_count": null,
            "flex_flow": null,
            "width": null,
            "min_width": null,
            "border": null,
            "align_items": null,
            "bottom": null,
            "_model_module": "@jupyter-widgets/base",
            "top": null,
            "grid_column": null,
            "overflow_y": null,
            "overflow_x": null,
            "grid_auto_flow": null,
            "grid_area": null,
            "grid_template_columns": null,
            "flex": null,
            "_model_name": "LayoutModel",
            "justify_items": null,
            "grid_row": null,
            "max_height": null,
            "align_content": null,
            "visibility": null,
            "align_self": null,
            "height": null,
            "min_height": null,
            "padding": null,
            "grid_auto_rows": null,
            "grid_gap": null,
            "max_width": null,
            "order": null,
            "_view_module_version": "1.2.0",
            "grid_template_areas": null,
            "object_position": null,
            "object_fit": null,
            "grid_auto_columns": null,
            "margin": null,
            "display": null,
            "left": null
          }
        },
        "0482c9e910e040dab793d3aededa42a7": {
          "model_module": "@jupyter-widgets/controls",
          "model_name": "HBoxModel",
          "model_module_version": "1.5.0",
          "state": {
            "_view_name": "HBoxView",
            "_dom_classes": [],
            "_model_name": "HBoxModel",
            "_view_module": "@jupyter-widgets/controls",
            "_model_module_version": "1.5.0",
            "_view_count": null,
            "_view_module_version": "1.5.0",
            "box_style": "",
            "layout": "IPY_MODEL_a7532bbbbed04c99aee1b8dffeeaa13f",
            "_model_module": "@jupyter-widgets/controls",
            "children": [
              "IPY_MODEL_9648fe992fb1436c8d310afd09a4ea79",
              "IPY_MODEL_56b926d2e4844177836bd4320b632122",
              "IPY_MODEL_6a3e3f08e58c4336ab416da35841c497"
            ]
          }
        },
        "a7532bbbbed04c99aee1b8dffeeaa13f": {
          "model_module": "@jupyter-widgets/base",
          "model_name": "LayoutModel",
          "model_module_version": "1.2.0",
          "state": {
            "_view_name": "LayoutView",
            "grid_template_rows": null,
            "right": null,
            "justify_content": null,
            "_view_module": "@jupyter-widgets/base",
            "overflow": null,
            "_model_module_version": "1.2.0",
            "_view_count": null,
            "flex_flow": null,
            "width": null,
            "min_width": null,
            "border": null,
            "align_items": null,
            "bottom": null,
            "_model_module": "@jupyter-widgets/base",
            "top": null,
            "grid_column": null,
            "overflow_y": null,
            "overflow_x": null,
            "grid_auto_flow": null,
            "grid_area": null,
            "grid_template_columns": null,
            "flex": null,
            "_model_name": "LayoutModel",
            "justify_items": null,
            "grid_row": null,
            "max_height": null,
            "align_content": null,
            "visibility": null,
            "align_self": null,
            "height": null,
            "min_height": null,
            "padding": null,
            "grid_auto_rows": null,
            "grid_gap": null,
            "max_width": null,
            "order": null,
            "_view_module_version": "1.2.0",
            "grid_template_areas": null,
            "object_position": null,
            "object_fit": null,
            "grid_auto_columns": null,
            "margin": null,
            "display": null,
            "left": null
          }
        },
        "9648fe992fb1436c8d310afd09a4ea79": {
          "model_module": "@jupyter-widgets/controls",
          "model_name": "HTMLModel",
          "model_module_version": "1.5.0",
          "state": {
            "_view_name": "HTMLView",
            "style": "IPY_MODEL_861595f78c90408bb294a439ac94d235",
            "_dom_classes": [],
            "description": "",
            "_model_name": "HTMLModel",
            "placeholder": "​",
            "_view_module": "@jupyter-widgets/controls",
            "_model_module_version": "1.5.0",
            "value": "",
            "_view_count": null,
            "_view_module_version": "1.5.0",
            "description_tooltip": null,
            "_model_module": "@jupyter-widgets/controls",
            "layout": "IPY_MODEL_13dc298ee40a4c4abc24ed3977353831"
          }
        },
        "56b926d2e4844177836bd4320b632122": {
          "model_module": "@jupyter-widgets/controls",
          "model_name": "FloatProgressModel",
          "model_module_version": "1.5.0",
          "state": {
            "_view_name": "ProgressView",
            "style": "IPY_MODEL_28503840f8ac471cb1c43ae636da1436",
            "_dom_classes": [],
            "description": "",
            "_model_name": "FloatProgressModel",
            "bar_style": "success",
            "max": 4422102,
            "_view_module": "@jupyter-widgets/controls",
            "_model_module_version": "1.5.0",
            "value": 4422102,
            "_view_count": null,
            "_view_module_version": "1.5.0",
            "orientation": "horizontal",
            "min": 0,
            "description_tooltip": null,
            "_model_module": "@jupyter-widgets/controls",
            "layout": "IPY_MODEL_897d2d30df0d48f9a3aee7a66b3f9732"
          }
        },
        "6a3e3f08e58c4336ab416da35841c497": {
          "model_module": "@jupyter-widgets/controls",
          "model_name": "HTMLModel",
          "model_module_version": "1.5.0",
          "state": {
            "_view_name": "HTMLView",
            "style": "IPY_MODEL_70b5678cc7604738ac41a3c944f453ff",
            "_dom_classes": [],
            "description": "",
            "_model_name": "HTMLModel",
            "placeholder": "​",
            "_view_module": "@jupyter-widgets/controls",
            "_model_module_version": "1.5.0",
            "value": " 4422656/? [00:02&lt;00:00, 3002949.96it/s]",
            "_view_count": null,
            "_view_module_version": "1.5.0",
            "description_tooltip": null,
            "_model_module": "@jupyter-widgets/controls",
            "layout": "IPY_MODEL_838526fc383e48c189617ad8b509e379"
          }
        },
        "861595f78c90408bb294a439ac94d235": {
          "model_module": "@jupyter-widgets/controls",
          "model_name": "DescriptionStyleModel",
          "model_module_version": "1.5.0",
          "state": {
            "_view_name": "StyleView",
            "_model_name": "DescriptionStyleModel",
            "description_width": "",
            "_view_module": "@jupyter-widgets/base",
            "_model_module_version": "1.5.0",
            "_view_count": null,
            "_view_module_version": "1.2.0",
            "_model_module": "@jupyter-widgets/controls"
          }
        },
        "13dc298ee40a4c4abc24ed3977353831": {
          "model_module": "@jupyter-widgets/base",
          "model_name": "LayoutModel",
          "model_module_version": "1.2.0",
          "state": {
            "_view_name": "LayoutView",
            "grid_template_rows": null,
            "right": null,
            "justify_content": null,
            "_view_module": "@jupyter-widgets/base",
            "overflow": null,
            "_model_module_version": "1.2.0",
            "_view_count": null,
            "flex_flow": null,
            "width": null,
            "min_width": null,
            "border": null,
            "align_items": null,
            "bottom": null,
            "_model_module": "@jupyter-widgets/base",
            "top": null,
            "grid_column": null,
            "overflow_y": null,
            "overflow_x": null,
            "grid_auto_flow": null,
            "grid_area": null,
            "grid_template_columns": null,
            "flex": null,
            "_model_name": "LayoutModel",
            "justify_items": null,
            "grid_row": null,
            "max_height": null,
            "align_content": null,
            "visibility": null,
            "align_self": null,
            "height": null,
            "min_height": null,
            "padding": null,
            "grid_auto_rows": null,
            "grid_gap": null,
            "max_width": null,
            "order": null,
            "_view_module_version": "1.2.0",
            "grid_template_areas": null,
            "object_position": null,
            "object_fit": null,
            "grid_auto_columns": null,
            "margin": null,
            "display": null,
            "left": null
          }
        },
        "28503840f8ac471cb1c43ae636da1436": {
          "model_module": "@jupyter-widgets/controls",
          "model_name": "ProgressStyleModel",
          "model_module_version": "1.5.0",
          "state": {
            "_view_name": "StyleView",
            "_model_name": "ProgressStyleModel",
            "description_width": "",
            "_view_module": "@jupyter-widgets/base",
            "_model_module_version": "1.5.0",
            "_view_count": null,
            "_view_module_version": "1.2.0",
            "bar_color": null,
            "_model_module": "@jupyter-widgets/controls"
          }
        },
        "897d2d30df0d48f9a3aee7a66b3f9732": {
          "model_module": "@jupyter-widgets/base",
          "model_name": "LayoutModel",
          "model_module_version": "1.2.0",
          "state": {
            "_view_name": "LayoutView",
            "grid_template_rows": null,
            "right": null,
            "justify_content": null,
            "_view_module": "@jupyter-widgets/base",
            "overflow": null,
            "_model_module_version": "1.2.0",
            "_view_count": null,
            "flex_flow": null,
            "width": null,
            "min_width": null,
            "border": null,
            "align_items": null,
            "bottom": null,
            "_model_module": "@jupyter-widgets/base",
            "top": null,
            "grid_column": null,
            "overflow_y": null,
            "overflow_x": null,
            "grid_auto_flow": null,
            "grid_area": null,
            "grid_template_columns": null,
            "flex": null,
            "_model_name": "LayoutModel",
            "justify_items": null,
            "grid_row": null,
            "max_height": null,
            "align_content": null,
            "visibility": null,
            "align_self": null,
            "height": null,
            "min_height": null,
            "padding": null,
            "grid_auto_rows": null,
            "grid_gap": null,
            "max_width": null,
            "order": null,
            "_view_module_version": "1.2.0",
            "grid_template_areas": null,
            "object_position": null,
            "object_fit": null,
            "grid_auto_columns": null,
            "margin": null,
            "display": null,
            "left": null
          }
        },
        "70b5678cc7604738ac41a3c944f453ff": {
          "model_module": "@jupyter-widgets/controls",
          "model_name": "DescriptionStyleModel",
          "model_module_version": "1.5.0",
          "state": {
            "_view_name": "StyleView",
            "_model_name": "DescriptionStyleModel",
            "description_width": "",
            "_view_module": "@jupyter-widgets/base",
            "_model_module_version": "1.5.0",
            "_view_count": null,
            "_view_module_version": "1.2.0",
            "_model_module": "@jupyter-widgets/controls"
          }
        },
        "838526fc383e48c189617ad8b509e379": {
          "model_module": "@jupyter-widgets/base",
          "model_name": "LayoutModel",
          "model_module_version": "1.2.0",
          "state": {
            "_view_name": "LayoutView",
            "grid_template_rows": null,
            "right": null,
            "justify_content": null,
            "_view_module": "@jupyter-widgets/base",
            "overflow": null,
            "_model_module_version": "1.2.0",
            "_view_count": null,
            "flex_flow": null,
            "width": null,
            "min_width": null,
            "border": null,
            "align_items": null,
            "bottom": null,
            "_model_module": "@jupyter-widgets/base",
            "top": null,
            "grid_column": null,
            "overflow_y": null,
            "overflow_x": null,
            "grid_auto_flow": null,
            "grid_area": null,
            "grid_template_columns": null,
            "flex": null,
            "_model_name": "LayoutModel",
            "justify_items": null,
            "grid_row": null,
            "max_height": null,
            "align_content": null,
            "visibility": null,
            "align_self": null,
            "height": null,
            "min_height": null,
            "padding": null,
            "grid_auto_rows": null,
            "grid_gap": null,
            "max_width": null,
            "order": null,
            "_view_module_version": "1.2.0",
            "grid_template_areas": null,
            "object_position": null,
            "object_fit": null,
            "grid_auto_columns": null,
            "margin": null,
            "display": null,
            "left": null
          }
        },
        "b773532ddccc4c7a9123aa2c05d248e9": {
          "model_module": "@jupyter-widgets/controls",
          "model_name": "HBoxModel",
          "model_module_version": "1.5.0",
          "state": {
            "_view_name": "HBoxView",
            "_dom_classes": [],
            "_model_name": "HBoxModel",
            "_view_module": "@jupyter-widgets/controls",
            "_model_module_version": "1.5.0",
            "_view_count": null,
            "_view_module_version": "1.5.0",
            "box_style": "",
            "layout": "IPY_MODEL_8654d9859739440ebf47561ef3f02726",
            "_model_module": "@jupyter-widgets/controls",
            "children": [
              "IPY_MODEL_7eb81909acd54664970e9fc7224eeea7",
              "IPY_MODEL_9c80a654b77c495ab521eb8e8662cd14",
              "IPY_MODEL_c4d644270207498f892983eff18ad747"
            ]
          }
        },
        "8654d9859739440ebf47561ef3f02726": {
          "model_module": "@jupyter-widgets/base",
          "model_name": "LayoutModel",
          "model_module_version": "1.2.0",
          "state": {
            "_view_name": "LayoutView",
            "grid_template_rows": null,
            "right": null,
            "justify_content": null,
            "_view_module": "@jupyter-widgets/base",
            "overflow": null,
            "_model_module_version": "1.2.0",
            "_view_count": null,
            "flex_flow": null,
            "width": null,
            "min_width": null,
            "border": null,
            "align_items": null,
            "bottom": null,
            "_model_module": "@jupyter-widgets/base",
            "top": null,
            "grid_column": null,
            "overflow_y": null,
            "overflow_x": null,
            "grid_auto_flow": null,
            "grid_area": null,
            "grid_template_columns": null,
            "flex": null,
            "_model_name": "LayoutModel",
            "justify_items": null,
            "grid_row": null,
            "max_height": null,
            "align_content": null,
            "visibility": null,
            "align_self": null,
            "height": null,
            "min_height": null,
            "padding": null,
            "grid_auto_rows": null,
            "grid_gap": null,
            "max_width": null,
            "order": null,
            "_view_module_version": "1.2.0",
            "grid_template_areas": null,
            "object_position": null,
            "object_fit": null,
            "grid_auto_columns": null,
            "margin": null,
            "display": null,
            "left": null
          }
        },
        "7eb81909acd54664970e9fc7224eeea7": {
          "model_module": "@jupyter-widgets/controls",
          "model_name": "HTMLModel",
          "model_module_version": "1.5.0",
          "state": {
            "_view_name": "HTMLView",
            "style": "IPY_MODEL_b9e9e21ec09747178853e02be2a6e9b4",
            "_dom_classes": [],
            "description": "",
            "_model_name": "HTMLModel",
            "placeholder": "​",
            "_view_module": "@jupyter-widgets/controls",
            "_model_module_version": "1.5.0",
            "value": "",
            "_view_count": null,
            "_view_module_version": "1.5.0",
            "description_tooltip": null,
            "_model_module": "@jupyter-widgets/controls",
            "layout": "IPY_MODEL_c17cd4e8024e4b6eaa7368ed65dd0df7"
          }
        },
        "9c80a654b77c495ab521eb8e8662cd14": {
          "model_module": "@jupyter-widgets/controls",
          "model_name": "FloatProgressModel",
          "model_module_version": "1.5.0",
          "state": {
            "_view_name": "ProgressView",
            "style": "IPY_MODEL_2f0d9a8ec86349c4b48653bdf18c26ae",
            "_dom_classes": [],
            "description": "",
            "_model_name": "FloatProgressModel",
            "bar_style": "success",
            "max": 5148,
            "_view_module": "@jupyter-widgets/controls",
            "_model_module_version": "1.5.0",
            "value": 5148,
            "_view_count": null,
            "_view_module_version": "1.5.0",
            "orientation": "horizontal",
            "min": 0,
            "description_tooltip": null,
            "_model_module": "@jupyter-widgets/controls",
            "layout": "IPY_MODEL_3192b6caf7ff4de882aabd60a60f3cf5"
          }
        },
        "c4d644270207498f892983eff18ad747": {
          "model_module": "@jupyter-widgets/controls",
          "model_name": "HTMLModel",
          "model_module_version": "1.5.0",
          "state": {
            "_view_name": "HTMLView",
            "style": "IPY_MODEL_2405a406c75043319c7e607afb07f2e4",
            "_dom_classes": [],
            "description": "",
            "_model_name": "HTMLModel",
            "placeholder": "​",
            "_view_module": "@jupyter-widgets/controls",
            "_model_module_version": "1.5.0",
            "value": " 6144/? [00:00&lt;00:00, 160106.64it/s]",
            "_view_count": null,
            "_view_module_version": "1.5.0",
            "description_tooltip": null,
            "_model_module": "@jupyter-widgets/controls",
            "layout": "IPY_MODEL_74315b9001624a839f3f27d4a9d26759"
          }
        },
        "b9e9e21ec09747178853e02be2a6e9b4": {
          "model_module": "@jupyter-widgets/controls",
          "model_name": "DescriptionStyleModel",
          "model_module_version": "1.5.0",
          "state": {
            "_view_name": "StyleView",
            "_model_name": "DescriptionStyleModel",
            "description_width": "",
            "_view_module": "@jupyter-widgets/base",
            "_model_module_version": "1.5.0",
            "_view_count": null,
            "_view_module_version": "1.2.0",
            "_model_module": "@jupyter-widgets/controls"
          }
        },
        "c17cd4e8024e4b6eaa7368ed65dd0df7": {
          "model_module": "@jupyter-widgets/base",
          "model_name": "LayoutModel",
          "model_module_version": "1.2.0",
          "state": {
            "_view_name": "LayoutView",
            "grid_template_rows": null,
            "right": null,
            "justify_content": null,
            "_view_module": "@jupyter-widgets/base",
            "overflow": null,
            "_model_module_version": "1.2.0",
            "_view_count": null,
            "flex_flow": null,
            "width": null,
            "min_width": null,
            "border": null,
            "align_items": null,
            "bottom": null,
            "_model_module": "@jupyter-widgets/base",
            "top": null,
            "grid_column": null,
            "overflow_y": null,
            "overflow_x": null,
            "grid_auto_flow": null,
            "grid_area": null,
            "grid_template_columns": null,
            "flex": null,
            "_model_name": "LayoutModel",
            "justify_items": null,
            "grid_row": null,
            "max_height": null,
            "align_content": null,
            "visibility": null,
            "align_self": null,
            "height": null,
            "min_height": null,
            "padding": null,
            "grid_auto_rows": null,
            "grid_gap": null,
            "max_width": null,
            "order": null,
            "_view_module_version": "1.2.0",
            "grid_template_areas": null,
            "object_position": null,
            "object_fit": null,
            "grid_auto_columns": null,
            "margin": null,
            "display": null,
            "left": null
          }
        },
        "2f0d9a8ec86349c4b48653bdf18c26ae": {
          "model_module": "@jupyter-widgets/controls",
          "model_name": "ProgressStyleModel",
          "model_module_version": "1.5.0",
          "state": {
            "_view_name": "StyleView",
            "_model_name": "ProgressStyleModel",
            "description_width": "",
            "_view_module": "@jupyter-widgets/base",
            "_model_module_version": "1.5.0",
            "_view_count": null,
            "_view_module_version": "1.2.0",
            "bar_color": null,
            "_model_module": "@jupyter-widgets/controls"
          }
        },
        "3192b6caf7ff4de882aabd60a60f3cf5": {
          "model_module": "@jupyter-widgets/base",
          "model_name": "LayoutModel",
          "model_module_version": "1.2.0",
          "state": {
            "_view_name": "LayoutView",
            "grid_template_rows": null,
            "right": null,
            "justify_content": null,
            "_view_module": "@jupyter-widgets/base",
            "overflow": null,
            "_model_module_version": "1.2.0",
            "_view_count": null,
            "flex_flow": null,
            "width": null,
            "min_width": null,
            "border": null,
            "align_items": null,
            "bottom": null,
            "_model_module": "@jupyter-widgets/base",
            "top": null,
            "grid_column": null,
            "overflow_y": null,
            "overflow_x": null,
            "grid_auto_flow": null,
            "grid_area": null,
            "grid_template_columns": null,
            "flex": null,
            "_model_name": "LayoutModel",
            "justify_items": null,
            "grid_row": null,
            "max_height": null,
            "align_content": null,
            "visibility": null,
            "align_self": null,
            "height": null,
            "min_height": null,
            "padding": null,
            "grid_auto_rows": null,
            "grid_gap": null,
            "max_width": null,
            "order": null,
            "_view_module_version": "1.2.0",
            "grid_template_areas": null,
            "object_position": null,
            "object_fit": null,
            "grid_auto_columns": null,
            "margin": null,
            "display": null,
            "left": null
          }
        },
        "2405a406c75043319c7e607afb07f2e4": {
          "model_module": "@jupyter-widgets/controls",
          "model_name": "DescriptionStyleModel",
          "model_module_version": "1.5.0",
          "state": {
            "_view_name": "StyleView",
            "_model_name": "DescriptionStyleModel",
            "description_width": "",
            "_view_module": "@jupyter-widgets/base",
            "_model_module_version": "1.5.0",
            "_view_count": null,
            "_view_module_version": "1.2.0",
            "_model_module": "@jupyter-widgets/controls"
          }
        },
        "74315b9001624a839f3f27d4a9d26759": {
          "model_module": "@jupyter-widgets/base",
          "model_name": "LayoutModel",
          "model_module_version": "1.2.0",
          "state": {
            "_view_name": "LayoutView",
            "grid_template_rows": null,
            "right": null,
            "justify_content": null,
            "_view_module": "@jupyter-widgets/base",
            "overflow": null,
            "_model_module_version": "1.2.0",
            "_view_count": null,
            "flex_flow": null,
            "width": null,
            "min_width": null,
            "border": null,
            "align_items": null,
            "bottom": null,
            "_model_module": "@jupyter-widgets/base",
            "top": null,
            "grid_column": null,
            "overflow_y": null,
            "overflow_x": null,
            "grid_auto_flow": null,
            "grid_area": null,
            "grid_template_columns": null,
            "flex": null,
            "_model_name": "LayoutModel",
            "justify_items": null,
            "grid_row": null,
            "max_height": null,
            "align_content": null,
            "visibility": null,
            "align_self": null,
            "height": null,
            "min_height": null,
            "padding": null,
            "grid_auto_rows": null,
            "grid_gap": null,
            "max_width": null,
            "order": null,
            "_view_module_version": "1.2.0",
            "grid_template_areas": null,
            "object_position": null,
            "object_fit": null,
            "grid_auto_columns": null,
            "margin": null,
            "display": null,
            "left": null
          }
        }
      }
    }
  },
  "cells": [
    {
      "cell_type": "markdown",
      "metadata": {
        "id": "7xtS6F7SO6EI"
      },
      "source": [
        "# Import"
      ]
    },
    {
      "cell_type": "code",
      "metadata": {
        "id": "4-oALYIRoVGL"
      },
      "source": [
        "import random\n",
        "import numpy as np\n",
        "import matplotlib.pyplot as plt\n",
        "\n",
        "import torch\n",
        "import torch.nn as nn\n",
        "import torch.nn.functional as F\n",
        "import torch.optim as optim\n",
        "from torch.utils.data import DataLoader\n",
        "import torchvision.datasets as datasets\n",
        "import torchvision.transforms as transforms\n",
        "\n",
        "from google.colab.patches import cv2_imshow"
      ],
      "execution_count": 38,
      "outputs": []
    },
    {
      "cell_type": "code",
      "metadata": {
        "colab": {
          "base_uri": "https://localhost:8080/"
        },
        "id": "dIosJVf_ozJd",
        "outputId": "514abf1a-891b-4053-fab2-a9e2fdf73ae8"
      },
      "source": [
        "device = torch.device('cuda' if torch.cuda.is_available() else 'cpu')\n",
        "device "
      ],
      "execution_count": 2,
      "outputs": [
        {
          "output_type": "execute_result",
          "data": {
            "text/plain": [
              "device(type='cuda')"
            ]
          },
          "metadata": {},
          "execution_count": 2
        }
      ]
    },
    {
      "cell_type": "markdown",
      "metadata": {
        "id": "51W2o-CGO8m1"
      },
      "source": [
        "# Configuration"
      ]
    },
    {
      "cell_type": "code",
      "metadata": {
        "id": "ywO7ZbPoo6eN"
      },
      "source": [
        "random.seed(1)\n",
        "np.random.seed(1)\n",
        "torch.manual_seed(1)\n",
        "torch.backends.cudnn.deterministic = True\n",
        "torch.backends.cudnn.benchmark = False"
      ],
      "execution_count": 3,
      "outputs": []
    },
    {
      "cell_type": "code",
      "metadata": {
        "id": "yn9tvXlRpJCz"
      },
      "source": [
        "input_size = 784\n",
        "n_classes = 10\n",
        "learning_rate = .001\n",
        "batch_size = 64\n",
        "n_epochs = 50"
      ],
      "execution_count": 4,
      "outputs": []
    },
    {
      "cell_type": "markdown",
      "metadata": {
        "id": "Tdg0LPxiqS-6"
      },
      "source": [
        "# Cifar-10"
      ]
    },
    {
      "cell_type": "code",
      "metadata": {
        "colab": {
          "base_uri": "https://localhost:8080/"
        },
        "id": "CNO48E5TqUTb",
        "outputId": "f1cef5e6-ad85-4cad-8419-abc62007ee34"
      },
      "source": [
        "train_dataset_cifar10 = datasets.CIFAR10(root='/content/cifar10', train=True, transform = transforms.ToTensor(), download = True)\n",
        "train_loader_cifar10 = DataLoader(dataset=train_dataset_cifar10, batch_size=batch_size, shuffle=True)\n",
        "train_dataset_cifar10"
      ],
      "execution_count": 6,
      "outputs": [
        {
          "output_type": "stream",
          "name": "stdout",
          "text": [
            "Files already downloaded and verified\n"
          ]
        },
        {
          "output_type": "execute_result",
          "data": {
            "text/plain": [
              "Dataset CIFAR10\n",
              "    Number of datapoints: 50000\n",
              "    Root location: /content/cifar10\n",
              "    Split: Train\n",
              "    StandardTransform\n",
              "Transform: ToTensor()"
            ]
          },
          "metadata": {},
          "execution_count": 6
        }
      ]
    },
    {
      "cell_type": "code",
      "metadata": {
        "id": "IsJpUS4_u97f",
        "colab": {
          "base_uri": "https://localhost:8080/"
        },
        "outputId": "aeb783fc-1bcc-4602-a565-6908017355e6"
      },
      "source": [
        "test_dataset_cifar10 = datasets.CIFAR10(root='/content/cifar10', train=False, transform = transforms.ToTensor(), download = True)\n",
        "test_loader_cifar10 = DataLoader(dataset=test_dataset_cifar10, batch_size=batch_size, shuffle=False)\n",
        "test_dataset_cifar10"
      ],
      "execution_count": 7,
      "outputs": [
        {
          "output_type": "stream",
          "name": "stdout",
          "text": [
            "Files already downloaded and verified\n"
          ]
        },
        {
          "output_type": "execute_result",
          "data": {
            "text/plain": [
              "Dataset CIFAR10\n",
              "    Number of datapoints: 10000\n",
              "    Root location: /content/cifar10\n",
              "    Split: Test\n",
              "    StandardTransform\n",
              "Transform: ToTensor()"
            ]
          },
          "metadata": {},
          "execution_count": 7
        }
      ]
    },
    {
      "cell_type": "code",
      "metadata": {
        "colab": {
          "base_uri": "https://localhost:8080/",
          "height": 303
        },
        "id": "TCFRtpSFqe9X",
        "outputId": "b20e7ba0-ecdb-4472-f63e-93ac594cb64d"
      },
      "source": [
        "image, label = train_dataset_cifar10[1]\n",
        "print(label)\n",
        "plt.imshow(image.permute(1, 2, 0))"
      ],
      "execution_count": 8,
      "outputs": [
        {
          "output_type": "stream",
          "name": "stdout",
          "text": [
            "9\n"
          ]
        },
        {
          "output_type": "execute_result",
          "data": {
            "text/plain": [
              "<matplotlib.image.AxesImage at 0x7fab69740410>"
            ]
          },
          "metadata": {},
          "execution_count": 8
        },
        {
          "output_type": "display_data",
          "data": {
            "image/png": "[encoded data removed]",
            "text/plain": [
              "<Figure size 432x288 with 1 Axes>"
            ]
          },
          "metadata": {
            "needs_background": "light"
          }
        }
      ]
    },
    {
      "cell_type": "markdown",
      "metadata": {
        "id": "6T54QYVeqLM5"
      },
      "source": [
        "# FashionMNIST data"
      ]
    },
    {
      "cell_type": "code",
      "metadata": {
        "colab": {
          "base_uri": "https://localhost:8080/",
          "height": 571,
          "referenced_widgets": [
            "c46803c504f046ea83a1710508a0003b",
            "5e774c539420462ea0c032a8d3838965",
            "d8190f779ece4b96909234bb282b5138",
            "fb4e8e157b4b41f89357cac5c22744d5",
            "fee554d80cbe4af5bdf815b1d8f7cd69",
            "698f5dd9f26446dc9e45259da4491bce",
            "fd781a30dbb04759813d587aeec55ca8",
            "ec58c3772acc4e53873083a8220a7d8a",
            "63c5f4804a474ac383bfe2dc3517cc0f",
            "997962b586c44bd887631976cb8e1a63",
            "678bf1dfa13840fa8be0289b033303ba",
            "9ffcf44e9ce446c39eef368dd2e1a44f",
            "05217e799838460eb0ee06ab70db48c8",
            "3664b0ec1ce946a6933f51a66725e5b9",
            "fbc255dc7882436db38540360a182461",
            "d5a01c72fcb34b43a37a4b345c1992cb",
            "0d51e19107cc40349c48707f98a1543d",
            "a8700c98618346c68c04a9a0b184a29c",
            "517db2a266364b3e82f42a97b79a9d4d",
            "72ee15a3c06b406088f8ec4969cfc23e",
            "7229de12835a4841b618162fc65ab9ab",
            "63dafdaba4184983841af55404510092",
            "0482c9e910e040dab793d3aededa42a7",
            "a7532bbbbed04c99aee1b8dffeeaa13f",
            "9648fe992fb1436c8d310afd09a4ea79",
            "56b926d2e4844177836bd4320b632122",
            "6a3e3f08e58c4336ab416da35841c497",
            "861595f78c90408bb294a439ac94d235",
            "13dc298ee40a4c4abc24ed3977353831",
            "28503840f8ac471cb1c43ae636da1436",
            "897d2d30df0d48f9a3aee7a66b3f9732",
            "70b5678cc7604738ac41a3c944f453ff",
            "838526fc383e48c189617ad8b509e379",
            "b773532ddccc4c7a9123aa2c05d248e9",
            "8654d9859739440ebf47561ef3f02726",
            "7eb81909acd54664970e9fc7224eeea7",
            "9c80a654b77c495ab521eb8e8662cd14",
            "c4d644270207498f892983eff18ad747",
            "b9e9e21ec09747178853e02be2a6e9b4",
            "c17cd4e8024e4b6eaa7368ed65dd0df7",
            "2f0d9a8ec86349c4b48653bdf18c26ae",
            "3192b6caf7ff4de882aabd60a60f3cf5",
            "2405a406c75043319c7e607afb07f2e4",
            "74315b9001624a839f3f27d4a9d26759"
          ]
        },
        "id": "Yw2byPBLpRSV",
        "outputId": "306c30b0-4394-4453-a03c-b0981f2b0953"
      },
      "source": [
        "train_dataset_fashion = datasets.FashionMNIST(root='/content/fashionMNIST', train=True, transform = transforms.ToTensor(), download = True)\n",
        "train_loader_fashion = DataLoader(dataset=train_dataset_fashion, batch_size=batch_size, shuffle=True)\n",
        "train_dataset_fashion"
      ],
      "execution_count": 14,
      "outputs": [
        {
          "output_type": "stream",
          "name": "stdout",
          "text": [
            "Downloading http://fashion-mnist.s3-website.eu-central-1.amazonaws.com/train-images-idx3-ubyte.gz\n",
            "Downloading http://fashion-mnist.s3-website.eu-central-1.amazonaws.com/train-images-idx3-ubyte.gz to /content/fashionMNIST/FashionMNIST/raw/train-images-idx3-ubyte.gz\n"
          ]
        },
        {
          "output_type": "display_data",
          "data": {
            "application/vnd.jupyter.widget-view+json": {
              "model_id": "c46803c504f046ea83a1710508a0003b",
              "version_minor": 0,
              "version_major": 2
            },
            "text/plain": [
              "  0%|          | 0/26421880 [00:00<?, ?it/s]"
            ]
          },
          "metadata": {}
        },
        {
          "output_type": "stream",
          "name": "stdout",
          "text": [
            "Extracting /content/fashionMNIST/FashionMNIST/raw/train-images-idx3-ubyte.gz to /content/fashionMNIST/FashionMNIST/raw\n",
            "\n",
            "Downloading http://fashion-mnist.s3-website.eu-central-1.amazonaws.com/train-labels-idx1-ubyte.gz\n",
            "Downloading http://fashion-mnist.s3-website.eu-central-1.amazonaws.com/train-labels-idx1-ubyte.gz to /content/fashionMNIST/FashionMNIST/raw/train-labels-idx1-ubyte.gz\n"
          ]
        },
        {
          "output_type": "display_data",
          "data": {
            "application/vnd.jupyter.widget-view+json": {
              "model_id": "9ffcf44e9ce446c39eef368dd2e1a44f",
              "version_minor": 0,
              "version_major": 2
            },
            "text/plain": [
              "  0%|          | 0/29515 [00:00<?, ?it/s]"
            ]
          },
          "metadata": {}
        },
        {
          "output_type": "stream",
          "name": "stdout",
          "text": [
            "Extracting /content/fashionMNIST/FashionMNIST/raw/train-labels-idx1-ubyte.gz to /content/fashionMNIST/FashionMNIST/raw\n",
            "\n",
            "Downloading http://fashion-mnist.s3-website.eu-central-1.amazonaws.com/t10k-images-idx3-ubyte.gz\n",
            "Downloading http://fashion-mnist.s3-website.eu-central-1.amazonaws.com/t10k-images-idx3-ubyte.gz to /content/fashionMNIST/FashionMNIST/raw/t10k-images-idx3-ubyte.gz\n"
          ]
        },
        {
          "output_type": "display_data",
          "data": {
            "application/vnd.jupyter.widget-view+json": {
              "model_id": "0482c9e910e040dab793d3aededa42a7",
              "version_minor": 0,
              "version_major": 2
            },
            "text/plain": [
              "  0%|          | 0/4422102 [00:00<?, ?it/s]"
            ]
          },
          "metadata": {}
        },
        {
          "output_type": "stream",
          "name": "stdout",
          "text": [
            "Extracting /content/fashionMNIST/FashionMNIST/raw/t10k-images-idx3-ubyte.gz to /content/fashionMNIST/FashionMNIST/raw\n",
            "\n",
            "Downloading http://fashion-mnist.s3-website.eu-central-1.amazonaws.com/t10k-labels-idx1-ubyte.gz\n",
            "Downloading http://fashion-mnist.s3-website.eu-central-1.amazonaws.com/t10k-labels-idx1-ubyte.gz to /content/fashionMNIST/FashionMNIST/raw/t10k-labels-idx1-ubyte.gz\n"
          ]
        },
        {
          "output_type": "display_data",
          "data": {
            "application/vnd.jupyter.widget-view+json": {
              "model_id": "b773532ddccc4c7a9123aa2c05d248e9",
              "version_minor": 0,
              "version_major": 2
            },
            "text/plain": [
              "  0%|          | 0/5148 [00:00<?, ?it/s]"
            ]
          },
          "metadata": {}
        },
        {
          "output_type": "stream",
          "name": "stdout",
          "text": [
            "Extracting /content/fashionMNIST/FashionMNIST/raw/t10k-labels-idx1-ubyte.gz to /content/fashionMNIST/FashionMNIST/raw\n",
            "\n"
          ]
        },
        {
          "output_type": "execute_result",
          "data": {
            "text/plain": [
              "Dataset FashionMNIST\n",
              "    Number of datapoints: 60000\n",
              "    Root location: /content/fashionMNIST\n",
              "    Split: Train\n",
              "    StandardTransform\n",
              "Transform: ToTensor()"
            ]
          },
          "metadata": {},
          "execution_count": 14
        }
      ]
    },
    {
      "cell_type": "code",
      "metadata": {
        "id": "y3e-jdrNEDOM",
        "colab": {
          "base_uri": "https://localhost:8080/"
        },
        "outputId": "01571ee5-ec2f-4b87-d252-7ff3df5cf262"
      },
      "source": [
        "test_dataset_fashion = datasets.FashionMNIST(root='/content/fashionMNIST', train=False, transform = transforms.ToTensor(), download = True)\n",
        "test_loader_fashion = DataLoader(dataset=test_dataset_fashion, batch_size=batch_size, shuffle=False)\n",
        "test_dataset_fashion"
      ],
      "execution_count": 15,
      "outputs": [
        {
          "output_type": "execute_result",
          "data": {
            "text/plain": [
              "Dataset FashionMNIST\n",
              "    Number of datapoints: 10000\n",
              "    Root location: /content/fashionMNIST\n",
              "    Split: Test\n",
              "    StandardTransform\n",
              "Transform: ToTensor()"
            ]
          },
          "metadata": {},
          "execution_count": 15
        }
      ]
    },
    {
      "cell_type": "code",
      "metadata": {
        "colab": {
          "base_uri": "https://localhost:8080/",
          "height": 302
        },
        "id": "8tUkffkUp3x6",
        "outputId": "0b2605d5-e316-41a7-8b07-333f4276be76"
      },
      "source": [
        "image, label = train_dataset_fashion[0]\n",
        "print(label)\n",
        "plt.imshow(image.squeeze())"
      ],
      "execution_count": null,
      "outputs": [
        {
          "output_type": "stream",
          "name": "stdout",
          "text": [
            "9\n"
          ]
        },
        {
          "output_type": "execute_result",
          "data": {
            "text/plain": [
              "<matplotlib.image.AxesImage at 0x7fdc03b2d210>"
            ]
          },
          "metadata": {},
          "execution_count": 20
        },
        {
          "output_type": "display_data",
          "data": {
            "image/png": "[encoded data removed]",
            "text/plain": [
              "<Figure size 432x288 with 1 Axes>"
            ]
          },
          "metadata": {
            "needs_background": "light"
          }
        }
      ]
    },
    {
      "cell_type": "markdown",
      "metadata": {
        "id": "u0ebjlAsqHHo"
      },
      "source": [
        "# MLP model"
      ]
    },
    {
      "cell_type": "code",
      "metadata": {
        "id": "IqiIFsxYqAc8"
      },
      "source": [
        "class MLP(nn.Module):\n",
        "    def __init__(self, input_size, n_classes):\n",
        "        super().__init__()\n",
        "        self.model = nn.Sequential(\n",
        "            nn.Linear(input_size, 100),\n",
        "            nn.ReLU(),\n",
        "            nn.Linear(100, 100),\n",
        "            nn.ReLU(),\n",
        "            nn.Linear(100, 25),\n",
        "            nn.ReLU(),\n",
        "            nn.Linear(25, n_classes),\n",
        "            nn.Softmax(dim=1)\n",
        "        )\n",
        "    def forward(self, X):\n",
        "        prob = self.model(X)\n",
        "        return prob"
      ],
      "execution_count": 20,
      "outputs": []
    },
    {
      "cell_type": "code",
      "metadata": {
        "colab": {
          "base_uri": "https://localhost:8080/"
        },
        "id": "C6KFlJ-wQD7y",
        "outputId": "28891240-63c9-48f6-fa78-ab55ccc1e9aa"
      },
      "source": [
        "model = MLP(input_size=input_size, n_classes=n_classes).to(device)\n",
        "model"
      ],
      "execution_count": 21,
      "outputs": [
        {
          "output_type": "execute_result",
          "data": {
            "text/plain": [
              "MLP(\n",
              "  (model): Sequential(\n",
              "    (0): Linear(in_features=784, out_features=100, bias=True)\n",
              "    (1): ReLU()\n",
              "    (2): Linear(in_features=100, out_features=100, bias=True)\n",
              "    (3): ReLU()\n",
              "    (4): Linear(in_features=100, out_features=25, bias=True)\n",
              "    (5): ReLU()\n",
              "    (6): Linear(in_features=25, out_features=10, bias=True)\n",
              "    (7): Softmax(dim=1)\n",
              "  )\n",
              ")"
            ]
          },
          "metadata": {},
          "execution_count": 21
        }
      ]
    },
    {
      "cell_type": "code",
      "metadata": {
        "id": "D6w9LMXrQEZN"
      },
      "source": [
        "criterion = nn.CrossEntropyLoss()\n",
        "optimizer = optim.Adam(model.parameters(), lr=learning_rate)"
      ],
      "execution_count": 22,
      "outputs": []
    },
    {
      "cell_type": "markdown",
      "metadata": {
        "id": "pkn47LPhVN2p"
      },
      "source": [
        "## Fashion"
      ]
    },
    {
      "cell_type": "code",
      "metadata": {
        "colab": {
          "base_uri": "https://localhost:8080/"
        },
        "id": "S4xcXfskQH1B",
        "outputId": "6fc9d01e-fbcc-4575-989e-1f0083e0c2f1"
      },
      "source": [
        "for epoch in range(n_epochs + 1):\n",
        "    for batch_idx, (data, targets) in enumerate(train_loader_fashion):\n",
        "        data = data.to(device)\n",
        "        targets = targets.to(device)\n",
        "\n",
        "        data = data.reshape(data.shape[0], -1)\n",
        "\n",
        "        # forward pass\n",
        "        scores = model(data)\n",
        "        loss = criterion(scores, targets)\n",
        "        \n",
        "        # backward pass\n",
        "        optimizer.zero_grad() # Empty optimizer\n",
        "        loss.backward()       # Calculate loss gradient\n",
        "\n",
        "        # optimizer executed\n",
        "        optimizer.step()\n",
        "    print(f'Epoch: {epoch}/{n_epochs}, Batch: {batch_idx + 1}, Loss: {loss.item():.2f}')"
      ],
      "execution_count": 23,
      "outputs": [
        {
          "output_type": "stream",
          "name": "stdout",
          "text": [
            "Epoch: 0/50, Batch: 938, Loss: 1.76\n",
            "Epoch: 1/50, Batch: 938, Loss: 1.74\n",
            "Epoch: 2/50, Batch: 938, Loss: 1.53\n",
            "Epoch: 3/50, Batch: 938, Loss: 1.65\n",
            "Epoch: 4/50, Batch: 938, Loss: 1.63\n",
            "Epoch: 5/50, Batch: 938, Loss: 1.73\n",
            "Epoch: 6/50, Batch: 938, Loss: 1.60\n",
            "Epoch: 7/50, Batch: 938, Loss: 1.63\n",
            "Epoch: 8/50, Batch: 938, Loss: 1.51\n",
            "Epoch: 9/50, Batch: 938, Loss: 1.64\n",
            "Epoch: 10/50, Batch: 938, Loss: 1.52\n",
            "Epoch: 11/50, Batch: 938, Loss: 1.61\n",
            "Epoch: 12/50, Batch: 938, Loss: 1.49\n",
            "Epoch: 13/50, Batch: 938, Loss: 1.59\n",
            "Epoch: 14/50, Batch: 938, Loss: 1.68\n",
            "Epoch: 15/50, Batch: 938, Loss: 1.65\n",
            "Epoch: 16/50, Batch: 938, Loss: 1.66\n",
            "Epoch: 17/50, Batch: 938, Loss: 1.56\n",
            "Epoch: 18/50, Batch: 938, Loss: 1.62\n",
            "Epoch: 19/50, Batch: 938, Loss: 1.63\n",
            "Epoch: 20/50, Batch: 938, Loss: 1.49\n",
            "Epoch: 21/50, Batch: 938, Loss: 1.53\n",
            "Epoch: 22/50, Batch: 938, Loss: 1.49\n",
            "Epoch: 23/50, Batch: 938, Loss: 1.53\n",
            "Epoch: 24/50, Batch: 938, Loss: 1.62\n",
            "Epoch: 25/50, Batch: 938, Loss: 1.53\n",
            "Epoch: 26/50, Batch: 938, Loss: 1.56\n",
            "Epoch: 27/50, Batch: 938, Loss: 1.56\n",
            "Epoch: 28/50, Batch: 938, Loss: 1.62\n",
            "Epoch: 29/50, Batch: 938, Loss: 1.49\n",
            "Epoch: 30/50, Batch: 938, Loss: 1.56\n",
            "Epoch: 31/50, Batch: 938, Loss: 1.49\n",
            "Epoch: 32/50, Batch: 938, Loss: 1.52\n",
            "Epoch: 33/50, Batch: 938, Loss: 1.59\n",
            "Epoch: 34/50, Batch: 938, Loss: 1.62\n",
            "Epoch: 35/50, Batch: 938, Loss: 1.62\n",
            "Epoch: 36/50, Batch: 938, Loss: 1.49\n",
            "Epoch: 37/50, Batch: 938, Loss: 1.49\n",
            "Epoch: 38/50, Batch: 938, Loss: 1.59\n",
            "Epoch: 39/50, Batch: 938, Loss: 1.59\n",
            "Epoch: 40/50, Batch: 938, Loss: 1.52\n",
            "Epoch: 41/50, Batch: 938, Loss: 1.55\n",
            "Epoch: 42/50, Batch: 938, Loss: 1.57\n",
            "Epoch: 43/50, Batch: 938, Loss: 1.57\n",
            "Epoch: 44/50, Batch: 938, Loss: 1.65\n",
            "Epoch: 45/50, Batch: 938, Loss: 1.54\n",
            "Epoch: 46/50, Batch: 938, Loss: 1.60\n",
            "Epoch: 47/50, Batch: 938, Loss: 1.57\n",
            "Epoch: 48/50, Batch: 938, Loss: 1.65\n",
            "Epoch: 49/50, Batch: 938, Loss: 1.56\n",
            "Epoch: 50/50, Batch: 938, Loss: 1.62\n"
          ]
        }
      ]
    },
    {
      "cell_type": "code",
      "metadata": {
        "id": "0eDrdI0pQNfx"
      },
      "source": [
        "def get_accuracy(loader, model):\n",
        "    if loader.dataset.train:\n",
        "        print('====> Getting accuracy on training data....')\n",
        "    else:\n",
        "        print('====> Getting accuracy on test data....')\n",
        "    \n",
        "    n_corrects = 0\n",
        "    n_samples = 0\n",
        "    model.eval()\n",
        "    \n",
        "    with torch.no_grad():\n",
        "        for x, y in loader:\n",
        "            x = x.to(device)\n",
        "            y = y.to(device)\n",
        "            x = x.reshape(x.shape[0], -1)\n",
        "\n",
        "            # forward\n",
        "            scores = model(x)\n",
        "            _, y_pred = scores.max(1)\n",
        "            n_corrects += (y_pred == y).sum()\n",
        "            n_samples += y_pred.size(0)\n",
        "        print(f'Number of corrects: {n_corrects}/{n_samples}\\nAccuracy: {float(n_corrects)/float(n_samples)*100.0:.2f}')\n",
        "    model.train()"
      ],
      "execution_count": 24,
      "outputs": []
    },
    {
      "cell_type": "code",
      "metadata": {
        "colab": {
          "base_uri": "https://localhost:8080/"
        },
        "id": "-YQwtEtzVBmc",
        "outputId": "8a075a42-d7a6-42bb-dffe-55db30ee5cf9"
      },
      "source": [
        "get_accuracy(train_loader_fashion, model)\n",
        "get_accuracy(test_loader_fashion, model)"
      ],
      "execution_count": 25,
      "outputs": [
        {
          "output_type": "stream",
          "name": "stdout",
          "text": [
            "====> Getting accuracy on training data....\n",
            "Number of corrects: 53523/60000\n",
            "Accuracy: 89.20\n",
            "====> Getting accuracy on test data....\n",
            "Number of corrects: 8641/10000\n",
            "Accuracy: 86.41\n"
          ]
        }
      ]
    },
    {
      "cell_type": "markdown",
      "metadata": {
        "id": "DcOgHyL5fBJR"
      },
      "source": [
        "## Cifar-10"
      ]
    },
    {
      "cell_type": "code",
      "metadata": {
        "colab": {
          "base_uri": "https://localhost:8080/"
        },
        "id": "zuCh3BCnfCJL",
        "outputId": "d43c7ab2-8303-40dd-fafa-ca57f02c37f7"
      },
      "source": [
        "model = MLP(input_size=3*32*32, n_classes=n_classes).to(device)\n",
        "model"
      ],
      "execution_count": 26,
      "outputs": [
        {
          "output_type": "execute_result",
          "data": {
            "text/plain": [
              "MLP(\n",
              "  (model): Sequential(\n",
              "    (0): Linear(in_features=3072, out_features=100, bias=True)\n",
              "    (1): ReLU()\n",
              "    (2): Linear(in_features=100, out_features=100, bias=True)\n",
              "    (3): ReLU()\n",
              "    (4): Linear(in_features=100, out_features=25, bias=True)\n",
              "    (5): ReLU()\n",
              "    (6): Linear(in_features=25, out_features=10, bias=True)\n",
              "    (7): Softmax(dim=1)\n",
              "  )\n",
              ")"
            ]
          },
          "metadata": {},
          "execution_count": 26
        }
      ]
    },
    {
      "cell_type": "code",
      "metadata": {
        "id": "nU8DUVzkfGHG"
      },
      "source": [
        "criterion = nn.CrossEntropyLoss()\n",
        "optimizer = optim.Adam(model.parameters(), lr=learning_rate)"
      ],
      "execution_count": 27,
      "outputs": []
    },
    {
      "cell_type": "code",
      "metadata": {
        "colab": {
          "base_uri": "https://localhost:8080/"
        },
        "id": "rIwCMAOTfIsQ",
        "outputId": "702f5f62-2cc1-4846-d4eb-f717538b8553"
      },
      "source": [
        "for epoch in range(n_epochs + 1):\n",
        "    for batch_idx, (data, targets) in enumerate(train_loader_cifar10):\n",
        "        data = data.to(device)\n",
        "        targets = targets.to(device)\n",
        "\n",
        "        data = data.reshape(data.shape[0], -1)\n",
        "\n",
        "        # forward pass\n",
        "        scores = model(data)\n",
        "        loss = criterion(scores, targets)\n",
        "        \n",
        "        # backward pass\n",
        "        optimizer.zero_grad() # Empty optimizer\n",
        "        loss.backward()       # Calculate loss gradient\n",
        "\n",
        "        # optimizer executed\n",
        "        optimizer.step()\n",
        "    print(f'Epoch: {epoch}/{n_epochs}, Batch: {batch_idx + 1}, Loss: {loss.item():.2f}')"
      ],
      "execution_count": 29,
      "outputs": [
        {
          "output_type": "stream",
          "name": "stdout",
          "text": [
            "Epoch: 0/50, Batch: 782, Loss: 2.30\n",
            "Epoch: 1/50, Batch: 782, Loss: 2.07\n",
            "Epoch: 2/50, Batch: 782, Loss: 2.14\n",
            "Epoch: 3/50, Batch: 782, Loss: 2.00\n",
            "Epoch: 4/50, Batch: 782, Loss: 2.13\n",
            "Epoch: 5/50, Batch: 782, Loss: 2.03\n",
            "Epoch: 6/50, Batch: 782, Loss: 2.06\n",
            "Epoch: 7/50, Batch: 782, Loss: 1.98\n",
            "Epoch: 8/50, Batch: 782, Loss: 2.09\n",
            "Epoch: 9/50, Batch: 782, Loss: 2.03\n",
            "Epoch: 10/50, Batch: 782, Loss: 1.98\n",
            "Epoch: 11/50, Batch: 782, Loss: 2.20\n",
            "Epoch: 12/50, Batch: 782, Loss: 1.76\n",
            "Epoch: 13/50, Batch: 782, Loss: 2.15\n",
            "Epoch: 14/50, Batch: 782, Loss: 1.96\n",
            "Epoch: 15/50, Batch: 782, Loss: 1.95\n",
            "Epoch: 16/50, Batch: 782, Loss: 1.91\n",
            "Epoch: 17/50, Batch: 782, Loss: 2.15\n",
            "Epoch: 18/50, Batch: 782, Loss: 1.92\n",
            "Epoch: 19/50, Batch: 782, Loss: 1.95\n",
            "Epoch: 20/50, Batch: 782, Loss: 2.07\n",
            "Epoch: 21/50, Batch: 782, Loss: 1.91\n",
            "Epoch: 22/50, Batch: 782, Loss: 1.96\n",
            "Epoch: 23/50, Batch: 782, Loss: 2.03\n",
            "Epoch: 24/50, Batch: 782, Loss: 2.08\n",
            "Epoch: 25/50, Batch: 782, Loss: 2.01\n",
            "Epoch: 26/50, Batch: 782, Loss: 2.00\n",
            "Epoch: 27/50, Batch: 782, Loss: 1.93\n",
            "Epoch: 28/50, Batch: 782, Loss: 1.81\n",
            "Epoch: 29/50, Batch: 782, Loss: 1.86\n",
            "Epoch: 30/50, Batch: 782, Loss: 1.96\n",
            "Epoch: 31/50, Batch: 782, Loss: 2.06\n",
            "Epoch: 32/50, Batch: 782, Loss: 1.84\n",
            "Epoch: 33/50, Batch: 782, Loss: 1.72\n",
            "Epoch: 34/50, Batch: 782, Loss: 1.90\n",
            "Epoch: 35/50, Batch: 782, Loss: 2.13\n",
            "Epoch: 36/50, Batch: 782, Loss: 1.89\n",
            "Epoch: 37/50, Batch: 782, Loss: 1.97\n",
            "Epoch: 38/50, Batch: 782, Loss: 2.15\n",
            "Epoch: 39/50, Batch: 782, Loss: 2.03\n",
            "Epoch: 40/50, Batch: 782, Loss: 1.88\n",
            "Epoch: 41/50, Batch: 782, Loss: 1.97\n",
            "Epoch: 42/50, Batch: 782, Loss: 1.94\n",
            "Epoch: 43/50, Batch: 782, Loss: 1.84\n",
            "Epoch: 44/50, Batch: 782, Loss: 1.62\n",
            "Epoch: 45/50, Batch: 782, Loss: 1.91\n",
            "Epoch: 46/50, Batch: 782, Loss: 1.93\n",
            "Epoch: 47/50, Batch: 782, Loss: 1.98\n",
            "Epoch: 48/50, Batch: 782, Loss: 1.81\n",
            "Epoch: 49/50, Batch: 782, Loss: 1.91\n",
            "Epoch: 50/50, Batch: 782, Loss: 2.07\n"
          ]
        }
      ]
    },
    {
      "cell_type": "code",
      "metadata": {
        "id": "muzd-Mh6fNoJ"
      },
      "source": [
        "def get_accuracy(loader, model):\n",
        "    if loader.dataset.train:\n",
        "        print('====> Getting accuracy on training data....')\n",
        "    else:\n",
        "        print('====> Getting accuracy on test data....')\n",
        "    \n",
        "    n_corrects = 0\n",
        "    n_samples = 0\n",
        "    model.eval()\n",
        "    \n",
        "    with torch.no_grad():\n",
        "        for x, y in loader:\n",
        "            x = x.to(device)\n",
        "            y = y.to(device)\n",
        "            x = x.reshape(x.shape[0], -1)\n",
        "            \n",
        "            # forward\n",
        "            scores = model(x)\n",
        "            _, y_pred = scores.max(1)\n",
        "            n_corrects += (y_pred == y).sum()\n",
        "            n_samples += y_pred.size(0)\n",
        "        print(f'Number of corrects: {n_corrects}/{n_samples}\\nAccuracy: {float(n_corrects)/float(n_samples)*100.0:.2f}')\n",
        "    model.train()"
      ],
      "execution_count": 31,
      "outputs": []
    },
    {
      "cell_type": "code",
      "metadata": {
        "colab": {
          "base_uri": "https://localhost:8080/"
        },
        "id": "XyzdrHEXfQ-c",
        "outputId": "bc8d9a54-2c9c-4c9e-941a-73c8ca7f99f3"
      },
      "source": [
        "get_accuracy(train_loader_cifar10, model)\n",
        "get_accuracy(test_loader_cifar10, model)"
      ],
      "execution_count": 32,
      "outputs": [
        {
          "output_type": "stream",
          "name": "stdout",
          "text": [
            "====> Getting accuracy on training data....\n",
            "Number of corrects: 25435/50000\n",
            "Accuracy: 50.87\n",
            "====> Getting accuracy on test data....\n",
            "Number of corrects: 4637/10000\n",
            "Accuracy: 46.37\n"
          ]
        }
      ]
    },
    {
      "cell_type": "markdown",
      "metadata": {
        "id": "gd4kNanMO_QK"
      },
      "source": [
        "# LeNet-5"
      ]
    },
    {
      "cell_type": "markdown",
      "metadata": {
        "id": "R53ptvXBkOzM"
      },
      "source": [
        "## Fashion"
      ]
    },
    {
      "cell_type": "code",
      "metadata": {
        "id": "BWA5cSGllIy3"
      },
      "source": [
        "class LeNet(nn.Module):\n",
        "    def __init__(self, n_classes):\n",
        "        super().__init__()\n",
        "        self.model = nn.Sequential(\n",
        "            nn.Conv2d(in_channels=1, out_channels=6, kernel_size=5, stride=1),\n",
        "            nn.ELU(),\n",
        "            nn.AvgPool2d(kernel_size=2),\n",
        "            nn.Conv2d(in_channels=6, out_channels=16, kernel_size=5, stride=1),\n",
        "            nn.ELU(),\n",
        "            nn.AvgPool2d(kernel_size=2),\n",
        "            nn.Conv2d(in_channels=16, out_channels=120, kernel_size=5, stride=1),\n",
        "            nn.ELU(),\n",
        "            nn.Flatten(),\n",
        "            nn.Linear(in_features=120, out_features=84),\n",
        "            nn.ELU(),\n",
        "            nn.Linear(in_features=84, out_features=n_classes),\n",
        "            nn.Softmax(dim=1)\n",
        "        )\n",
        "    \n",
        "    def forward(self, X):\n",
        "        prob = self.model(X)\n",
        "        return prob"
      ],
      "execution_count": 89,
      "outputs": []
    },
    {
      "cell_type": "code",
      "metadata": {
        "id": "miERCACgO-9c",
        "colab": {
          "base_uri": "https://localhost:8080/"
        },
        "outputId": "bca32a91-84c9-4a02-a14b-5a7710aa1df3"
      },
      "source": [
        "train_dataset_fashion = datasets.FashionMNIST(root='/content/fashionMNIST', train=True, transform = transforms.Compose([transforms.Resize((32, 32)), transforms.ToTensor()]), download = True)\n",
        "train_loader_fashion = DataLoader(dataset=train_dataset_fashion, batch_size=batch_size, shuffle=True)\n",
        "test_dataset_fashion = datasets.FashionMNIST(root='/content/fashionMNIST', train=False, transform = transforms.Compose([transforms.Resize((32, 32)), transforms.ToTensor()]), download = True)\n",
        "test_loader_fashion = DataLoader(dataset=test_dataset_fashion, batch_size=batch_size, shuffle=False)\n",
        "train_dataset_fashion, test_dataset_fashion"
      ],
      "execution_count": 90,
      "outputs": [
        {
          "output_type": "execute_result",
          "data": {
            "text/plain": [
              "(Dataset FashionMNIST\n",
              "     Number of datapoints: 60000\n",
              "     Root location: /content/fashionMNIST\n",
              "     Split: Train\n",
              "     StandardTransform\n",
              " Transform: Compose(\n",
              "                Resize(size=(32, 32), interpolation=bilinear, max_size=None, antialias=None)\n",
              "                ToTensor()\n",
              "            ), Dataset FashionMNIST\n",
              "     Number of datapoints: 10000\n",
              "     Root location: /content/fashionMNIST\n",
              "     Split: Test\n",
              "     StandardTransform\n",
              " Transform: Compose(\n",
              "                Resize(size=(32, 32), interpolation=bilinear, max_size=None, antialias=None)\n",
              "                ToTensor()\n",
              "            ))"
            ]
          },
          "metadata": {},
          "execution_count": 90
        }
      ]
    },
    {
      "cell_type": "code",
      "metadata": {
        "colab": {
          "base_uri": "https://localhost:8080/"
        },
        "id": "LSOr_-TNk1NK",
        "outputId": "1a92faac-005f-4e94-cd52-623333a922f4"
      },
      "source": [
        "model = LeNet(n_classes=n_classes).to(device)\n",
        "model"
      ],
      "execution_count": 91,
      "outputs": [
        {
          "output_type": "execute_result",
          "data": {
            "text/plain": [
              "LeNet(\n",
              "  (model): Sequential(\n",
              "    (0): Conv2d(1, 6, kernel_size=(5, 5), stride=(1, 1))\n",
              "    (1): ELU(alpha=1.0)\n",
              "    (2): AvgPool2d(kernel_size=2, stride=2, padding=0)\n",
              "    (3): Conv2d(6, 16, kernel_size=(5, 5), stride=(1, 1))\n",
              "    (4): ELU(alpha=1.0)\n",
              "    (5): AvgPool2d(kernel_size=2, stride=2, padding=0)\n",
              "    (6): Conv2d(16, 120, kernel_size=(5, 5), stride=(1, 1))\n",
              "    (7): ELU(alpha=1.0)\n",
              "    (8): Flatten(start_dim=1, end_dim=-1)\n",
              "    (9): Linear(in_features=120, out_features=84, bias=True)\n",
              "    (10): ELU(alpha=1.0)\n",
              "    (11): Linear(in_features=84, out_features=10, bias=True)\n",
              "    (12): Softmax(dim=1)\n",
              "  )\n",
              ")"
            ]
          },
          "metadata": {},
          "execution_count": 91
        }
      ]
    },
    {
      "cell_type": "code",
      "metadata": {
        "id": "aqi_Qf9_nS75"
      },
      "source": [
        "criterion = nn.CrossEntropyLoss()\n",
        "optimizer = optim.Adam(model.parameters(), lr=learning_rate)"
      ],
      "execution_count": 92,
      "outputs": []
    },
    {
      "cell_type": "code",
      "metadata": {
        "colab": {
          "base_uri": "https://localhost:8080/"
        },
        "id": "D8YrZbuSnV9A",
        "outputId": "fbae674b-a323-46e0-b4dc-1e90a0c009ee"
      },
      "source": [
        "for epoch in range(n_epochs + 1):\n",
        "    for batch_idx, (data, targets) in enumerate(train_loader_fashion):\n",
        "\n",
        "        data = data.to(device)\n",
        "        targets = targets.to(device)\n",
        "\n",
        "        # forward pass\n",
        "        scores = model(data)\n",
        "        loss = criterion(scores, targets)\n",
        "        \n",
        "        # backward pass\n",
        "        optimizer.zero_grad() # Empty optimizer\n",
        "        loss.backward()       # Calculate loss gradient\n",
        "\n",
        "        # optimizer executed\n",
        "        optimizer.step()\n",
        "    print(f'Epoch: {epoch}/{n_epochs}, Batch: {batch_idx + 1}, Loss: {loss.item():.2f}')"
      ],
      "execution_count": 93,
      "outputs": [
        {
          "output_type": "stream",
          "name": "stdout",
          "text": [
            "Epoch: 0/50, Batch: 938, Loss: 1.65\n",
            "Epoch: 1/50, Batch: 938, Loss: 1.60\n",
            "Epoch: 2/50, Batch: 938, Loss: 1.70\n",
            "Epoch: 3/50, Batch: 938, Loss: 1.56\n",
            "Epoch: 4/50, Batch: 938, Loss: 1.66\n",
            "Epoch: 5/50, Batch: 938, Loss: 1.56\n",
            "Epoch: 6/50, Batch: 938, Loss: 1.60\n",
            "Epoch: 7/50, Batch: 938, Loss: 1.49\n",
            "Epoch: 8/50, Batch: 938, Loss: 1.65\n",
            "Epoch: 9/50, Batch: 938, Loss: 1.56\n",
            "Epoch: 10/50, Batch: 938, Loss: 1.62\n",
            "Epoch: 11/50, Batch: 938, Loss: 1.60\n",
            "Epoch: 12/50, Batch: 938, Loss: 1.55\n",
            "Epoch: 13/50, Batch: 938, Loss: 1.56\n",
            "Epoch: 14/50, Batch: 938, Loss: 1.65\n",
            "Epoch: 15/50, Batch: 938, Loss: 1.59\n",
            "Epoch: 16/50, Batch: 938, Loss: 1.58\n",
            "Epoch: 17/50, Batch: 938, Loss: 1.62\n",
            "Epoch: 18/50, Batch: 938, Loss: 1.54\n",
            "Epoch: 19/50, Batch: 938, Loss: 1.62\n",
            "Epoch: 20/50, Batch: 938, Loss: 1.68\n",
            "Epoch: 21/50, Batch: 938, Loss: 1.52\n",
            "Epoch: 22/50, Batch: 938, Loss: 1.67\n",
            "Epoch: 23/50, Batch: 938, Loss: 1.49\n",
            "Epoch: 24/50, Batch: 938, Loss: 1.53\n",
            "Epoch: 25/50, Batch: 938, Loss: 1.49\n",
            "Epoch: 26/50, Batch: 938, Loss: 1.62\n",
            "Epoch: 27/50, Batch: 938, Loss: 1.59\n",
            "Epoch: 28/50, Batch: 938, Loss: 1.59\n",
            "Epoch: 29/50, Batch: 938, Loss: 1.56\n",
            "Epoch: 30/50, Batch: 938, Loss: 1.55\n",
            "Epoch: 31/50, Batch: 938, Loss: 1.55\n",
            "Epoch: 32/50, Batch: 938, Loss: 1.56\n",
            "Epoch: 33/50, Batch: 938, Loss: 1.52\n",
            "Epoch: 34/50, Batch: 938, Loss: 1.56\n",
            "Epoch: 35/50, Batch: 938, Loss: 1.65\n",
            "Epoch: 36/50, Batch: 938, Loss: 1.52\n",
            "Epoch: 37/50, Batch: 938, Loss: 1.49\n",
            "Epoch: 38/50, Batch: 938, Loss: 1.56\n",
            "Epoch: 39/50, Batch: 938, Loss: 1.52\n",
            "Epoch: 40/50, Batch: 938, Loss: 1.53\n",
            "Epoch: 41/50, Batch: 938, Loss: 1.62\n",
            "Epoch: 42/50, Batch: 938, Loss: 1.58\n",
            "Epoch: 43/50, Batch: 938, Loss: 1.55\n",
            "Epoch: 44/50, Batch: 938, Loss: 1.51\n",
            "Epoch: 45/50, Batch: 938, Loss: 1.52\n",
            "Epoch: 46/50, Batch: 938, Loss: 1.46\n",
            "Epoch: 47/50, Batch: 938, Loss: 1.59\n",
            "Epoch: 48/50, Batch: 938, Loss: 1.52\n",
            "Epoch: 49/50, Batch: 938, Loss: 1.55\n",
            "Epoch: 50/50, Batch: 938, Loss: 1.55\n"
          ]
        }
      ]
    },
    {
      "cell_type": "code",
      "metadata": {
        "id": "GA90M0hPnab-"
      },
      "source": [
        "def get_accuracy(loader, model):\n",
        "    if loader.dataset.train:\n",
        "        print('====> Getting accuracy on training data....')\n",
        "    else:\n",
        "        print('====> Getting accuracy on test data....')\n",
        "    \n",
        "    n_corrects = 0\n",
        "    n_samples = 0\n",
        "    model.eval()\n",
        "    \n",
        "    with torch.no_grad():\n",
        "        for x, y in loader:\n",
        "            x = x.to(device)\n",
        "            y = y.to(device)\n",
        "            \n",
        "            # forward\n",
        "            scores = model(x)\n",
        "            _, y_pred = scores.max(1)\n",
        "            n_corrects += (y_pred == y).sum()\n",
        "            n_samples += y_pred.size(0)\n",
        "        print(f'Number of corrects: {n_corrects}/{n_samples}\\nAccuracy: {float(n_corrects)/float(n_samples)*100.0:.2f}')\n",
        "    model.train()"
      ],
      "execution_count": 94,
      "outputs": []
    },
    {
      "cell_type": "code",
      "metadata": {
        "colab": {
          "base_uri": "https://localhost:8080/"
        },
        "id": "vsLq0aktqAsR",
        "outputId": "ea0691dd-50b5-41f5-9f8a-1d8d0a2faff9"
      },
      "source": [
        "get_accuracy(train_loader_fashion, model)\n",
        "get_accuracy(test_loader_fashion, model)"
      ],
      "execution_count": 95,
      "outputs": [
        {
          "output_type": "stream",
          "name": "stdout",
          "text": [
            "====> Getting accuracy on training data....\n",
            "Number of corrects: 54408/60000\n",
            "Accuracy: 90.68\n",
            "====> Getting accuracy on test data....\n",
            "Number of corrects: 8815/10000\n",
            "Accuracy: 88.15\n"
          ]
        }
      ]
    },
    {
      "cell_type": "markdown",
      "metadata": {
        "id": "CFIgisT9qE_w"
      },
      "source": [
        "## Cifar-10"
      ]
    },
    {
      "cell_type": "code",
      "metadata": {
        "id": "r5U_HWbIqFpn"
      },
      "source": [
        "class LeNet(nn.Module):\n",
        "    def __init__(self, n_classes):\n",
        "        super().__init__()\n",
        "        self.model = nn.Sequential(\n",
        "            nn.Conv2d(in_channels=3, out_channels=6, kernel_size=5, stride=1),\n",
        "            nn.ELU(),\n",
        "            nn.AvgPool2d(kernel_size=2),\n",
        "            nn.Conv2d(in_channels=6, out_channels=16, kernel_size=5, stride=1),\n",
        "            nn.ELU(),\n",
        "            nn.AvgPool2d(kernel_size=2),\n",
        "            nn.Conv2d(in_channels=16, out_channels=120, kernel_size=5, stride=1),\n",
        "            nn.ELU(),\n",
        "            nn.Flatten(),\n",
        "            nn.Linear(in_features=120, out_features=84),\n",
        "            nn.ELU(),\n",
        "            nn.Linear(in_features=84, out_features=n_classes),\n",
        "            nn.Softmax(dim=1)\n",
        "        )\n",
        "    \n",
        "    def forward(self, X):\n",
        "        prob = self.model(X)\n",
        "        return prob"
      ],
      "execution_count": 84,
      "outputs": []
    },
    {
      "cell_type": "code",
      "metadata": {
        "colab": {
          "base_uri": "https://localhost:8080/"
        },
        "id": "ioeAeZzPsS5D",
        "outputId": "54acefe0-d6e8-4b82-c322-8b5212767d71"
      },
      "source": [
        "model = LeNet(n_classes=n_classes).to(device)\n",
        "criterion = nn.CrossEntropyLoss()\n",
        "optimizer = optim.Adam(model.parameters(), lr=learning_rate)\n",
        "model"
      ],
      "execution_count": 85,
      "outputs": [
        {
          "output_type": "execute_result",
          "data": {
            "text/plain": [
              "LeNet(\n",
              "  (model): Sequential(\n",
              "    (0): Conv2d(3, 6, kernel_size=(5, 5), stride=(1, 1))\n",
              "    (1): ELU(alpha=1.0)\n",
              "    (2): AvgPool2d(kernel_size=2, stride=2, padding=0)\n",
              "    (3): Conv2d(6, 16, kernel_size=(5, 5), stride=(1, 1))\n",
              "    (4): ELU(alpha=1.0)\n",
              "    (5): AvgPool2d(kernel_size=2, stride=2, padding=0)\n",
              "    (6): Conv2d(16, 120, kernel_size=(5, 5), stride=(1, 1))\n",
              "    (7): ELU(alpha=1.0)\n",
              "    (8): Flatten(start_dim=1, end_dim=-1)\n",
              "    (9): Linear(in_features=120, out_features=84, bias=True)\n",
              "    (10): ELU(alpha=1.0)\n",
              "    (11): Linear(in_features=84, out_features=10, bias=True)\n",
              "    (12): Softmax(dim=1)\n",
              "  )\n",
              ")"
            ]
          },
          "metadata": {},
          "execution_count": 85
        }
      ]
    },
    {
      "cell_type": "code",
      "metadata": {
        "colab": {
          "base_uri": "https://localhost:8080/"
        },
        "id": "mLBzhqPqsVKe",
        "outputId": "6537fab6-981e-4c85-9717-45323b5c4753"
      },
      "source": [
        "for epoch in range(n_epochs + 1):\n",
        "    for batch_idx, (data, targets) in enumerate(train_loader_cifar10):\n",
        "\n",
        "        data = data.to(device)\n",
        "        targets = targets.to(device)\n",
        "\n",
        "        # forward pass\n",
        "        scores = model(data)\n",
        "        loss = criterion(scores, targets)\n",
        "        \n",
        "        # backward pass\n",
        "        optimizer.zero_grad() # Empty optimizer\n",
        "        loss.backward()       # Calculate loss gradient\n",
        "\n",
        "        # optimizer executed\n",
        "        optimizer.step()\n",
        "    print(f'Epoch: {epoch}/{n_epochs}, Batch: {batch_idx + 1}, Loss: {loss.item():.2f}')"
      ],
      "execution_count": 86,
      "outputs": [
        {
          "output_type": "stream",
          "name": "stdout",
          "text": [
            "Epoch: 0/50, Batch: 782, Loss: 2.09\n",
            "Epoch: 1/50, Batch: 782, Loss: 2.13\n",
            "Epoch: 2/50, Batch: 782, Loss: 2.26\n",
            "Epoch: 3/50, Batch: 782, Loss: 2.19\n",
            "Epoch: 4/50, Batch: 782, Loss: 2.06\n",
            "Epoch: 5/50, Batch: 782, Loss: 2.23\n",
            "Epoch: 6/50, Batch: 782, Loss: 1.86\n",
            "Epoch: 7/50, Batch: 782, Loss: 1.80\n",
            "Epoch: 8/50, Batch: 782, Loss: 2.01\n",
            "Epoch: 9/50, Batch: 782, Loss: 1.79\n",
            "Epoch: 10/50, Batch: 782, Loss: 2.13\n",
            "Epoch: 11/50, Batch: 782, Loss: 1.90\n",
            "Epoch: 12/50, Batch: 782, Loss: 1.90\n",
            "Epoch: 13/50, Batch: 782, Loss: 2.12\n",
            "Epoch: 14/50, Batch: 782, Loss: 1.85\n",
            "Epoch: 15/50, Batch: 782, Loss: 1.95\n",
            "Epoch: 16/50, Batch: 782, Loss: 1.88\n",
            "Epoch: 17/50, Batch: 782, Loss: 2.02\n",
            "Epoch: 18/50, Batch: 782, Loss: 1.97\n",
            "Epoch: 19/50, Batch: 782, Loss: 1.86\n",
            "Epoch: 20/50, Batch: 782, Loss: 1.72\n",
            "Epoch: 21/50, Batch: 782, Loss: 1.65\n",
            "Epoch: 22/50, Batch: 782, Loss: 1.91\n",
            "Epoch: 23/50, Batch: 782, Loss: 1.74\n",
            "Epoch: 24/50, Batch: 782, Loss: 1.79\n",
            "Epoch: 25/50, Batch: 782, Loss: 1.98\n",
            "Epoch: 26/50, Batch: 782, Loss: 1.94\n",
            "Epoch: 27/50, Batch: 782, Loss: 1.84\n",
            "Epoch: 28/50, Batch: 782, Loss: 1.77\n",
            "Epoch: 29/50, Batch: 782, Loss: 1.85\n",
            "Epoch: 30/50, Batch: 782, Loss: 1.77\n",
            "Epoch: 31/50, Batch: 782, Loss: 2.12\n",
            "Epoch: 32/50, Batch: 782, Loss: 1.59\n",
            "Epoch: 33/50, Batch: 782, Loss: 1.87\n",
            "Epoch: 34/50, Batch: 782, Loss: 1.65\n",
            "Epoch: 35/50, Batch: 782, Loss: 1.77\n",
            "Epoch: 36/50, Batch: 782, Loss: 1.95\n",
            "Epoch: 37/50, Batch: 782, Loss: 1.77\n",
            "Epoch: 38/50, Batch: 782, Loss: 1.71\n",
            "Epoch: 39/50, Batch: 782, Loss: 1.72\n",
            "Epoch: 40/50, Batch: 782, Loss: 1.84\n",
            "Epoch: 41/50, Batch: 782, Loss: 1.77\n",
            "Epoch: 42/50, Batch: 782, Loss: 1.61\n",
            "Epoch: 43/50, Batch: 782, Loss: 1.76\n",
            "Epoch: 44/50, Batch: 782, Loss: 1.85\n",
            "Epoch: 45/50, Batch: 782, Loss: 1.68\n",
            "Epoch: 46/50, Batch: 782, Loss: 1.99\n",
            "Epoch: 47/50, Batch: 782, Loss: 1.81\n",
            "Epoch: 48/50, Batch: 782, Loss: 1.71\n",
            "Epoch: 49/50, Batch: 782, Loss: 1.71\n",
            "Epoch: 50/50, Batch: 782, Loss: 1.81\n"
          ]
        }
      ]
    },
    {
      "cell_type": "code",
      "metadata": {
        "id": "uEp2ued_sa2f"
      },
      "source": [
        "def get_accuracy(loader, model):\n",
        "    if loader.dataset.train:\n",
        "        print('====> Getting accuracy on training data....')\n",
        "    else:\n",
        "        print('====> Getting accuracy on test data....')\n",
        "    \n",
        "    n_corrects = 0\n",
        "    n_samples = 0\n",
        "    model.eval()\n",
        "    \n",
        "    with torch.no_grad():\n",
        "        for x, y in loader:\n",
        "            x = x.to(device)\n",
        "            y = y.to(device)\n",
        "            \n",
        "            # forward\n",
        "            scores = model(x)\n",
        "            _, y_pred = scores.max(1)\n",
        "            n_corrects += (y_pred == y).sum()\n",
        "            n_samples += y_pred.size(0)\n",
        "        print(f'Number of corrects: {n_corrects}/{n_samples}\\nAccuracy: {float(n_corrects)/float(n_samples)*100.0:.2f}')\n",
        "    model.train()"
      ],
      "execution_count": 87,
      "outputs": []
    },
    {
      "cell_type": "code",
      "metadata": {
        "colab": {
          "base_uri": "https://localhost:8080/"
        },
        "id": "XT8nT5QFsbfL",
        "outputId": "6458a6f0-dbd2-4578-f694-94423d00c1f8"
      },
      "source": [
        "get_accuracy(train_loader_cifar10, model)\n",
        "get_accuracy(test_loader_cifar10, model)"
      ],
      "execution_count": 88,
      "outputs": [
        {
          "output_type": "stream",
          "name": "stdout",
          "text": [
            "====> Getting accuracy on training data....\n",
            "Number of corrects: 34224/50000\n",
            "Accuracy: 68.45\n",
            "====> Getting accuracy on test data....\n",
            "Number of corrects: 5542/10000\n",
            "Accuracy: 55.42\n"
          ]
        }
      ]
    }
  ]
}