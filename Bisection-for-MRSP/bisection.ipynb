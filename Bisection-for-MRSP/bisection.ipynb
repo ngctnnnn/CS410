{
  "nbformat": 4,
  "nbformat_minor": 0,
  "metadata": {
    "anaconda-cloud": {},
    "colab": {
      "name": "bisection.ipynb",
      "provenance": [],
      "collapsed_sections": []
    },
    "kernelspec": {
      "display_name": "Python [Root]",
      "language": "python",
      "name": "Python [Root]"
    },
    "language_info": {
      "codemirror_mode": {
        "name": "ipython",
        "version": 2
      },
      "file_extension": ".py",
      "mimetype": "text/x-python",
      "name": "python",
      "nbconvert_exporter": "python",
      "pygments_lexer": "ipython2",
      "version": "2.7.12"
    }
  },
  "cells": [
    {
      "cell_type": "code",
      "metadata": {
        "collapsed": true,
        "id": "YZJ3R7zjmMLp"
      },
      "source": [
        "%matplotlib inline\n",
        "import math\n",
        "import numpy as np\n",
        "import matplotlib.pyplot as plt"
      ],
      "execution_count": 1,
      "outputs": []
    },
    {
      "cell_type": "code",
      "metadata": {
        "id": "hUhEE84VmMLr"
      },
      "source": [
        "def initialize_population( num_individuals, num_variables ):\n",
        "    \"\"\"\n",
        "    Khởi tạo quần thể gồm num_individuals cá thể. Mỗi cá thể có num_parameters biến.\n",
        "    \n",
        "    Arguments:\n",
        "    num_individuals -- Số lượng cá thể\n",
        "    num_variables -- Số lượng biến\n",
        "    \n",
        "    Returns:\n",
        "    pop -- Ma trận (num_individuals, num_variables\u001d) chứa quần thể mới được khởi tạo ngẫu nhiên.\n",
        "    \"\"\"\n",
        "    \n",
        "    ### BẮT ĐẦU CODE TỪ ĐÂY ### \n",
        "    pop = np.random.randint(2, size=(num_individuals, num_variables))\n",
        "    \n",
        "    ### DỪNG CODE TẠI ĐÂY ###\n",
        "    \n",
        "    return pop"
      ],
      "execution_count": 2,
      "outputs": []
    },
    {
      "cell_type": "code",
      "metadata": {
        "colab": {
          "base_uri": "https://localhost:8080/"
        },
        "id": "KxFwO-mGJmbx",
        "outputId": "924f019e-8639-43ce-a6a5-88668510cc88"
      },
      "source": [
        "pop = initialize_population(8, 4)\n",
        "pop"
      ],
      "execution_count": 3,
      "outputs": [
        {
          "output_type": "execute_result",
          "data": {
            "text/plain": [
              "array([[0, 1, 0, 0],\n",
              "       [0, 0, 0, 1],\n",
              "       [1, 1, 0, 0],\n",
              "       [0, 1, 0, 0],\n",
              "       [0, 0, 1, 1],\n",
              "       [0, 0, 1, 1],\n",
              "       [0, 0, 1, 0],\n",
              "       [1, 0, 0, 0]])"
            ]
          },
          "metadata": {},
          "execution_count": 3
        }
      ]
    },
    {
      "cell_type": "code",
      "metadata": {
        "id": "poknDwSSmMLs"
      },
      "source": [
        "def onemax( ind ):\n",
        "    \"\"\"\n",
        "    Hàm đánh giá OneMax: Đếm số bit 1 trong chuỗi nhị phân (cá thể ind).\n",
        "    \n",
        "    Arguments:\n",
        "    ind -- Cá thể cần được đánh giá.\n",
        "\n",
        "    Returns:\n",
        "    value -- Giá trị của cá thể ind.\n",
        "    \"\"\"\n",
        "    \n",
        "    ### BẮT ĐẦU CODE TỪ ĐÂY ###     \n",
        "    value = np.sum(ind)\n",
        "    \n",
        "    ### DỪNG CODE TẠI ĐÂY ###\n",
        "    \n",
        "    return value"
      ],
      "execution_count": 4,
      "outputs": []
    },
    {
      "cell_type": "code",
      "metadata": {
        "colab": {
          "base_uri": "https://localhost:8080/"
        },
        "id": "kR_ZCAGyKa9V",
        "outputId": "a7f63673-c392-4866-f861-17d89bc0dfe8"
      },
      "source": [
        "[onemax(_) for _ in pop]"
      ],
      "execution_count": 5,
      "outputs": [
        {
          "output_type": "execute_result",
          "data": {
            "text/plain": [
              "[2, 3, 3, 2, 1, 3, 0, 0]"
            ]
          },
          "metadata": {},
          "execution_count": 5
        }
      ]
    },
    {
      "cell_type": "code",
      "metadata": {
        "id": "fcEn10zfJIQT"
      },
      "source": [
        "def concatenated_trap_k( ind, k=5):\n",
        "    \"\"\"\n",
        "    Hàm đánh giá Trap_k\n",
        "\n",
        "    Arguments:\n",
        "    ind -- Cá thể cần được đánh giá\n",
        "    k -- Số lượng tham số của hàm Trap_k\n",
        "\n",
        "    Return:\n",
        "    value -- Giá trị của cá thể\n",
        "    \"\"\"\n",
        "    fitness = 0\n",
        "    for i in range(0, len(ind), k):\n",
        "        u = 0\n",
        "        for j in range(0, k):\n",
        "            u += ind[i+j]\n",
        "        if u == k:\n",
        "            fitness += k\n",
        "        else:\n",
        "            fitness += (k - 1 - u)\n",
        "            \n",
        "    return fitness"
      ],
      "execution_count": 4,
      "outputs": []
    },
    {
      "cell_type": "code",
      "metadata": {
        "colab": {
          "base_uri": "https://localhost:8080/"
        },
        "id": "o5DILS4aJiJf",
        "outputId": "31ca7516-ae79-400f-a684-be6e31e14473"
      },
      "source": [
        "concatenated_trap_k([1, 1, 1, 1, 1], 5)"
      ],
      "execution_count": 7,
      "outputs": [
        {
          "output_type": "execute_result",
          "data": {
            "text/plain": [
              "5"
            ]
          },
          "metadata": {},
          "execution_count": 7
        }
      ]
    },
    {
      "cell_type": "code",
      "metadata": {
        "id": "Q-xYm-5zmMLu"
      },
      "source": [
        "def evaluate_population( pop ):\n",
        "    \"\"\"\n",
        "    Hàm đánh giá tất cả cá thể trong quần thể.\n",
        "    \n",
        "    Arguments:\n",
        "    pop -- Quàn thể cần được đánh giá.\n",
        "\n",
        "    Returns:\n",
        "    values -- Giá trị của tất cả các cá thể trong quần thể.\n",
        "    \"\"\" \n",
        "\n",
        "    ### BẮT ĐẦU CODE TỪ ĐÂY ### \n",
        "    values = np.array([onemax(individual) for individual in pop])\n",
        "    \n",
        "    ### DỪNG CODE TẠI ĐÂY ###\n",
        "    \n",
        "    return values"
      ],
      "execution_count": 7,
      "outputs": []
    },
    {
      "cell_type": "code",
      "metadata": {
        "id": "Z1IEV-odL5v5"
      },
      "source": [
        "def evaluate_population_trap(pop) -> int:\n",
        "    \"\"\"\n",
        "    Hàm đánh giá các cá thể trong quần thể\n",
        "\n",
        "    Arguments:\n",
        "    pop -- Quần thể cần được đánh giá\n",
        "\n",
        "    Returns:\n",
        "    values -- Giá trị của tất cả các cá thể trong quần thể\n",
        "    \"\"\"\n",
        "    values = np.array([concatenated_trap_k(ind, 5) for ind in pop])\n",
        "    return values"
      ],
      "execution_count": 5,
      "outputs": []
    },
    {
      "cell_type": "code",
      "metadata": {
        "id": "xdWzIquvmMLv"
      },
      "source": [
        "def better_fitness( fitness_1, fitness_2, maximization=True ):\n",
        "    \"\"\"\n",
        "    Hàm so sánh độ thích nghi của 2 cá thể.\n",
        "    \n",
        "    Arguments:\n",
        "    fitness_1 -- Độ thích nghi của cá thể 1.\n",
        "    fitness_2 -- Độ thích nghi của cá thể 2.\n",
        "    maximization -- Biến boolean cho biết bài toán đang giải thuộc dạng tối đa hoá (mặc định) hay không\n",
        "    \n",
        "    Returns:\n",
        "    True nếu fitness_1 tốt hơn fitness_2. Ngược lại, trả về False.\n",
        "    \"\"\"\n",
        "    \n",
        "    if maximization:\n",
        "        if fitness_1 > fitness_2:\n",
        "            return True\n",
        "    else:\n",
        "        if fitness_1 < fitness_2:\n",
        "            return True\n",
        "        \n",
        "    return False"
      ],
      "execution_count": 6,
      "outputs": []
    },
    {
      "cell_type": "code",
      "metadata": {
        "id": "aPVYVkGwmMLv"
      },
      "source": [
        "def tournament_selection( pop, pop_fitness, selection_size, tournament_size):\n",
        "    \"\"\"\n",
        "    Hàm chọn lọc cạnh tranh.\n",
        "    \n",
        "    Arguments:\n",
        "    pop -- Quần thể để thực hiện phép chọn lọc.\n",
        "    pop_fitness -- Mảng 1 chiều chứa giá trị (độ thích nghi) của từng cá thể trong quần thể.\n",
        "    selection_size -- Số lượng cá thể \u001dsẽ được chọn.\n",
        "    tournament_size -- Kích thước của tournament: Số lượng các cá thể được so sánh với nhau mỗi lần.\n",
        "    \n",
        "    Returns:\n",
        "    selected_indices -- Chỉ số của những cá thể trong quần thể pop được chọn. Chỉ số có thể được lặp lại.\n",
        "    \"\"\"\n",
        "    \n",
        "    ### BẮT ĐẦU CODE TỪ ĐÂY ### \n",
        "    num_individuals = len(pop)\n",
        "    indices = np.arange(num_individuals)\n",
        "    selected_indices = []\n",
        "    \n",
        "    while len(selected_indices) < selection_size:\n",
        "        # Đảo ngẫu nhiên thứ tự các cá thể trong quần thể.\n",
        "        np.random.shuffle(indices)\n",
        "        \n",
        "        for i in range(0, num_individuals, tournament_size):\n",
        "            best_idx = i\n",
        "            for idx in range(1, tournament_size):\n",
        "                if better_fitness(pop_fitness[indices[i + idx]], pop_fitness[indices[best_idx]]):\n",
        "                    best_idx = i + idx\n",
        "            selected_indices.append(indices[best_idx])\n",
        "    selected_indices = np.array(selected_indices)\n",
        "\n",
        "    ### DỪNG CODE TẠI ĐÂY ###\n",
        "    \n",
        "    return selected_indices"
      ],
      "execution_count": 8,
      "outputs": []
    },
    {
      "cell_type": "code",
      "metadata": {
        "id": "Ge94BH6_mMLx"
      },
      "source": [
        "def variation( pop ):\n",
        "    \"\"\"\n",
        "    Hàm biến đổi tạo ra các cá thể con.\n",
        "    \n",
        "    Arguments:\n",
        "    pop -- Quàn thể hiện tại.\n",
        "\n",
        "    Returns:\n",
        "    offspring -- Quần thể chứa các cá thể con được sinh ra.\n",
        "    \"\"\"  \n",
        "    \n",
        "    ### BẮT ĐẦU CODE TỪ ĐÂY ### \n",
        "    num_individuals = len(pop)\n",
        "    num_parameters = len(pop[0])\n",
        "    indices = np.arange(num_individuals)\n",
        "    # Đảo ngẫu nhiên thứ tự các cá thể trong quần thể\n",
        "    np.random.shuffle(indices)\n",
        "    offspring = []\n",
        "    \n",
        "    for i in range(0, num_individuals, 2):\n",
        "        idx1 = indices[i]\n",
        "        idx2 = indices[i+1]\n",
        "        offspring1 = list(pop[idx1])\n",
        "        offspring2 = list(pop[idx2])\n",
        "        \n",
        "        # Cài đặt phép lai đồng nhất uniform crossover. \n",
        "        # Không cần cài đặt đột biến mutation.\n",
        "        for idx in range(0, num_parameters):\n",
        "            r = np.random.rand()\n",
        "            if r < 0.5:\n",
        "                tmp = offspring2[idx]\n",
        "                offspring2[idx] = offspring1[idx]\n",
        "                offspring1[idx] = tmp\n",
        "                # offspring1[idx], offspring2[idx] = offspring2[idx], offspring1[idx]\n",
        "\n",
        "        offspring.append(offspring1)\n",
        "        offspring.append(offspring2)\n",
        "\n",
        "\n",
        "    ### DỪNG CODE TẠI ĐÂY ###\n",
        "    \n",
        "    offspring = np.array(offspring)\n",
        "    return offspring"
      ],
      "execution_count": 22,
      "outputs": []
    },
    {
      "cell_type": "code",
      "metadata": {
        "id": "1v3lTeA96l4_"
      },
      "source": [
        "def variation_1X(pop):\n",
        "    \"\"\"\n",
        "    Hàm biến đổi tạo ra các cá thể con sử dụng phép lai ghép 1 điểm (One point crossover)\n",
        "\n",
        "    Arguments:\n",
        "    pop -- Quần thể hiện tại\n",
        "\n",
        "    Return:\n",
        "    offspring -- Quần thể chứa các cá thể con sau khi được sinh ra\n",
        "    \"\"\"\n",
        "    num_individuals = len(pop)\n",
        "    num_parameters = len(pop[0])\n",
        "    indices = np.arange(num_individuals)\n",
        "    # Đảo ngẫu nhiên thứ tự các cá thể trong quần thể\n",
        "    np.random.shuffle(indices)\n",
        "    offspring = []\n",
        "    \n",
        "    for i in range(0, num_individuals, 2):\n",
        "        idx1 = indices[i]\n",
        "        idx2 = indices[i+1]\n",
        "        offspring1 = list(pop[idx1])\n",
        "        offspring2 = list(pop[idx2])\n",
        "        # print(f\"Offspring 1:{offspring1}\\nOffspring2: {offspring2}\")\n",
        "        r = math.floor(np.random.uniform(low=1.1, high=num_parameters - 0.1, size=(1,)))\n",
        "        # print(r)\n",
        "        offspring1[r:], offspring2[r:] = offspring2[r:], offspring1[r:]\n",
        "\n",
        "        # print(f\"Offspring1:{offspring1}\\nOffspring2: {offspring2}\\n-------------\\n\")\n",
        "        offspring.append(offspring1)\n",
        "        offspring.append(offspring2)\n",
        "\n",
        "\n",
        "    ### DỪNG CODE TẠI ĐÂY ###\n",
        "    \n",
        "    offspring = np.array(offspring)\n",
        "    return offspring"
      ],
      "execution_count": 7,
      "outputs": []
    },
    {
      "cell_type": "code",
      "metadata": {
        "colab": {
          "base_uri": "https://localhost:8080/"
        },
        "id": "JrwYS8qDVQTm",
        "outputId": "82b8a401-a2d8-47c6-de8b-a1390a7b9562"
      },
      "source": [
        "print(pop)\n",
        "variation_1X(pop)"
      ],
      "execution_count": null,
      "outputs": [
        {
          "output_type": "stream",
          "name": "stdout",
          "text": [
            "[[0 1 1 1]\n",
            " [0 0 0 0]\n",
            " [1 0 1 1]\n",
            " [0 0 1 1]\n",
            " [1 1 0 1]\n",
            " [1 0 0 0]\n",
            " [0 1 0 0]\n",
            " [1 0 0 0]]\n"
          ]
        },
        {
          "output_type": "execute_result",
          "data": {
            "text/plain": [
              "array([[1, 0, 0, 0],\n",
              "       [1, 0, 1, 1],\n",
              "       [1, 1, 0, 1],\n",
              "       [0, 0, 1, 1],\n",
              "       [0, 1, 0, 0],\n",
              "       [0, 1, 1, 1],\n",
              "       [0, 0, 0, 0],\n",
              "       [1, 0, 0, 0]])"
            ]
          },
          "metadata": {},
          "execution_count": 17
        }
      ]
    },
    {
      "cell_type": "code",
      "metadata": {
        "id": "cbROfWqNz8uB"
      },
      "source": [
        "def has_converged(pop_fitness) -> bool:\n",
        "    return np.all(pop_fitness == pop_fitness[0])"
      ],
      "execution_count": 9,
      "outputs": []
    },
    {
      "cell_type": "code",
      "metadata": {
        "id": "f48pgHskmMLy"
      },
      "source": [
        "def popop(num_individuals, num_parameters, tournament_size, num_evaluations):\n",
        "    \"\"\"\n",
        "    Hàm cài đặt thuật giải di truyền theo các bước P->O->(P+O)->P\n",
        "    \n",
        "    Arguments:\n",
        "    num_individuals -- Số lượng cá thể trong quần thể.\n",
        "    num_parameters -- Số lượng biến.\n",
        "    tournament_size -- Số lượng cá thể được chọn lọc\n",
        "    num_evaluations -- Số lần gọi hàm tính độ thích nghi của quần thể\n",
        "\n",
        "    Returns:\n",
        "    In ra quần thể ở thế hệ cuối cùng và giá trị của từng cá thể.\n",
        "    \"\"\" \n",
        "\n",
        "    ### BẮT ĐẦU CODE TỪ ĐÂY ### \n",
        "    # Khởi tạo quần thể\n",
        "    pop = initialize_population(num_individuals, num_parameters)\n",
        "    pop_fitness = evaluate_population(pop)\n",
        "    num_evaluations += 1\n",
        "    generation_count = 1\n",
        "    \n",
        "    # Sử dụng tournament_size 4 và selection_size là bằng kích thước quần thể\n",
        "    selection_size = len(pop)\n",
        "\n",
        "    while not has_converged(pop_fitness):\n",
        "        # Tạo ra các cá thể con và đánh giá chúng\n",
        "        offspring = variation(pop)\n",
        "        offspring_fitness = evaluate_population(offspring)\n",
        "        num_evaluations += 1\n",
        "        \n",
        "        # Tạo ra quần thể pool gồm quần thể hiện tại pop và offspring\n",
        "        pool = np.vstack((pop,offspring))\n",
        "        pool_fitness = np.hstack((pop_fitness, offspring_fitness))\n",
        "\n",
        "        # Thực hiện  tournament selection trên quần thể pool \n",
        "        pool_indices = tournament_selection(pool, pool_fitness, selection_size, tournament_size)\n",
        "\n",
        "        # Thay thế quần thể hiện tại bằng những cá thể được chọn ra từ pool.\n",
        "        pop = pool[pool_indices, :]\n",
        "        pop_fitness = pool_fitness[pool_indices]\n",
        "        generation_count += 1\n",
        "\n",
        "    return pop_fitness, num_evaluations"
      ],
      "execution_count": 10,
      "outputs": []
    },
    {
      "cell_type": "code",
      "metadata": {
        "id": "de2e5-YO_O0Y"
      },
      "source": [
        "def popop_Onemax_1X(num_individuals, num_parameters, tournament_size, num_evaluations):\n",
        "    \"\"\"\n",
        "    Hàm cài đặt thuật giải di truyền theo các bước P->O->(P+O)->P\n",
        "    \n",
        "    Arguments:\n",
        "    num_individuals -- Số lượng cá thể trong quần thể.\n",
        "    num_parameters -- Số lượng biến.\n",
        "    tournament_size -- Số lượng cá thể được chọn lọc\n",
        "    num_evaluations -- Số lần gọi hàm tính độ thích nghi của quần thể\n",
        "\n",
        "    Returns:\n",
        "    In ra quần thể ở thế hệ cuối cùng và giá trị của từng cá thể.\n",
        "    \"\"\" \n",
        "\n",
        "    ### BẮT ĐẦU CODE TỪ ĐÂY ### \n",
        "    # Khởi tạo quần thể\n",
        "    pop = initialize_population(num_individuals, num_parameters)\n",
        "    pop_fitness = evaluate_population(pop)\n",
        "    num_evaluations += 1\n",
        "    generation_count = 1\n",
        "    \n",
        "    # Sử dụng tournament_size 4 và selection_size là bằng kích thước quần thể\n",
        "    selection_size = len(pop)\n",
        "\n",
        "    while not has_converged(pop_fitness):\n",
        "        # Tạo ra các cá thể con và đánh giá chúng\n",
        "        offspring = variation_1X(pop)\n",
        "        offspring_fitness = evaluate_population(offspring)\n",
        "        num_evaluations += 1\n",
        "        \n",
        "        # Tạo ra quần thể pool gồm quần thể hiện tại pop và offspring\n",
        "        pool = np.vstack((pop,offspring))\n",
        "        pool_fitness = np.hstack((pop_fitness, offspring_fitness))\n",
        "\n",
        "        # Thực hiện  tournament selection trên quần thể pool \n",
        "        pool_indices = tournament_selection(pool, pool_fitness, selection_size, tournament_size)\n",
        "\n",
        "        # Thay thế quần thể hiện tại bằng những cá thể được chọn ra từ pool.\n",
        "        pop = pool[pool_indices, :]\n",
        "        pop_fitness = pool_fitness[pool_indices]\n",
        "        generation_count += 1\n",
        "\n",
        "    return pop_fitness, num_evaluations"
      ],
      "execution_count": 11,
      "outputs": []
    },
    {
      "cell_type": "code",
      "metadata": {
        "id": "cYNB-4xKb73f"
      },
      "source": [
        "def popop_trap_1X(num_individuals, num_parameters, tournament_size, num_evaluations):\n",
        "    \"\"\"\n",
        "    Hàm cài đặt thuật giải di truyền của hàm Trap với phép lai ghép một điểm\n",
        "    \n",
        "    Arguments:\n",
        "    num_individuals -- Số lượng cá thể trong quần thể.\n",
        "    num_parameters -- Số lượng biến.\n",
        "    tournament_size -- Số lượng cá thể được chọn lọc\n",
        "    num_evaluations -- Số lần gọi hàm tính độ thích nghi của quần thể\n",
        "\n",
        "    Returns:\n",
        "    In ra quần thể ở thế hệ cuối cùng và giá trị của từng cá thể.\n",
        "    \"\"\" \n",
        "\n",
        "    pop = initialize_population(num_individuals, num_parameters)\n",
        "    pop_fitness = evaluate_population_trap(pop)\n",
        "    num_evaluations += 1\n",
        "    generation_count = 1\n",
        "    # print(f\"Gen {generation_count}: {pop}\")\n",
        "    # print(pop_fitness)\n",
        "    selection_size = len(pop)\n",
        "\n",
        "    while not has_converged(pop_fitness):\n",
        "        offspring = variation_1X(pop)\n",
        "        offspring_fitness = evaluate_population_trap(offspring)\n",
        "        num_evaluations += 1\n",
        "        \n",
        "        pool = np.vstack((pop,offspring))\n",
        "        pool_fitness = np.hstack((pop_fitness, offspring_fitness))\n",
        "\n",
        "        pool_indices = tournament_selection(pool, pool_fitness, selection_size, tournament_size)\n",
        "\n",
        "        pop = pool[pool_indices, :]\n",
        "        pop_fitness = pool_fitness[pool_indices]\n",
        "        # print(f\"Generation {generation_count}: {pop_fitness}\")\n",
        "        generation_count += 1\n",
        "    # print(\"Result:\")\n",
        "    # print(pop)\n",
        "    # print(pop_fitness)\n",
        "    return pop_fitness, num_evaluations"
      ],
      "execution_count": 10,
      "outputs": []
    },
    {
      "cell_type": "code",
      "metadata": {
        "id": "TEdU4-7FM5sM"
      },
      "source": [
        "def popop_trap(num_individuals, num_parameters, tournament_size, num_evaluations):\n",
        "    \"\"\"\n",
        "    Hàm cài đặt thuật giải di truyền của hàm Trap với phép lai ghép đồng nhất\n",
        "    \n",
        "    Arguments:\n",
        "    num_individuals -- Số lượng cá thể trong quần thể.\n",
        "    num_parameters -- Số lượng biến.\n",
        "    tournament_size -- Số lượng cá thể được chọn lọc\n",
        "    num_evaluations -- Số lần gọi hàm tính độ thích nghi của quần thể\n",
        "\n",
        "    Returns:\n",
        "    In ra quần thể ở thế hệ cuối cùng và giá trị của từng cá thể.\n",
        "    \"\"\" \n",
        "\n",
        "    pop = initialize_population(num_individuals, num_parameters)\n",
        "    pop_fitness = evaluate_population_trap(pop)\n",
        "    num_evaluations += 1\n",
        "    generation_count = 1\n",
        "    # print(f\"Gen {generation_count}: {pop}\")\n",
        "    # print(pop_fitness)\n",
        "    selection_size = len(pop)\n",
        "\n",
        "    while not has_converged(pop_fitness):\n",
        "        offspring = variation(pop)\n",
        "        offspring_fitness = evaluate_population_trap(offspring)\n",
        "        num_evaluations += 1\n",
        "        \n",
        "        pool = np.vstack((pop,offspring))\n",
        "        pool_fitness = np.hstack((pop_fitness, offspring_fitness))\n",
        "\n",
        "        pool_indices = tournament_selection(pool, pool_fitness, selection_size, tournament_size)\n",
        "\n",
        "        pop = pool[pool_indices, :]\n",
        "        pop_fitness = pool_fitness[pool_indices]\n",
        "        # print(f\"Generation {generation_count}: {pop_fitness}\")\n",
        "        generation_count += 1\n",
        "    # print(\"Result:\")\n",
        "    # print(pop)\n",
        "    # print(pop_fitness)\n",
        "    return pop_fitness, num_evaluations"
      ],
      "execution_count": 11,
      "outputs": []
    },
    {
      "cell_type": "code",
      "metadata": {
        "colab": {
          "base_uri": "https://localhost:8080/"
        },
        "id": "S2Yn1oibNZeo",
        "outputId": "66501461-1a3b-44b0-b560-e5f4c3db5996"
      },
      "source": [
        "\"\"\"\n",
        "Test POPOP for Trap function\n",
        "\"\"\"\n",
        "np.random.seed(19520925)\n",
        "num_parameters = 10\n",
        "num_individuals = 128\n",
        "tournament_size = 4\n",
        "popop_trap(num_individuals, num_parameters, tournament_size, 0)"
      ],
      "execution_count": null,
      "outputs": [
        {
          "output_type": "execute_result",
          "data": {
            "text/plain": [
              "(array([10, 10, 10, 10, 10, 10, 10, 10, 10, 10, 10, 10, 10, 10, 10, 10, 10,\n",
              "        10, 10, 10, 10, 10, 10, 10, 10, 10, 10, 10, 10, 10, 10, 10, 10, 10,\n",
              "        10, 10, 10, 10, 10, 10, 10, 10, 10, 10, 10, 10, 10, 10, 10, 10, 10,\n",
              "        10, 10, 10, 10, 10, 10, 10, 10, 10, 10, 10, 10, 10, 10, 10, 10, 10,\n",
              "        10, 10, 10, 10, 10, 10, 10, 10, 10, 10, 10, 10, 10, 10, 10, 10, 10,\n",
              "        10, 10, 10, 10, 10, 10, 10, 10, 10, 10, 10, 10, 10, 10, 10, 10, 10,\n",
              "        10, 10, 10, 10, 10, 10, 10, 10, 10, 10, 10, 10, 10, 10, 10, 10, 10,\n",
              "        10, 10, 10, 10, 10, 10, 10, 10, 10]), 9)"
            ]
          },
          "metadata": {},
          "execution_count": 21
        }
      ]
    },
    {
      "cell_type": "code",
      "metadata": {
        "id": "RtF2GiaZ0_dX"
      },
      "source": [
        "def is_successful(fitness, num_parameters, num_individuals):\n",
        "    return True if np.sum(fitness) == num_parameters*num_individuals else False"
      ],
      "execution_count": 12,
      "outputs": []
    },
    {
      "cell_type": "code",
      "metadata": {
        "colab": {
          "base_uri": "https://localhost:8080/"
        },
        "id": "e9jVddEsNw89",
        "outputId": "c7efee0c-67d8-4854-c75a-1ea6ca0408f8"
      },
      "source": [
        "\"\"\"\n",
        "Test POPOP for Onemax UX\n",
        "\"\"\"\n",
        "np.random.seed(19520925)\n",
        "num_individuals_upper = 16\n",
        "num_parameters = 10\n",
        "num_evaluations = 0\n",
        "tournament_size = 4\n",
        "popop(num_individuals_upper, num_parameters, tournament_size, num_evaluations)"
      ],
      "execution_count": null,
      "outputs": [
        {
          "output_type": "execute_result",
          "data": {
            "text/plain": [
              "(array([10, 10, 10, 10, 10, 10, 10, 10, 10, 10, 10, 10, 10, 10, 10, 10]), 6)"
            ]
          },
          "metadata": {},
          "execution_count": 21
        }
      ]
    },
    {
      "cell_type": "code",
      "metadata": {
        "id": "zanW-yV0Izl-"
      },
      "source": [
        "def find_MRPS_upper_bound_Onemax_UX(num_individuals_initialize, num_parameters, tournament_size, seed_number, num_evaluations) -> int:\n",
        "    \"\"\"\n",
        "    Hàm tìm cận trên của MRPS của hàm OneMax với phép lai ghép đồng nhất\n",
        "\n",
        "    Arguments:\n",
        "    num_individuals_upper -- số cá thể trong quần thể khởi tạo ban đầu\n",
        "    num_parameters -- Số lượng gene trong từng cá thể\n",
        "    tournament_size -- Số lượng cá thể được chọn lọc\n",
        "    seed_number -- Giá trị của seed khởi tạo\n",
        "    num_evaluations -- Số lần gọi hàm tính độ thích nghi của quần thể\n",
        "\n",
        "    Returns:\n",
        "    Giá trị cận trên MRPS tìm được\n",
        "    \"\"\"\n",
        "\n",
        "    success = False\n",
        "    success_count = 0 \n",
        "\n",
        "    while not success:\n",
        "        num_individuals_initialize *= 2\n",
        "        success_count = 0\n",
        "        seed = seed_number\n",
        "        for i in range(0, 10, 1):\n",
        "            np.random.seed(seed + i)\n",
        "            pop_fitness, num_evaluations = popop(num_individuals_initialize, num_parameters, tournament_size, num_evaluations)\n",
        "\n",
        "            if is_successful(pop_fitness, num_parameters, num_individuals_initialize) == True:\n",
        "                success_count += 1\n",
        "        if success_count == 10:\n",
        "            success = True\n",
        "\n",
        "    return num_individuals_initialize, num_evaluations"
      ],
      "execution_count": 19,
      "outputs": []
    },
    {
      "cell_type": "code",
      "metadata": {
        "colab": {
          "base_uri": "https://localhost:8080/"
        },
        "id": "aFcZ3Bl6MIRO",
        "outputId": "90b7a624-f454-408b-a77b-bba2d4a77c5f"
      },
      "source": [
        "seed_number = 19520925\n",
        "num_individuals_initialize = 4\n",
        "num_parameters = 10\n",
        "tournament_size = 4\n",
        "num_evaluations = 0\n",
        "num_individuals_upper_Onemax_UX, num_evaluations_Onemax_UX = find_MRPS_upper_bound_Onemax_UX(num_individuals_initialize, num_parameters, tournament_size, seed_number, num_evaluations)\n",
        "print(\"MRPS's upper bound = {}\".format(num_individuals_upper_Onemax_UX))"
      ],
      "execution_count": null,
      "outputs": [
        {
          "output_type": "stream",
          "name": "stdout",
          "text": [
            "MRPS's upper bound = 32\n"
          ]
        }
      ]
    },
    {
      "cell_type": "code",
      "metadata": {
        "id": "MN160nGuAGpf"
      },
      "source": [
        "def find_MRPS_upper_bound_Onemax_1X(num_individuals_initialize, num_parameters, tournament_size, seed_number, num_evaluations) -> int:\n",
        "    \"\"\"\n",
        "    Hàm tìm cận trên của MRPS của hàm OneMax với phép lai ghép một điểm (1X crossover)\n",
        "\n",
        "    Arguments:\n",
        "    num_individuals_upper -- số cá thể trong quần thể khởi tạo ban đầu\n",
        "    num_parameters -- Số lượng gene trong từng cá thể\n",
        "    tournament_size -- Số lượng cá thể được chọn lọc\n",
        "    seed_number -- Giá trị của seed khởi tạo\n",
        "    num_evaluations -- Số lần gọi hàm tính độ thích nghi của quần thể\n",
        "\n",
        "    Returns:\n",
        "    Giá trị cận trên MRPS tìm được\n",
        "    \"\"\"\n",
        "\n",
        "    success = False\n",
        "    success_count = 0 \n",
        "\n",
        "    while not success:\n",
        "        num_individuals_initialize *= 2\n",
        "        success_count = 0\n",
        "        seed = seed_number\n",
        "        for i in range(0, 10, 1):\n",
        "            np.random.seed(seed + i)\n",
        "            pop_fitness, num_evaluations = popop_Onemax_1X(num_individuals_initialize, num_parameters, tournament_size, num_evaluations)\n",
        "\n",
        "            if is_successful(pop_fitness, num_parameters, num_individuals_initialize) == True:\n",
        "                success_count += 1\n",
        "        if success_count == 10:\n",
        "            success = True\n",
        "\n",
        "    return num_individuals_initialize, num_evaluations"
      ],
      "execution_count": 41,
      "outputs": []
    },
    {
      "cell_type": "code",
      "metadata": {
        "colab": {
          "base_uri": "https://localhost:8080/"
        },
        "id": "s7vdsdkUBDqX",
        "outputId": "241dda93-8f95-42a5-ede2-c5c7250ee493"
      },
      "source": [
        "seed_number = 19520925\n",
        "num_individuals_initialize = 4\n",
        "num_parameters = 10\n",
        "tournament_size = 4\n",
        "num_evaluations = 0\n",
        "num_individuals_upper_Onemax_1X, num_evaluations_Onemax_1X = find_MRPS_upper_bound_Onemax_1X(num_individuals_initialize, num_parameters, tournament_size, seed_number, num_evaluations)\n",
        "print(\"MRPS Trap's upper bound = {}\".format(num_individuals_upper_Onemax_1X))"
      ],
      "execution_count": null,
      "outputs": [
        {
          "output_type": "stream",
          "name": "stdout",
          "text": [
            "MRPS Trap's upper bound = 64\n"
          ]
        }
      ]
    },
    {
      "cell_type": "code",
      "metadata": {
        "id": "8X9KpSJTPV6k"
      },
      "source": [
        "def find_MRPS_upper_bound_Trap_UX(num_individuals_initialize, num_parameters, tournament_size, seed_number, num_evaluations) -> int:\n",
        "    \"\"\"\n",
        "    Hàm tìm cận trên của MRPS của hàm Trap với phép lai ghép đồng nhất\n",
        "\n",
        "    Arguments:\n",
        "    num_individuals_upper -- số cá thể trong quần thể khởi tạo ban đầu\n",
        "    num_parameters -- Số lượng gene trong từng cá thể\n",
        "    tournament_size -- Số lượng cá thể được chọn lọc\n",
        "    seed_number -- Giá trị của seed khởi tạo\n",
        "    num_evaluations -- Số lần gọi hàm tính độ thích nghi của quần thể\n",
        "\n",
        "    Returns:\n",
        "    Giá trị cận trên MRPS tìm được\n",
        "    \"\"\"\n",
        "\n",
        "    success = False\n",
        "    success_count = 0 \n",
        "\n",
        "    while not success and num_individuals_initialize < 8192:\n",
        "        num_individuals_initialize *= 2\n",
        "        success_count = 0\n",
        "        seed = seed_number\n",
        "        for i in range(0, 10, 1):\n",
        "            np.random.seed(seed + i)\n",
        "            pop_fitness, num_evaluations = popop_trap(num_individuals_initialize, num_parameters, tournament_size, num_evaluations)\n",
        "            if is_successful(pop_fitness, num_parameters, num_individuals_initialize) == True:\n",
        "                success_count += 1\n",
        "        # print(f\"Seed = {seed_number}, Success_count = {success_count}\")\n",
        "        if success_count == 10:\n",
        "            success = True\n",
        "    if success == False:\n",
        "        num_individuals_initialize = 0\n",
        "\n",
        "    return num_individuals_initialize, num_evaluations"
      ],
      "execution_count": 14,
      "outputs": []
    },
    {
      "cell_type": "code",
      "metadata": {
        "colab": {
          "base_uri": "https://localhost:8080/"
        },
        "id": "MdU7frinPkIR",
        "outputId": "f4c4a9fd-e4d5-41e6-c7c3-b7fe6e43cc5b"
      },
      "source": [
        "seed_number = 19520925\n",
        "num_individuals_initialize = 4\n",
        "num_parameters = 10\n",
        "tournament_size = 4\n",
        "num_evaluations = 0\n",
        "num_individuals_upper_Trap_UX, num_evaluations_Trap_UX = find_MRPS_upper_bound_Trap_UX(num_individuals_initialize, num_parameters, tournament_size, seed_number, num_evaluations)\n",
        "print(\"MRPS Trap's upper bound = {}\".format(num_individuals_upper_Trap_UX))"
      ],
      "execution_count": null,
      "outputs": [
        {
          "output_type": "stream",
          "name": "stdout",
          "text": [
            "MRPS Trap's upper bound = 512\n"
          ]
        }
      ]
    },
    {
      "cell_type": "code",
      "metadata": {
        "id": "xk8X1XOi6RnP"
      },
      "source": [
        "def find_MRPS_upper_bound_Trap_1X(num_individuals_initialize, num_parameters, tournament_size, seed_number, num_evaluations) -> int:\n",
        "    \"\"\"\n",
        "    Hàm tìm cận trên của MRPS của hàm Trap với phép lai ghép 1 điểm\n",
        "\n",
        "    Arguments:\n",
        "    num_individuals_upper -- số cá thể trong quần thể khởi tạo ban đầu\n",
        "    num_parameters -- Số lượng gene trong từng cá thể\n",
        "    tournament_size -- Số lượng cá thể được chọn lọc\n",
        "    seed_number -- Giá trị của seed khởi tạo\n",
        "    num_evaluations -- Số lần gọi hàm tính độ thích nghi của quần thể\n",
        "\n",
        "    Returns:\n",
        "    Giá trị cận trên MRPS tìm được\n",
        "    \"\"\"\n",
        "\n",
        "    success = False\n",
        "    success_count = 0 \n",
        "\n",
        "    while not success and num_individuals_initialize < 8192:\n",
        "        num_individuals_initialize *= 2\n",
        "        success_count = 0\n",
        "        seed = seed_number\n",
        "        for i in range(0, 10, 1):\n",
        "            np.random.seed(seed + i)\n",
        "            pop_fitness, num_evaluations = popop_trap_1X(num_individuals_initialize, num_parameters, tournament_size, num_evaluations)\n",
        "            if is_successful(pop_fitness, num_parameters, num_individuals_initialize) == True:\n",
        "                success_count += 1\n",
        "        # print(f\"Seed = {seed_number}, Success_count = {success_count}\")\n",
        "        if success_count == 10:\n",
        "            success = True\n",
        "    if success == False:\n",
        "        num_individuals_initialize = 0\n",
        "\n",
        "    return num_individuals_initialize, num_evaluations"
      ],
      "execution_count": 37,
      "outputs": []
    },
    {
      "cell_type": "code",
      "metadata": {
        "id": "s9OCZza7MPzI"
      },
      "source": [
        "def find_MRPS_Onemax_UX(num_individuals_upper, num_parameters, tournament_size, seed_number, num_evaluations) -> int:\n",
        "    \"\"\"\n",
        "    Hàm tìm giá trị MRPS của hàm Onemax với phép lai đồng nhất\n",
        "    \n",
        "    Arguments:\n",
        "    num_individuals_upper -- Cận trên của số lượng cá thể trong quần thể\n",
        "    num_parameters -- Số lượng gene trong mỗi cá thể\n",
        "    tournament_size -- Số lượng cá thể được chọn lọc\n",
        "    seed_number -- Giá trị seed được khởi tạo\n",
        "    num_evaluations -- Số lần gọi hàm tính độ thích nghi quần thể\n",
        "\n",
        "    Return:\n",
        "    Giá trị của MRPS cần tìm \n",
        "    Trung bình số lần gọi hàm tính độ thích nghi của quần thể\n",
        "    \"\"\"\n",
        "    success = False\n",
        "    num_individuals_lower = num_individuals_upper//2\n",
        "\n",
        "    while (num_individuals_upper - num_individuals_lower)/num_individuals_upper > 0.1:\n",
        "        num_individuals = (num_individuals_upper + num_individuals_lower)//2\n",
        "\n",
        "        success_count = 0\n",
        "        seed = seed_number\n",
        "        \n",
        "        for i in range(0, 10, 1):\n",
        "            np.random.seed(seed + i)\n",
        "            pop_fitness, num_evaluations = popop(num_individuals, num_parameters, tournament_size, num_evaluations)\n",
        "\n",
        "            if is_successful(pop_fitness, num_parameters, num_individuals) == True:\n",
        "                success_count += 1\n",
        "        \n",
        "        if success_count == 10:\n",
        "            success = True\n",
        "\n",
        "        if success == True:\n",
        "            num_individuals_upper = num_individuals \n",
        "        else:\n",
        "            num_individuals_lower = num_individuals \n",
        "        \n",
        "        if (num_individuals_upper - num_individuals_lower) <= 2:\n",
        "            break\n",
        "    \n",
        "    return num_individuals_upper, num_evaluations"
      ],
      "execution_count": 21,
      "outputs": []
    },
    {
      "cell_type": "code",
      "metadata": {
        "colab": {
          "base_uri": "https://localhost:8080/"
        },
        "id": "3hP2ev7PRjGX",
        "outputId": "b1987278-e396-4a59-e957-8a3a57599d71"
      },
      "source": [
        "num_ind_Onemax_UX, num_evaluations_Onemax_UX = find_MRPS_Onemax_UX(num_individuals_upper, num_parameters, tournament_size, seed_number, num_evaluations)\n",
        "print(\"Actual MRPS = {}\".format(num_ind_Onemax_UX))"
      ],
      "execution_count": null,
      "outputs": [
        {
          "output_type": "stream",
          "name": "stdout",
          "text": [
            "Actual MRPS = 16\n"
          ]
        }
      ]
    },
    {
      "cell_type": "code",
      "metadata": {
        "id": "EzrpBB0AB0pJ"
      },
      "source": [
        "def find_MRPS_Onemax_1X(num_individuals_upper, num_parameters, tournament_size, seed_number, num_evaluations) -> int:\n",
        "    \"\"\"\n",
        "    Hàm tìm giá trị MRPS của hàm Onemax với phép lai 1 điểm\n",
        "    \n",
        "    Arguments:\n",
        "    num_individuals_upper -- Cận trên của số lượng cá thể trong quần thể\n",
        "    num_parameters -- Số lượng gene trong mỗi cá thể\n",
        "    tournament_size -- Số lượng cá thể được chọn lọc\n",
        "    seed_number -- Giá trị seed được khởi tạo\n",
        "    num_evaluations -- Số lần gọi hàm tính độ thích nghi quần thể\n",
        "\n",
        "    Return:\n",
        "    Giá trị của MRPS cần tìm \n",
        "    Trung bình số lần gọi hàm tính độ thích nghi của quần thể\n",
        "    \"\"\"\n",
        "    success = False\n",
        "    num_individuals_lower = num_individuals_upper//2\n",
        "\n",
        "    while (num_individuals_upper - num_individuals_lower)/num_individuals_upper > 0.1:\n",
        "        num_individuals = (num_individuals_upper + num_individuals_lower)//2\n",
        "\n",
        "        success_count = 0\n",
        "        seed = seed_number\n",
        "        \n",
        "        for i in range(0, 10, 1):\n",
        "            np.random.seed(seed + i)\n",
        "            pop_fitness, num_evaluations = popop_Onemax_1X(num_individuals, num_parameters, tournament_size, num_evaluations)\n",
        "\n",
        "            if is_successful(pop_fitness, num_parameters, num_individuals) == True:\n",
        "                success_count += 1\n",
        "        \n",
        "        if success_count == 10:\n",
        "            success = True\n",
        "\n",
        "        if success == True:\n",
        "            num_individuals_upper = num_individuals \n",
        "        else:\n",
        "            num_individuals_lower = num_individuals \n",
        "        \n",
        "        if (num_individuals_upper - num_individuals_lower) <= 2:\n",
        "            break\n",
        "    \n",
        "    \n",
        "    return num_individuals_upper, num_evaluations"
      ],
      "execution_count": 29,
      "outputs": []
    },
    {
      "cell_type": "code",
      "metadata": {
        "colab": {
          "base_uri": "https://localhost:8080/"
        },
        "id": "hlZpQcimB92v",
        "outputId": "d5f3f806-10d7-420c-f40a-41a2f56fa68c"
      },
      "source": [
        "\"\"\"\n",
        "Find MRPS for Onemax 1X\n",
        "\"\"\"\n",
        "num_ind_Onemax_1X, num_evaluations_Onemax_1X = find_MRPS_Onemax_1X(num_individuals_upper_Onemax_1X, num_parameters, tournament_size, seed_number, num_evaluations)\n",
        "print(\"Actual MRPS Trap UX = {}\".format(num_ind_Onemax_1X))"
      ],
      "execution_count": null,
      "outputs": [
        {
          "output_type": "stream",
          "name": "stdout",
          "text": [
            "Actual MRPS Trap UX = 34\n"
          ]
        }
      ]
    },
    {
      "cell_type": "code",
      "metadata": {
        "id": "KkWn6fCT6omX"
      },
      "source": [
        "def find_MRPS_Trap_1X(num_individuals_upper, num_parameters, tournament_size, seed_number, num_evaluations) -> int:\n",
        "    \"\"\"\n",
        "    Hàm tìm giá trị MRPS của hàm Trap với phép lai đồng nhất\n",
        "    \n",
        "    Arguments:\n",
        "    num_individuals_upper -- Cận trên của số lượng cá thể trong quần thể\n",
        "    num_parameters -- Số lượng gene trong mỗi cá thể\n",
        "    tournament_size -- Số lượng cá thể được chọn lọc\n",
        "    seed_number -- Giá trị seed được khởi tạo\n",
        "    num_evaluations -- Số lần gọi hàm tính độ thích nghi quần thể\n",
        "\n",
        "    Return:\n",
        "    Giá trị của MRPS cần tìm \n",
        "    Trung bình số lần gọi hàm tính độ thích nghi của quần thể\n",
        "    \"\"\"\n",
        "    success = False\n",
        "    num_individuals_lower = num_individuals_upper//2\n",
        "    upper_bound = num_individuals_upper\n",
        "    # print(f\"\\nValue: {upper_bound}\")\n",
        "    while (num_individuals_upper - num_individuals_lower)/num_individuals_upper > 0.1:\n",
        "        num_individuals = (num_individuals_upper + num_individuals_lower)//2\n",
        "\n",
        "        success_count = 0\n",
        "        seed = seed_number\n",
        "        \n",
        "        for i in range(0, 10, 1):\n",
        "            np.random.seed(seed + i)\n",
        "            pop_fitness, num_evaluations = popop_trap_1X(num_individuals, num_parameters, tournament_size, num_evaluations)\n",
        "\n",
        "            if is_successful(pop_fitness, num_parameters, num_individuals) == True:\n",
        "                success_count += 1\n",
        "        \n",
        "        if success_count == 10:\n",
        "            success = True\n",
        "            \n",
        "        if success == True:\n",
        "            num_individuals_upper = num_individuals \n",
        "        else:\n",
        "            num_individuals_lower = num_individuals \n",
        "        \n",
        "        if (num_individuals_upper - num_individuals_lower) <= 2:\n",
        "            break\n",
        "    # if success == False and upper_bound < 8192:\n",
        "    #     num_individuals_upper = upper_bound\n",
        "    # if success == False:\n",
        "    #     num_individuals_upper = 0\n",
        "    return num_individuals_upper, num_evaluations"
      ],
      "execution_count": 40,
      "outputs": []
    },
    {
      "cell_type": "code",
      "metadata": {
        "id": "pt8nXRspQyv7"
      },
      "source": [
        "def find_MRPS_Trap_UX(num_individuals_upper, num_parameters, tournament_size, seed_number, num_evaluations) -> int:\n",
        "    \"\"\"\n",
        "    Hàm tìm giá trị MRPS của hàm Trap với phép lai đồng nhất\n",
        "    \n",
        "    Arguments:\n",
        "    num_individuals_upper -- Cận trên của số lượng cá thể trong quần thể\n",
        "    num_parameters -- Số lượng gene trong mỗi cá thể\n",
        "    tournament_size -- Số lượng cá thể được chọn lọc\n",
        "    seed_number -- Giá trị seed được khởi tạo\n",
        "    num_evaluations -- Số lần gọi hàm tính độ thích nghi quần thể\n",
        "\n",
        "    Return:\n",
        "    Giá trị của MRPS cần tìm \n",
        "    Trung bình số lần gọi hàm tính độ thích nghi của quần thể\n",
        "    \"\"\"\n",
        "    success = False\n",
        "    num_individuals_lower = num_individuals_upper//2\n",
        "\n",
        "    while (num_individuals_upper - num_individuals_lower)/num_individuals_upper > 0.1:\n",
        "        num_individuals = (num_individuals_upper + num_individuals_lower)//2\n",
        "\n",
        "        success_count = 0\n",
        "        seed = seed_number\n",
        "        \n",
        "        for i in range(0, 10, 1):\n",
        "            np.random.seed(seed + i)\n",
        "            pop_fitness, num_evaluations = popop_trap(num_individuals, num_parameters, tournament_size, num_evaluations)\n",
        "\n",
        "            if is_successful(pop_fitness, num_parameters, num_individuals) == True:\n",
        "                success_count += 1\n",
        "        \n",
        "        if success_count == 10:\n",
        "            success = True\n",
        "            \n",
        "        if success == True:\n",
        "            num_individuals_upper = num_individuals \n",
        "        else:\n",
        "            num_individuals_lower = num_individuals \n",
        "        \n",
        "        if (num_individuals_upper - num_individuals_lower) <= 2:\n",
        "            break\n",
        "    return num_individuals_upper, num_evaluations"
      ],
      "execution_count": 18,
      "outputs": []
    },
    {
      "cell_type": "code",
      "metadata": {
        "colab": {
          "base_uri": "https://localhost:8080/"
        },
        "id": "1zs-7Rr9RYFf",
        "outputId": "7b1ba6af-1922-4b57-d93f-961f02d56a76"
      },
      "source": [
        "num_ind_Trap_UX, num_evaluations_Trap_UX = find_MRPS_Trap_UX(num_individuals_upper_Trap_UX, num_parameters, tournament_size, seed_number, num_evaluations)\n",
        "print(\"Actual MRPS Trap UX = {}\".format(num_ind_Trap_UX))"
      ],
      "execution_count": null,
      "outputs": [
        {
          "output_type": "stream",
          "name": "stdout",
          "text": [
            "Actual MRPS Trap UX = 416\n"
          ]
        }
      ]
    },
    {
      "cell_type": "code",
      "metadata": {
        "id": "2gsuw-dxTAZf"
      },
      "source": [
        "problem_size = [10, 20, 40, 80, 160]"
      ],
      "execution_count": 16,
      "outputs": []
    },
    {
      "cell_type": "code",
      "metadata": {
        "id": "eKdhEZ6DR21e"
      },
      "source": [
        "def main_Onemax_UX(num_individuals_initialize, tournament_size, problem_size, seed_number, num_evaluations):\n",
        "    \"\"\"\n",
        "    Hàm bisection cho hàm Onemax với lai ghép đồng nhất (UX)\n",
        "\n",
        "    Arguments:\n",
        "    num_individuals_initialize -- Số lượng quần thể khởi tạo\n",
        "    tournament_size -- Số lượng cá thể được chọn lọc\n",
        "    problem_size -- Số lượng vấn đề cần giải quyết\n",
        "    seed_number -- Giá trị seed\n",
        "\n",
        "    Return:\n",
        "    MRPS trung bình của 10 lần chạy bisection thành công\n",
        "    Độ lệch chuẩn của MRPS trong 10 lần chạy bisection thành công\n",
        "    Giá trị trung bình số lần gọi hàm tính độ thích nghi\n",
        "    \"\"\"\n",
        "    mean_individual = []\n",
        "    stddev_individual = []\n",
        "    mean_evaluate_fitness = []\n",
        "    stddev_evaluate_fitness = []\n",
        "    for num_parameters in problem_size:\n",
        "        num_idv_init = num_individuals_initialize\n",
        "        num_evaluate = 0\n",
        "        print(f\"Num_parameters = {num_parameters}\")\n",
        "        \n",
        "        result = []\n",
        "        num_of_evaluation = []\n",
        "        for time in range(0, 100, 10):\n",
        "            num_evaluate = 0\n",
        "            num_individuals_upper, num_evaluate = find_MRPS_upper_bound_Onemax_UX(num_idv_init, num_parameters, tournament_size, seed_number + time, num_evaluate) \n",
        "            num_individual, num_evaluate = find_MRPS_Onemax_UX(num_individuals_upper, num_parameters, tournament_size, seed_number + time, num_evaluate)\n",
        "            result.append(num_individual)\n",
        "            num_of_evaluation.append(num_evaluate)\n",
        "            print(f\"Num_individual = {num_individual}, Num_evaluations = {num_evaluate}\")\n",
        "        \n",
        "        mean_individual.append(np.mean(result))\n",
        "        stddev_individual.append(np.std(result))\n",
        "        mean_evaluate_fitness.append(np.mean(num_of_evaluation))\n",
        "        stddev_evaluate_fitness.append(np.std(num_of_evaluation))\n",
        "\n",
        "        print(f\"Mean individual = {np.mean(result)}, Mean fitness evaluation = {np.mean(num_of_evaluation)}, Stddev individual = {np.std(result)}, Stddev fitness evaluation = {np.std(num_of_evaluation)}\")\n",
        "    return mean_individual, stddev_individual, mean_evaluate_fitness, stddev_evaluate_fitness"
      ],
      "execution_count": 26,
      "outputs": []
    },
    {
      "cell_type": "code",
      "metadata": {
        "colab": {
          "base_uri": "https://localhost:8080/"
        },
        "id": "_q4wnvGyVMyd",
        "outputId": "89daeab4-21bc-4598-a83c-d0935fcf23ed"
      },
      "source": [
        "\"\"\" Onemax with UX crossover \"\"\"\n",
        "seed_number = 19520925\n",
        "num_individuals_initialize = 4\n",
        "num_parameters = 10\n",
        "tournament_size = 4\n",
        "num_evaluations = 0\n",
        "mean_individual_OneMax_UX, stddev_individual, mean_evaluate_fitness, stddev_evaluate_fitness = main_Onemax_UX(num_individuals_initialize, tournament_size, problem_size, seed_number, num_evaluations)"
      ],
      "execution_count": 27,
      "outputs": [
        {
          "output_type": "stream",
          "name": "stdout",
          "text": [
            "Num_parameters = 10\n",
            "Num_individual = 18, Num_evaluations = 390\n",
            "Num_individual = 18, Num_evaluations = 420\n",
            "Num_individual = 18, Num_evaluations = 410\n",
            "Num_individual = 18, Num_evaluations = 394\n",
            "Num_individual = 18, Num_evaluations = 387\n",
            "Num_individual = 26, Num_evaluations = 417\n",
            "Num_individual = 18, Num_evaluations = 406\n",
            "Num_individual = 26, Num_evaluations = 402\n",
            "Num_individual = 18, Num_evaluations = 389\n",
            "Num_individual = 26, Num_evaluations = 371\n",
            "Mean individual = 20.4, Mean fitness evaluation = 398.6, Stddev individual = 3.6660605559646724, Stddev fitness evaluation = 14.40971894243604\n",
            "Num_parameters = 20\n",
            "Num_individual = 26, Num_evaluations = 574\n",
            "Num_individual = 34, Num_evaluations = 777\n",
            "Num_individual = 34, Num_evaluations = 775\n",
            "Num_individual = 32, Num_evaluations = 580\n",
            "Num_individual = 34, Num_evaluations = 778\n",
            "Num_individual = 18, Num_evaluations = 564\n",
            "Num_individual = 32, Num_evaluations = 586\n",
            "Num_individual = 34, Num_evaluations = 778\n",
            "Num_individual = 34, Num_evaluations = 774\n",
            "Num_individual = 34, Num_evaluations = 746\n",
            "Mean individual = 31.2, Mean fitness evaluation = 693.2, Stddev individual = 4.995998398718719, Stddev fitness evaluation = 96.23907730231001\n",
            "Num_parameters = 40\n",
            "Num_individual = 34, Num_evaluations = 1079\n",
            "Num_individual = 34, Num_evaluations = 1112\n",
            "Num_individual = 60, Num_evaluations = 951\n",
            "Num_individual = 34, Num_evaluations = 1129\n",
            "Num_individual = 60, Num_evaluations = 946\n",
            "Num_individual = 52, Num_evaluations = 923\n",
            "Num_individual = 60, Num_evaluations = 940\n",
            "Num_individual = 68, Num_evaluations = 1208\n",
            "Num_individual = 52, Num_evaluations = 955\n",
            "Num_individual = 68, Num_evaluations = 1189\n",
            "Mean individual = 52.2, Mean fitness evaluation = 1043.2, Stddev individual = 12.944496900227525, Stddev fitness evaluation = 106.12238218208259\n",
            "Num_parameters = 80\n",
            "Num_individual = 68, Num_evaluations = 1714\n",
            "Num_individual = 68, Num_evaluations = 1736\n",
            "Num_individual = 68, Num_evaluations = 1715\n",
            "Num_individual = 68, Num_evaluations = 1702\n",
            "Num_individual = 136, Num_evaluations = 1883\n",
            "Num_individual = 68, Num_evaluations = 1720\n",
            "Num_individual = 120, Num_evaluations = 1479\n",
            "Num_individual = 68, Num_evaluations = 1711\n",
            "Num_individual = 68, Num_evaluations = 1718\n",
            "Num_individual = 104, Num_evaluations = 1526\n",
            "Mean individual = 83.6, Mean fitness evaluation = 1690.4, Stddev individual = 24.88051446413438, Stddev fitness evaluation = 106.88797874410386\n",
            "Num_parameters = 160\n",
            "Num_individual = 136, Num_evaluations = 2652\n",
            "Num_individual = 136, Num_evaluations = 2635\n",
            "Num_individual = 136, Num_evaluations = 2609\n",
            "Num_individual = 136, Num_evaluations = 2621\n",
            "Num_individual = 136, Num_evaluations = 2620\n",
            "Num_individual = 128, Num_evaluations = 2089\n",
            "Num_individual = 136, Num_evaluations = 2639\n",
            "Num_individual = 136, Num_evaluations = 2649\n",
            "Num_individual = 136, Num_evaluations = 2650\n",
            "Num_individual = 136, Num_evaluations = 2628\n",
            "Mean individual = 135.2, Mean fitness evaluation = 2579.2, Stddev individual = 2.4, Stddev fitness evaluation = 163.9669478888962\n"
          ]
        }
      ]
    },
    {
      "cell_type": "code",
      "metadata": {
        "colab": {
          "base_uri": "https://localhost:8080/"
        },
        "id": "W2i3bfhust-a",
        "outputId": "f67f7bf9-9b96-494c-8a79-478a2eab121f"
      },
      "source": [
        "\"\"\" Onemax UX \"\"\"\n",
        "print(f\"Mean individual = {mean_individual_OneMax_UX}\\nMean fitness evaluation = {mean_evaluate_fitness}\\nStddev individual = {stddev_individual}\\nStddev fitness evaluation = {stddev_evaluate_fitness}\")"
      ],
      "execution_count": 29,
      "outputs": [
        {
          "output_type": "stream",
          "name": "stdout",
          "text": [
            "Mean individual = [20.4, 31.2, 52.2, 83.6, 135.2]\n",
            "Mean fitness evaluation = [398.6, 693.2, 1043.2, 1690.4, 2579.2]\n",
            "Stddev individual = [3.6660605559646724, 4.995998398718719, 12.944496900227525, 24.88051446413438, 2.4]\n",
            "Stddev fitness evaluation = [14.40971894243604, 96.23907730231001, 106.12238218208259, 106.88797874410386, 163.9669478888962]\n"
          ]
        }
      ]
    },
    {
      "cell_type": "code",
      "metadata": {
        "id": "ebrMSS5YCRHY"
      },
      "source": [
        "def main_Onemax_1X(num_individuals_initialize, tournament_size, problem_size, seed_number, num_evaluations):\n",
        "    \"\"\"\n",
        "    Hàm bisection cho hàm Onemax với lai ghép 1 điểm (1X)\n",
        "\n",
        "    Arguments:\n",
        "    num_individuals_initialize -- Số lượng quần thể khởi tạo\n",
        "    tournament_size -- Số lượng cá thể được chọn lọc\n",
        "    problem_size -- Số lượng vấn đề cần giải quyết\n",
        "    seed_number -- Giá trị seed\n",
        "\n",
        "    Return:\n",
        "    MRPS trung bình của 10 lần chạy bisection thành công\n",
        "    Độ lệch chuẩn của MRPS trong 10 lần chạy bisection thành công\n",
        "    Giá trị trung bình số lần gọi hàm tính độ thích nghi\n",
        "    \"\"\"\n",
        "    mean_individual = []\n",
        "    stddev_individual = []\n",
        "    mean_evaluate_fitness = []\n",
        "    stddev_evaluate_fitness = []\n",
        "    for num_parameters in problem_size:\n",
        "        num_idv_init = num_individuals_initialize\n",
        "        num_evaluate = 0\n",
        "        print(f\"Num_parameters = {num_parameters}\")\n",
        "        \n",
        "        result = []\n",
        "        num_of_evaluation = []\n",
        "        for time in range(0, 100, 10):\n",
        "            num_evaluate = 0\n",
        "            num_individuals_upper, num_evaluate = find_MRPS_upper_bound_Onemax_1X(num_idv_init, num_parameters, tournament_size, seed_number + time, num_evaluate) \n",
        "\n",
        "            num_individual, num_evaluate = find_MRPS_Onemax_1X(num_individuals_upper, num_parameters, tournament_size, seed_number + time, num_evaluate)\n",
        "            result.append(num_individual)\n",
        "            num_of_evaluation.append(num_evaluate)\n",
        "            print(f\"Num_individual = {num_individual}, Num_evaluations = {num_evaluate}\")\n",
        "\n",
        "        mean_individual.append(np.mean(result))\n",
        "        stddev_individual.append(np.std(result))\n",
        "        mean_evaluate_fitness.append(np.mean(num_of_evaluation))\n",
        "        stddev_evaluate_fitness.append(np.std(num_of_evaluation))\n",
        "\n",
        "        print(f\"Mean individual = {np.mean(result)}, Mean fitness evaluation = {np.mean(num_of_evaluation)}, Stddev individual = {np.std(result)}, Stddev fitness evaluation = {np.std(num_of_evaluation)}\\n\")\n",
        "    return mean_individual, stddev_individual, mean_evaluate_fitness, stddev_evaluate_fitness"
      ],
      "execution_count": 43,
      "outputs": []
    },
    {
      "cell_type": "code",
      "metadata": {
        "colab": {
          "base_uri": "https://localhost:8080/"
        },
        "id": "hK2Uhn5OCZgS",
        "outputId": "4505da78-4b54-4192-9d2e-2f8e5f2325c9"
      },
      "source": [
        "\"\"\" Onemax with 1X crossover \"\"\"\n",
        "seed_number = 19520925\n",
        "num_individuals_initialize = 4\n",
        "num_parameters = 10\n",
        "tournament_size = 4\n",
        "num_evaluations = 0\n",
        "mean_individual_OneMax_1X, stddev_individual, mean_evaluate_fitness, stddev_evaluate_fitness = main_Onemax_1X(num_individuals_initialize, tournament_size, problem_size, seed_number, num_evaluations)"
      ],
      "execution_count": 44,
      "outputs": [
        {
          "output_type": "stream",
          "name": "stdout",
          "text": [
            "Num_parameters = 10\n",
            "Num_individual = 34, Num_evaluations = 529\n",
            "Num_individual = 26, Num_evaluations = 429\n",
            "Num_individual = 52, Num_evaluations = 493\n",
            "Num_individual = 34, Num_evaluations = 562\n",
            "Num_individual = 34, Num_evaluations = 542\n",
            "Num_individual = 34, Num_evaluations = 553\n",
            "Num_individual = 34, Num_evaluations = 565\n",
            "Num_individual = 32, Num_evaluations = 405\n",
            "Num_individual = 26, Num_evaluations = 391\n",
            "Num_individual = 32, Num_evaluations = 377\n",
            "Mean individual = 33.8, Mean fitness evaluation = 484.6, Stddev individual = 6.779380502671318, Stddev fitness evaluation = 72.27475354506579\n",
            "\n",
            "Num_parameters = 20\n",
            "Num_individual = 68, Num_evaluations = 856\n",
            "Num_individual = 68, Num_evaluations = 916\n",
            "Num_individual = 68, Num_evaluations = 938\n",
            "Num_individual = 68, Num_evaluations = 949\n",
            "Num_individual = 34, Num_evaluations = 864\n",
            "Num_individual = 64, Num_evaluations = 721\n",
            "Num_individual = 104, Num_evaluations = 805\n",
            "Num_individual = 104, Num_evaluations = 812\n",
            "Num_individual = 68, Num_evaluations = 909\n",
            "Num_individual = 64, Num_evaluations = 698\n",
            "Mean individual = 71.0, Mean fitness evaluation = 846.8, Stddev individual = 19.209372712298546, Stddev fitness evaluation = 82.90090469952665\n",
            "\n",
            "Num_parameters = 40\n",
            "Num_individual = 136, Num_evaluations = 1578\n",
            "Num_individual = 136, Num_evaluations = 1522\n",
            "Num_individual = 208, Num_evaluations = 1338\n",
            "Num_individual = 136, Num_evaluations = 1547\n",
            "Num_individual = 272, Num_evaluations = 1669\n",
            "Num_individual = 256, Num_evaluations = 1349\n",
            "Num_individual = 208, Num_evaluations = 1321\n",
            "Num_individual = 272, Num_evaluations = 1679\n",
            "Num_individual = 136, Num_evaluations = 1535\n",
            "Num_individual = 136, Num_evaluations = 1562\n",
            "Mean individual = 189.6, Mean fitness evaluation = 1510.0, Stddev individual = 57.47208017811779, Stddev fitness evaluation = 124.31170499997174\n",
            "\n",
            "Num_parameters = 80\n",
            "Num_individual = 1088, Num_evaluations = 2856\n",
            "Num_individual = 416, Num_evaluations = 2272\n",
            "Num_individual = 1088, Num_evaluations = 2901\n",
            "Num_individual = 512, Num_evaluations = 2233\n",
            "Num_individual = 544, Num_evaluations = 2656\n",
            "Num_individual = 544, Num_evaluations = 2655\n",
            "Num_individual = 832, Num_evaluations = 2442\n",
            "Num_individual = 832, Num_evaluations = 2370\n",
            "Num_individual = 544, Num_evaluations = 2688\n",
            "Num_individual = 832, Num_evaluations = 2476\n",
            "Mean individual = 723.2, Mean fitness evaluation = 2554.9, Stddev individual = 231.7294974749654, Stddev fitness evaluation = 220.27594058362345\n",
            "\n",
            "Num_parameters = 160\n",
            "Num_individual = 2176, Num_evaluations = 4609\n",
            "Num_individual = 2048, Num_evaluations = 3812\n",
            "Num_individual = 2176, Num_evaluations = 4531\n",
            "Num_individual = 2176, Num_evaluations = 4630\n",
            "Num_individual = 2176, Num_evaluations = 4577\n",
            "Num_individual = 4352, Num_evaluations = 4868\n",
            "Num_individual = 2176, Num_evaluations = 4573\n",
            "Num_individual = 2048, Num_evaluations = 3876\n",
            "Num_individual = 2176, Num_evaluations = 4631\n",
            "Num_individual = 3328, Num_evaluations = 4109\n",
            "Mean individual = 2483.2, Mean fitness evaluation = 4421.6, Stddev individual = 717.7137033664607, Stddev fitness evaluation = 338.7802237439488\n",
            "\n"
          ]
        }
      ]
    },
    {
      "cell_type": "code",
      "metadata": {
        "colab": {
          "base_uri": "https://localhost:8080/"
        },
        "id": "_aGs-85_CfYu",
        "outputId": "0cf56f66-751b-43a1-e967-4cf568a2ff0f"
      },
      "source": [
        "\"\"\"Onemax 1X\"\"\"\n",
        "print(f\"mean_individual_Onemax_1X = {mean_individual_OneMax_1X}\\nmean_fitness_evaluation_Onemax_1X = {mean_evaluate_fitness}\\nstddev_individual_Onemax_1X= {stddev_individual}\\nstddev_fitness_evaluation_Onemax_1X = {stddev_evaluate_fitness}\")"
      ],
      "execution_count": 45,
      "outputs": [
        {
          "output_type": "stream",
          "name": "stdout",
          "text": [
            "mean_individual_Onemax_1X = [33.8, 71.0, 189.6, 723.2, 2483.2]\n",
            "mean_fitness_evaluation_Onemax_1X = [484.6, 846.8, 1510.0, 2554.9, 4421.6]\n",
            "stddev_individual_Onemax_1X= [6.779380502671318, 19.209372712298546, 57.47208017811779, 231.7294974749654, 717.7137033664607]\n",
            "stddev_fitness_evaluation_Onemax_1X = [72.27475354506579, 82.90090469952665, 124.31170499997174, 220.27594058362345, 338.7802237439488]\n"
          ]
        }
      ]
    },
    {
      "cell_type": "code",
      "metadata": {
        "id": "rRuQ8g9L6yog"
      },
      "source": [
        "def main_Trap_1X(num_individuals_initialize, tournament_size, problem_size, seed_number, num_evaluations):\n",
        "    \"\"\"\n",
        "    Hàm bisection cho hàm Trap với lai ghép đồng nhất (UX)\n",
        "\n",
        "    Arguments:\n",
        "    num_individuals_initialize -- Số lượng quần thể khởi tạo\n",
        "    tournament_size -- Số lượng cá thể được chọn lọc\n",
        "    problem_size -- Số lượng vấn đề cần giải quyết\n",
        "    seed_number -- Giá trị seed\n",
        "\n",
        "    Return:\n",
        "    MRPS trung bình của 10 lần chạy bisection thành công\n",
        "    Độ lệch chuẩn của MRPS trong 10 lần chạy bisection thành công\n",
        "    Giá trị trung bình số lần gọi hàm tính độ thích nghi\n",
        "    \"\"\"\n",
        "    mean_individual = []\n",
        "    stddev_individual = []\n",
        "    mean_evaluate_fitness = []\n",
        "    stddev_evaluate_fitness = []\n",
        "    for num_parameters in problem_size:\n",
        "        num_idv_init = num_individuals_initialize\n",
        "        num_evaluate = 0\n",
        "        print(f\"Num_parameters = {num_parameters}\")\n",
        "        result = []\n",
        "        num_of_evaluation = []\n",
        "    \n",
        "        for time in range(0, 100, 10):\n",
        "            num_evaluate = 0\n",
        "            num_individuals_upper, num_evaluate = find_MRPS_upper_bound_Trap_1X(num_idv_init, num_parameters, tournament_size, seed_number + time, num_evaluate) \n",
        "            # print(f\"num_individuals_upper = {num_individuals_upper}\")\n",
        "            if num_individuals_upper == 0:\n",
        "                result.append(num_inidividuals_upper)\n",
        "                result.append(num_individuals_upper)\n",
        "                continue\n",
        "            num_individual, num_evaluate = find_MRPS_Trap_1X(num_individuals_upper, num_parameters, tournament_size, seed_number + time, num_evaluate)\n",
        "            result.append(num_individual)\n",
        "            num_of_evaluation.append(num_evaluate)\n",
        "            print(f\"Num_individual = {num_individual}, Num_evaluations = {num_evaluate}\")\n",
        "\n",
        "        mean_individual.append(np.mean(result))\n",
        "        stddev_individual.append(np.std(result))\n",
        "        mean_evaluate_fitness.append(np.mean(num_of_evaluation))\n",
        "        stddev_evaluate_fitness.append(np.std(num_of_evaluation))\n",
        "        print(f\"Mean individual = {np.mean(result)}, Mean fitness evaluation = {np.mean(num_of_evaluation)}, Stddev individual = {np.std(result)}, Stddev fitness evaluation = {np.std(num_of_evaluation)}\")\n",
        "    return mean_individual, stddev_individual, mean_evaluate_fitness, stddev_evaluate_fitness"
      ],
      "execution_count": 39,
      "outputs": []
    },
    {
      "cell_type": "code",
      "metadata": {
        "id": "Gc-iwjRNYI8v"
      },
      "source": [
        "seed_number = 19520925\n",
        "num_individuals_initialize = 4\n",
        "num_parameters = 10\n",
        "tournament_size = 4\n",
        "num_evaluations = 0\n",
        "mean_individual_Trap_1X, stddev_individual_Trap_1X, mean_evaluate_fitness_Trap_1X = main_Trap_1X(num_individuals_initialize, tournament_size, [160], seed_number, num_evaluations)\n",
        "mean_individual_Trap_1X, stddev_individual_Trap_1X, mean_evaluate_fitness_Trap_1X"
      ],
      "execution_count": null,
      "outputs": []
    },
    {
      "cell_type": "code",
      "metadata": {
        "colab": {
          "base_uri": "https://localhost:8080/",
          "height": 853
        },
        "id": "0BvbVqbsRAht",
        "outputId": "a545ae9d-0583-415c-e99a-effc04eb7205"
      },
      "source": [
        "# Test case 40\n",
        "seed_number = 19520925\n",
        "num_individuals_initialize = 4\n",
        "num_parameters = 10\n",
        "tournament_size = 4\n",
        "num_evaluations = 0\n",
        "mean_individual_Trap_1X, stddev_individual_Trap_1X, mean_evaluate_fitness_Trap_1X = main_Trap_1X(num_individuals_initialize, tournament_size, [40, 80, 160], seed_number, num_evaluations)\n",
        "mean_individual_Trap_1X, stddev_individual_Trap_1X, mean_evaluate_fitness_Trap_1X"
      ],
      "execution_count": 42,
      "outputs": [
        {
          "output_type": "stream",
          "name": "stdout",
          "text": [
            "Num_parameters = 40\n",
            "Num_individual = 832, Num_evaluations = 1724\n",
            "Num_individual = 1088, Num_evaluations = 2110\n",
            "Num_individual = 1088, Num_evaluations = 2119\n",
            "Num_individual = 960, Num_evaluations = 1724\n",
            "Num_individual = 544, Num_evaluations = 1959\n",
            "Num_individual = 544, Num_evaluations = 1936\n",
            "Num_individual = 1088, Num_evaluations = 2128\n",
            "Num_individual = 1024, Num_evaluations = 1772\n",
            "Num_individual = 544, Num_evaluations = 1888\n",
            "Num_individual = 544, Num_evaluations = 1980\n",
            "Mean individual = 825.6, Mean fitness evaluation = 1934.0, Stddev individual = 241.08554498351825, Stddev fitness evaluation = 149.04428871982986\n",
            "Num_parameters = 80\n",
            "Num_individual = 2048, Num_evaluations = 2763\n",
            "Num_individual = 3328, Num_evaluations = 3013\n",
            "Num_individual = 2176, Num_evaluations = 3276\n",
            "Num_individual = 2048, Num_evaluations = 2807\n",
            "Num_individual = 2176, Num_evaluations = 3278\n",
            "Num_individual = 4096, Num_evaluations = 2978\n",
            "Num_individual = 2048, Num_evaluations = 2822\n",
            "Num_individual = 2176, Num_evaluations = 3336\n",
            "Num_individual = 2176, Num_evaluations = 3327\n",
            "Num_individual = 2176, Num_evaluations = 3364\n",
            "Mean individual = 2444.8, Mean fitness evaluation = 3096.4, Stddev individual = 658.7959927018379, Stddev fitness evaluation = 232.0789520831219\n",
            "Num_parameters = 160\n"
          ]
        },
        {
          "output_type": "error",
          "ename": "ZeroDivisionError",
          "evalue": "ignored",
          "traceback": [
            "\u001b[0;31m---------------------------------------------------------------------------\u001b[0m",
            "\u001b[0;31mZeroDivisionError\u001b[0m                         Traceback (most recent call last)",
            "\u001b[0;32m<ipython-input-42-c21e19db2390>\u001b[0m in \u001b[0;36m<module>\u001b[0;34m()\u001b[0m\n\u001b[1;32m      5\u001b[0m \u001b[0mtournament_size\u001b[0m \u001b[0;34m=\u001b[0m \u001b[0;36m4\u001b[0m\u001b[0;34m\u001b[0m\u001b[0;34m\u001b[0m\u001b[0m\n\u001b[1;32m      6\u001b[0m \u001b[0mnum_evaluations\u001b[0m \u001b[0;34m=\u001b[0m \u001b[0;36m0\u001b[0m\u001b[0;34m\u001b[0m\u001b[0;34m\u001b[0m\u001b[0m\n\u001b[0;32m----> 7\u001b[0;31m \u001b[0mmean_individual_Trap_1X\u001b[0m\u001b[0;34m,\u001b[0m \u001b[0mstddev_individual_Trap_1X\u001b[0m\u001b[0;34m,\u001b[0m \u001b[0mmean_evaluate_fitness_Trap_1X\u001b[0m \u001b[0;34m=\u001b[0m \u001b[0mmain_Trap_1X\u001b[0m\u001b[0;34m(\u001b[0m\u001b[0mnum_individuals_initialize\u001b[0m\u001b[0;34m,\u001b[0m \u001b[0mtournament_size\u001b[0m\u001b[0;34m,\u001b[0m \u001b[0;34m[\u001b[0m\u001b[0;36m40\u001b[0m\u001b[0;34m,\u001b[0m \u001b[0;36m80\u001b[0m\u001b[0;34m,\u001b[0m \u001b[0;36m160\u001b[0m\u001b[0;34m]\u001b[0m\u001b[0;34m,\u001b[0m \u001b[0mseed_number\u001b[0m\u001b[0;34m,\u001b[0m \u001b[0mnum_evaluations\u001b[0m\u001b[0;34m)\u001b[0m\u001b[0;34m\u001b[0m\u001b[0;34m\u001b[0m\u001b[0m\n\u001b[0m\u001b[1;32m      8\u001b[0m \u001b[0mmean_individual_Trap_1X\u001b[0m\u001b[0;34m,\u001b[0m \u001b[0mstddev_individual_Trap_1X\u001b[0m\u001b[0;34m,\u001b[0m \u001b[0mmean_evaluate_fitness_Trap_1X\u001b[0m\u001b[0;34m\u001b[0m\u001b[0;34m\u001b[0m\u001b[0m\n",
            "\u001b[0;32m<ipython-input-39-a20a517c0cd4>\u001b[0m in \u001b[0;36mmain_Trap_1X\u001b[0;34m(num_individuals_initialize, tournament_size, problem_size, seed_number, num_evaluations)\u001b[0m\n\u001b[1;32m     29\u001b[0m             \u001b[0mnum_individuals_upper\u001b[0m\u001b[0;34m,\u001b[0m \u001b[0mnum_evaluate\u001b[0m \u001b[0;34m=\u001b[0m \u001b[0mfind_MRPS_upper_bound_Trap_1X\u001b[0m\u001b[0;34m(\u001b[0m\u001b[0mnum_idv_init\u001b[0m\u001b[0;34m,\u001b[0m \u001b[0mnum_parameters\u001b[0m\u001b[0;34m,\u001b[0m \u001b[0mtournament_size\u001b[0m\u001b[0;34m,\u001b[0m \u001b[0mseed_number\u001b[0m \u001b[0;34m+\u001b[0m \u001b[0mtime\u001b[0m\u001b[0;34m,\u001b[0m \u001b[0mnum_evaluate\u001b[0m\u001b[0;34m)\u001b[0m\u001b[0;34m\u001b[0m\u001b[0;34m\u001b[0m\u001b[0m\n\u001b[1;32m     30\u001b[0m             \u001b[0;31m# print(f\"num_individuals_upper = {num_individuals_upper}\")\u001b[0m\u001b[0;34m\u001b[0m\u001b[0;34m\u001b[0m\u001b[0;34m\u001b[0m\u001b[0m\n\u001b[0;32m---> 31\u001b[0;31m             \u001b[0mnum_individual\u001b[0m\u001b[0;34m,\u001b[0m \u001b[0mnum_evaluate\u001b[0m \u001b[0;34m=\u001b[0m \u001b[0mfind_MRPS_Trap_1X\u001b[0m\u001b[0;34m(\u001b[0m\u001b[0mnum_individuals_upper\u001b[0m\u001b[0;34m,\u001b[0m \u001b[0mnum_parameters\u001b[0m\u001b[0;34m,\u001b[0m \u001b[0mtournament_size\u001b[0m\u001b[0;34m,\u001b[0m \u001b[0mseed_number\u001b[0m \u001b[0;34m+\u001b[0m \u001b[0mtime\u001b[0m\u001b[0;34m,\u001b[0m \u001b[0mnum_evaluate\u001b[0m\u001b[0;34m)\u001b[0m\u001b[0;34m\u001b[0m\u001b[0;34m\u001b[0m\u001b[0m\n\u001b[0m\u001b[1;32m     32\u001b[0m             \u001b[0mresult\u001b[0m\u001b[0;34m.\u001b[0m\u001b[0mappend\u001b[0m\u001b[0;34m(\u001b[0m\u001b[0mnum_individual\u001b[0m\u001b[0;34m)\u001b[0m\u001b[0;34m\u001b[0m\u001b[0;34m\u001b[0m\u001b[0m\n\u001b[1;32m     33\u001b[0m             \u001b[0mnum_of_evaluation\u001b[0m\u001b[0;34m.\u001b[0m\u001b[0mappend\u001b[0m\u001b[0;34m(\u001b[0m\u001b[0mnum_evaluate\u001b[0m\u001b[0;34m)\u001b[0m\u001b[0;34m\u001b[0m\u001b[0;34m\u001b[0m\u001b[0m\n",
            "\u001b[0;32m<ipython-input-40-a52e8ec81c48>\u001b[0m in \u001b[0;36mfind_MRPS_Trap_1X\u001b[0;34m(num_individuals_upper, num_parameters, tournament_size, seed_number, num_evaluations)\u001b[0m\n\u001b[1;32m     18\u001b[0m     \u001b[0mupper_bound\u001b[0m \u001b[0;34m=\u001b[0m \u001b[0mnum_individuals_upper\u001b[0m\u001b[0;34m\u001b[0m\u001b[0;34m\u001b[0m\u001b[0m\n\u001b[1;32m     19\u001b[0m     \u001b[0;31m# print(f\"\\nValue: {upper_bound}\")\u001b[0m\u001b[0;34m\u001b[0m\u001b[0;34m\u001b[0m\u001b[0;34m\u001b[0m\u001b[0m\n\u001b[0;32m---> 20\u001b[0;31m     \u001b[0;32mwhile\u001b[0m \u001b[0;34m(\u001b[0m\u001b[0mnum_individuals_upper\u001b[0m \u001b[0;34m-\u001b[0m \u001b[0mnum_individuals_lower\u001b[0m\u001b[0;34m)\u001b[0m\u001b[0;34m/\u001b[0m\u001b[0mnum_individuals_upper\u001b[0m \u001b[0;34m>\u001b[0m \u001b[0;36m0.1\u001b[0m\u001b[0;34m:\u001b[0m\u001b[0;34m\u001b[0m\u001b[0;34m\u001b[0m\u001b[0m\n\u001b[0m\u001b[1;32m     21\u001b[0m         \u001b[0mnum_individuals\u001b[0m \u001b[0;34m=\u001b[0m \u001b[0;34m(\u001b[0m\u001b[0mnum_individuals_upper\u001b[0m \u001b[0;34m+\u001b[0m \u001b[0mnum_individuals_lower\u001b[0m\u001b[0;34m)\u001b[0m\u001b[0;34m//\u001b[0m\u001b[0;36m2\u001b[0m\u001b[0;34m\u001b[0m\u001b[0;34m\u001b[0m\u001b[0m\n\u001b[1;32m     22\u001b[0m \u001b[0;34m\u001b[0m\u001b[0m\n",
            "\u001b[0;31mZeroDivisionError\u001b[0m: division by zero"
          ]
        }
      ]
    },
    {
      "cell_type": "code",
      "metadata": {
        "colab": {
          "base_uri": "https://localhost:8080/",
          "height": 1000
        },
        "id": "03sioDOj69ws",
        "outputId": "f8c9dfab-aa1f-4228-a7a6-8fd59d836343"
      },
      "source": [
        "\"\"\" Trap 5 with 1X crossover\"\"\"\n",
        "seed_number = 19520925\n",
        "num_individuals_initialize = 4\n",
        "num_parameters = 10\n",
        "tournament_size = 4\n",
        "num_evaluations = 0\n",
        "\n",
        "mean_individual_Trap_1X, stddev_individual_Trap_1X, mean_evaluate_fitness_Trap_1X = main_Trap_1X(num_individuals_initialize, tournament_size, problem_size, seed_number, num_evaluations)\n",
        "mean_individual_Trap_1X, stddev_individual_Trap_1X, mean_evaluate_fitness_Trap_1X"
      ],
      "execution_count": 22,
      "outputs": [
        {
          "output_type": "stream",
          "name": "stdout",
          "text": [
            "Num_parameters = 10\n",
            "Num_individual = 104, Num_evaluations = 585\n",
            "Num_individual = 68, Num_evaluations = 704\n",
            "Num_individual = 68, Num_evaluations = 694\n",
            "Num_individual = 68, Num_evaluations = 680\n",
            "Num_individual = 68, Num_evaluations = 691\n",
            "Num_individual = 68, Num_evaluations = 699\n",
            "Num_individual = 104, Num_evaluations = 603\n",
            "Num_individual = 68, Num_evaluations = 675\n",
            "Num_individual = 104, Num_evaluations = 608\n",
            "Num_individual = 68, Num_evaluations = 702\n",
            "Mean individual = 78.8, Mean fitness evaluation = 664.1, Stddev individual = 16.497272501841024, Stddev fitness evaluation = 44.01465664980246\n",
            "Num_parameters = 20\n",
            "Num_individual = 272, Num_evaluations = 1212\n",
            "Num_individual = 240, Num_evaluations = 969\n",
            "Num_individual = 272, Num_evaluations = 1216\n",
            "Num_individual = 416, Num_evaluations = 1117\n",
            "Num_individual = 272, Num_evaluations = 1205\n",
            "Num_individual = 272, Num_evaluations = 1209\n",
            "Num_individual = 272, Num_evaluations = 1223\n",
            "Num_individual = 272, Num_evaluations = 1209\n",
            "Num_individual = 208, Num_evaluations = 978\n",
            "Num_individual = 272, Num_evaluations = 1242\n",
            "Mean individual = 276.8, Mean fitness evaluation = 1158.0, Stddev individual = 50.621734462580406, Stddev fitness evaluation = 97.35193886102115\n",
            "Num_parameters = 40\n",
            "Num_individual = 832, Num_evaluations = 1724\n",
            "Num_individual = 1088, Num_evaluations = 2110\n",
            "Num_individual = 1088, Num_evaluations = 2119\n",
            "Num_individual = 960, Num_evaluations = 1724\n",
            "Num_individual = 544, Num_evaluations = 1959\n",
            "Num_individual = 544, Num_evaluations = 1936\n",
            "Num_individual = 1088, Num_evaluations = 2128\n",
            "Num_individual = 0, Num_evaluations = 1772\n",
            "Num_individual = 544, Num_evaluations = 1888\n",
            "Num_individual = 544, Num_evaluations = 1980\n",
            "Mean individual = 723.2, Mean fitness evaluation = 1934.0, Stddev individual = 334.4574113396204, Stddev fitness evaluation = 149.04428871982986\n",
            "Num_parameters = 80\n",
            "Num_individual = 0, Num_evaluations = 2763\n",
            "Num_individual = 3328, Num_evaluations = 3013\n",
            "Num_individual = 2176, Num_evaluations = 3276\n",
            "Num_individual = 0, Num_evaluations = 2807\n",
            "Num_individual = 2176, Num_evaluations = 3278\n",
            "Num_individual = 0, Num_evaluations = 2978\n",
            "Num_individual = 0, Num_evaluations = 2822\n",
            "Num_individual = 2176, Num_evaluations = 3336\n",
            "Num_individual = 2176, Num_evaluations = 3327\n",
            "Num_individual = 2176, Num_evaluations = 3364\n",
            "Mean individual = 1420.8, Mean fitness evaluation = 3096.4, Stddev individual = 1206.8031156738036, Stddev fitness evaluation = 232.0789520831219\n",
            "Num_parameters = 160\n"
          ]
        },
        {
          "output_type": "error",
          "ename": "KeyboardInterrupt",
          "evalue": "ignored",
          "traceback": [
            "\u001b[0;31m---------------------------------------------------------------------------\u001b[0m",
            "\u001b[0;31mKeyboardInterrupt\u001b[0m                         Traceback (most recent call last)",
            "\u001b[0;32m<ipython-input-22-64cdcce9535e>\u001b[0m in \u001b[0;36m<module>\u001b[0;34m()\u001b[0m\n\u001b[1;32m      6\u001b[0m \u001b[0mnum_evaluations\u001b[0m \u001b[0;34m=\u001b[0m \u001b[0;36m0\u001b[0m\u001b[0;34m\u001b[0m\u001b[0;34m\u001b[0m\u001b[0m\n\u001b[1;32m      7\u001b[0m \u001b[0;34m\u001b[0m\u001b[0m\n\u001b[0;32m----> 8\u001b[0;31m \u001b[0mmean_individual_Trap_1X\u001b[0m\u001b[0;34m,\u001b[0m \u001b[0mstddev_individual_Trap_1X\u001b[0m\u001b[0;34m,\u001b[0m \u001b[0mmean_evaluate_fitness_Trap_1X\u001b[0m \u001b[0;34m=\u001b[0m \u001b[0mmain_Trap_1X\u001b[0m\u001b[0;34m(\u001b[0m\u001b[0mnum_individuals_initialize\u001b[0m\u001b[0;34m,\u001b[0m \u001b[0mtournament_size\u001b[0m\u001b[0;34m,\u001b[0m \u001b[0mproblem_size\u001b[0m\u001b[0;34m,\u001b[0m \u001b[0mseed_number\u001b[0m\u001b[0;34m,\u001b[0m \u001b[0mnum_evaluations\u001b[0m\u001b[0;34m)\u001b[0m\u001b[0;34m\u001b[0m\u001b[0;34m\u001b[0m\u001b[0m\n\u001b[0m\u001b[1;32m      9\u001b[0m \u001b[0mmean_individual_Trap_1X\u001b[0m\u001b[0;34m,\u001b[0m \u001b[0mstddev_individual_Trap_1X\u001b[0m\u001b[0;34m,\u001b[0m \u001b[0mmean_evaluate_fitness_Trap_1X\u001b[0m\u001b[0;34m\u001b[0m\u001b[0;34m\u001b[0m\u001b[0m\n",
            "\u001b[0;32m<ipython-input-17-a20a517c0cd4>\u001b[0m in \u001b[0;36mmain_Trap_1X\u001b[0;34m(num_individuals_initialize, tournament_size, problem_size, seed_number, num_evaluations)\u001b[0m\n\u001b[1;32m     29\u001b[0m             \u001b[0mnum_individuals_upper\u001b[0m\u001b[0;34m,\u001b[0m \u001b[0mnum_evaluate\u001b[0m \u001b[0;34m=\u001b[0m \u001b[0mfind_MRPS_upper_bound_Trap_1X\u001b[0m\u001b[0;34m(\u001b[0m\u001b[0mnum_idv_init\u001b[0m\u001b[0;34m,\u001b[0m \u001b[0mnum_parameters\u001b[0m\u001b[0;34m,\u001b[0m \u001b[0mtournament_size\u001b[0m\u001b[0;34m,\u001b[0m \u001b[0mseed_number\u001b[0m \u001b[0;34m+\u001b[0m \u001b[0mtime\u001b[0m\u001b[0;34m,\u001b[0m \u001b[0mnum_evaluate\u001b[0m\u001b[0;34m)\u001b[0m\u001b[0;34m\u001b[0m\u001b[0;34m\u001b[0m\u001b[0m\n\u001b[1;32m     30\u001b[0m             \u001b[0;31m# print(f\"num_individuals_upper = {num_individuals_upper}\")\u001b[0m\u001b[0;34m\u001b[0m\u001b[0;34m\u001b[0m\u001b[0;34m\u001b[0m\u001b[0m\n\u001b[0;32m---> 31\u001b[0;31m             \u001b[0mnum_individual\u001b[0m\u001b[0;34m,\u001b[0m \u001b[0mnum_evaluate\u001b[0m \u001b[0;34m=\u001b[0m \u001b[0mfind_MRPS_Trap_1X\u001b[0m\u001b[0;34m(\u001b[0m\u001b[0mnum_individuals_upper\u001b[0m\u001b[0;34m,\u001b[0m \u001b[0mnum_parameters\u001b[0m\u001b[0;34m,\u001b[0m \u001b[0mtournament_size\u001b[0m\u001b[0;34m,\u001b[0m \u001b[0mseed_number\u001b[0m \u001b[0;34m+\u001b[0m \u001b[0mtime\u001b[0m\u001b[0;34m,\u001b[0m \u001b[0mnum_evaluate\u001b[0m\u001b[0;34m)\u001b[0m\u001b[0;34m\u001b[0m\u001b[0;34m\u001b[0m\u001b[0m\n\u001b[0m\u001b[1;32m     32\u001b[0m             \u001b[0mresult\u001b[0m\u001b[0;34m.\u001b[0m\u001b[0mappend\u001b[0m\u001b[0;34m(\u001b[0m\u001b[0mnum_individual\u001b[0m\u001b[0;34m)\u001b[0m\u001b[0;34m\u001b[0m\u001b[0;34m\u001b[0m\u001b[0m\n\u001b[1;32m     33\u001b[0m             \u001b[0mnum_of_evaluation\u001b[0m\u001b[0;34m.\u001b[0m\u001b[0mappend\u001b[0m\u001b[0;34m(\u001b[0m\u001b[0mnum_evaluate\u001b[0m\u001b[0;34m)\u001b[0m\u001b[0;34m\u001b[0m\u001b[0;34m\u001b[0m\u001b[0m\n",
            "\u001b[0;32m<ipython-input-15-3b5db2eb3497>\u001b[0m in \u001b[0;36mfind_MRPS_Trap_1X\u001b[0;34m(num_individuals_upper, num_parameters, tournament_size, seed_number, num_evaluations)\u001b[0m\n\u001b[1;32m     25\u001b[0m         \u001b[0;32mfor\u001b[0m \u001b[0mi\u001b[0m \u001b[0;32min\u001b[0m \u001b[0mrange\u001b[0m\u001b[0;34m(\u001b[0m\u001b[0;36m0\u001b[0m\u001b[0;34m,\u001b[0m \u001b[0;36m10\u001b[0m\u001b[0;34m,\u001b[0m \u001b[0;36m1\u001b[0m\u001b[0;34m)\u001b[0m\u001b[0;34m:\u001b[0m\u001b[0;34m\u001b[0m\u001b[0;34m\u001b[0m\u001b[0m\n\u001b[1;32m     26\u001b[0m             \u001b[0mnp\u001b[0m\u001b[0;34m.\u001b[0m\u001b[0mrandom\u001b[0m\u001b[0;34m.\u001b[0m\u001b[0mseed\u001b[0m\u001b[0;34m(\u001b[0m\u001b[0mseed\u001b[0m \u001b[0;34m+\u001b[0m \u001b[0mi\u001b[0m\u001b[0;34m)\u001b[0m\u001b[0;34m\u001b[0m\u001b[0;34m\u001b[0m\u001b[0m\n\u001b[0;32m---> 27\u001b[0;31m             \u001b[0mpop_fitness\u001b[0m\u001b[0;34m,\u001b[0m \u001b[0mnum_evaluations\u001b[0m \u001b[0;34m=\u001b[0m \u001b[0mpopop_trap_1X\u001b[0m\u001b[0;34m(\u001b[0m\u001b[0mnum_individuals\u001b[0m\u001b[0;34m,\u001b[0m \u001b[0mnum_parameters\u001b[0m\u001b[0;34m,\u001b[0m \u001b[0mtournament_size\u001b[0m\u001b[0;34m,\u001b[0m \u001b[0mnum_evaluations\u001b[0m\u001b[0;34m)\u001b[0m\u001b[0;34m\u001b[0m\u001b[0;34m\u001b[0m\u001b[0m\n\u001b[0m\u001b[1;32m     28\u001b[0m \u001b[0;34m\u001b[0m\u001b[0m\n\u001b[1;32m     29\u001b[0m             \u001b[0;32mif\u001b[0m \u001b[0mis_successful\u001b[0m\u001b[0;34m(\u001b[0m\u001b[0mpop_fitness\u001b[0m\u001b[0;34m,\u001b[0m \u001b[0mnum_parameters\u001b[0m\u001b[0;34m,\u001b[0m \u001b[0mnum_individuals\u001b[0m\u001b[0;34m)\u001b[0m \u001b[0;34m==\u001b[0m \u001b[0;32mTrue\u001b[0m\u001b[0;34m:\u001b[0m\u001b[0;34m\u001b[0m\u001b[0;34m\u001b[0m\u001b[0m\n",
            "\u001b[0;32m<ipython-input-13-b86a262dcaea>\u001b[0m in \u001b[0;36mpopop_trap_1X\u001b[0;34m(num_individuals, num_parameters, tournament_size, num_evaluations)\u001b[0m\n\u001b[1;32m     23\u001b[0m     \u001b[0;32mwhile\u001b[0m \u001b[0;32mnot\u001b[0m \u001b[0mhas_converged\u001b[0m\u001b[0;34m(\u001b[0m\u001b[0mpop_fitness\u001b[0m\u001b[0;34m)\u001b[0m\u001b[0;34m:\u001b[0m\u001b[0;34m\u001b[0m\u001b[0;34m\u001b[0m\u001b[0m\n\u001b[1;32m     24\u001b[0m         \u001b[0moffspring\u001b[0m \u001b[0;34m=\u001b[0m \u001b[0mvariation_1X\u001b[0m\u001b[0;34m(\u001b[0m\u001b[0mpop\u001b[0m\u001b[0;34m)\u001b[0m\u001b[0;34m\u001b[0m\u001b[0;34m\u001b[0m\u001b[0m\n\u001b[0;32m---> 25\u001b[0;31m         \u001b[0moffspring_fitness\u001b[0m \u001b[0;34m=\u001b[0m \u001b[0mevaluate_population_trap\u001b[0m\u001b[0;34m(\u001b[0m\u001b[0moffspring\u001b[0m\u001b[0;34m)\u001b[0m\u001b[0;34m\u001b[0m\u001b[0;34m\u001b[0m\u001b[0m\n\u001b[0m\u001b[1;32m     26\u001b[0m         \u001b[0mnum_evaluations\u001b[0m \u001b[0;34m+=\u001b[0m \u001b[0;36m1\u001b[0m\u001b[0;34m\u001b[0m\u001b[0;34m\u001b[0m\u001b[0m\n\u001b[1;32m     27\u001b[0m \u001b[0;34m\u001b[0m\u001b[0m\n",
            "\u001b[0;32m<ipython-input-8-3a0408922943>\u001b[0m in \u001b[0;36mevaluate_population_trap\u001b[0;34m(pop)\u001b[0m\n\u001b[1;32m      9\u001b[0m     \u001b[0mvalues\u001b[0m \u001b[0;34m-\u001b[0m\u001b[0;34m-\u001b[0m \u001b[0mGiá\u001b[0m \u001b[0mtrị\u001b[0m \u001b[0mcủa\u001b[0m \u001b[0mtất\u001b[0m \u001b[0mcả\u001b[0m \u001b[0mcác\u001b[0m \u001b[0mcá\u001b[0m \u001b[0mthể\u001b[0m \u001b[0mtrong\u001b[0m \u001b[0mquần\u001b[0m \u001b[0mthể\u001b[0m\u001b[0;34m\u001b[0m\u001b[0;34m\u001b[0m\u001b[0m\n\u001b[1;32m     10\u001b[0m     \"\"\"\n\u001b[0;32m---> 11\u001b[0;31m     \u001b[0mvalues\u001b[0m \u001b[0;34m=\u001b[0m \u001b[0mnp\u001b[0m\u001b[0;34m.\u001b[0m\u001b[0marray\u001b[0m\u001b[0;34m(\u001b[0m\u001b[0;34m[\u001b[0m\u001b[0mconcatenated_trap_k\u001b[0m\u001b[0;34m(\u001b[0m\u001b[0mind\u001b[0m\u001b[0;34m,\u001b[0m \u001b[0;36m5\u001b[0m\u001b[0;34m)\u001b[0m \u001b[0;32mfor\u001b[0m \u001b[0mind\u001b[0m \u001b[0;32min\u001b[0m \u001b[0mpop\u001b[0m\u001b[0;34m]\u001b[0m\u001b[0;34m)\u001b[0m\u001b[0;34m\u001b[0m\u001b[0;34m\u001b[0m\u001b[0m\n\u001b[0m\u001b[1;32m     12\u001b[0m     \u001b[0;32mreturn\u001b[0m \u001b[0mvalues\u001b[0m\u001b[0;34m\u001b[0m\u001b[0;34m\u001b[0m\u001b[0m\n",
            "\u001b[0;32m<ipython-input-8-3a0408922943>\u001b[0m in \u001b[0;36m<listcomp>\u001b[0;34m(.0)\u001b[0m\n\u001b[1;32m      9\u001b[0m     \u001b[0mvalues\u001b[0m \u001b[0;34m-\u001b[0m\u001b[0;34m-\u001b[0m \u001b[0mGiá\u001b[0m \u001b[0mtrị\u001b[0m \u001b[0mcủa\u001b[0m \u001b[0mtất\u001b[0m \u001b[0mcả\u001b[0m \u001b[0mcác\u001b[0m \u001b[0mcá\u001b[0m \u001b[0mthể\u001b[0m \u001b[0mtrong\u001b[0m \u001b[0mquần\u001b[0m \u001b[0mthể\u001b[0m\u001b[0;34m\u001b[0m\u001b[0;34m\u001b[0m\u001b[0m\n\u001b[1;32m     10\u001b[0m     \"\"\"\n\u001b[0;32m---> 11\u001b[0;31m     \u001b[0mvalues\u001b[0m \u001b[0;34m=\u001b[0m \u001b[0mnp\u001b[0m\u001b[0;34m.\u001b[0m\u001b[0marray\u001b[0m\u001b[0;34m(\u001b[0m\u001b[0;34m[\u001b[0m\u001b[0mconcatenated_trap_k\u001b[0m\u001b[0;34m(\u001b[0m\u001b[0mind\u001b[0m\u001b[0;34m,\u001b[0m \u001b[0;36m5\u001b[0m\u001b[0;34m)\u001b[0m \u001b[0;32mfor\u001b[0m \u001b[0mind\u001b[0m \u001b[0;32min\u001b[0m \u001b[0mpop\u001b[0m\u001b[0;34m]\u001b[0m\u001b[0;34m)\u001b[0m\u001b[0;34m\u001b[0m\u001b[0;34m\u001b[0m\u001b[0m\n\u001b[0m\u001b[1;32m     12\u001b[0m     \u001b[0;32mreturn\u001b[0m \u001b[0mvalues\u001b[0m\u001b[0;34m\u001b[0m\u001b[0;34m\u001b[0m\u001b[0m\n",
            "\u001b[0;32m<ipython-input-6-c27cea2299fb>\u001b[0m in \u001b[0;36mconcatenated_trap_k\u001b[0;34m(ind, k)\u001b[0m\n\u001b[1;32m     13\u001b[0m     \u001b[0;32mfor\u001b[0m \u001b[0mi\u001b[0m \u001b[0;32min\u001b[0m \u001b[0mrange\u001b[0m\u001b[0;34m(\u001b[0m\u001b[0;36m0\u001b[0m\u001b[0;34m,\u001b[0m \u001b[0mlen\u001b[0m\u001b[0;34m(\u001b[0m\u001b[0mind\u001b[0m\u001b[0;34m)\u001b[0m\u001b[0;34m,\u001b[0m \u001b[0mk\u001b[0m\u001b[0;34m)\u001b[0m\u001b[0;34m:\u001b[0m\u001b[0;34m\u001b[0m\u001b[0;34m\u001b[0m\u001b[0m\n\u001b[1;32m     14\u001b[0m         \u001b[0mu\u001b[0m \u001b[0;34m=\u001b[0m \u001b[0;36m0\u001b[0m\u001b[0;34m\u001b[0m\u001b[0;34m\u001b[0m\u001b[0m\n\u001b[0;32m---> 15\u001b[0;31m         \u001b[0;32mfor\u001b[0m \u001b[0mj\u001b[0m \u001b[0;32min\u001b[0m \u001b[0mrange\u001b[0m\u001b[0;34m(\u001b[0m\u001b[0;36m0\u001b[0m\u001b[0;34m,\u001b[0m \u001b[0mk\u001b[0m\u001b[0;34m)\u001b[0m\u001b[0;34m:\u001b[0m\u001b[0;34m\u001b[0m\u001b[0;34m\u001b[0m\u001b[0m\n\u001b[0m\u001b[1;32m     16\u001b[0m             \u001b[0mu\u001b[0m \u001b[0;34m+=\u001b[0m \u001b[0mind\u001b[0m\u001b[0;34m[\u001b[0m\u001b[0mi\u001b[0m\u001b[0;34m+\u001b[0m\u001b[0mj\u001b[0m\u001b[0;34m]\u001b[0m\u001b[0;34m\u001b[0m\u001b[0;34m\u001b[0m\u001b[0m\n\u001b[1;32m     17\u001b[0m         \u001b[0;32mif\u001b[0m \u001b[0mu\u001b[0m \u001b[0;34m==\u001b[0m \u001b[0mk\u001b[0m\u001b[0;34m:\u001b[0m\u001b[0;34m\u001b[0m\u001b[0;34m\u001b[0m\u001b[0m\n",
            "\u001b[0;31mKeyboardInterrupt\u001b[0m: "
          ]
        }
      ]
    },
    {
      "cell_type": "code",
      "metadata": {
        "id": "gHqgLD43SjaH"
      },
      "source": [
        "def main_Trap_UX(num_individuals_initialize, tournament_size, problem_size, seed_number, num_evaluations):\n",
        "    \"\"\"\n",
        "    Hàm bisection cho hàm Trap với lai ghép đồng nhất (UX)\n",
        "\n",
        "    Arguments:\n",
        "    num_individuals_initialize -- Số lượng quần thể khởi tạo\n",
        "    tournament_size -- Số lượng cá thể được chọn lọc\n",
        "    problem_size -- Số lượng vấn đề cần giải quyết\n",
        "    seed_number -- Giá trị seed\n",
        "\n",
        "    Return:\n",
        "    MRPS trung bình của 10 lần chạy bisection thành công\n",
        "    Độ lệch chuẩn của MRPS trong 10 lần chạy bisection thành công\n",
        "    Giá trị trung bình số lần gọi hàm tính độ thích nghi\n",
        "    \"\"\"\n",
        "    mean_individual = []\n",
        "    stddev_individual = []\n",
        "    mean_evaluate_fitness = []\n",
        "    stddev_evaluate_fitness = []\n",
        "    for num_parameters in problem_size:\n",
        "        num_idv_init = num_individuals_initialize\n",
        "        num_evaluate = 0\n",
        "        print(f\"Num_parameters = {num_parameters}\")\n",
        "        result = []\n",
        "        num_of_evaluation = []\n",
        "    \n",
        "        for time in range(0, 100, 10):\n",
        "            num_evaluate = 0\n",
        "            num_individuals_upper, num_evaluate = find_MRPS_upper_bound_Trap_UX(num_idv_init, num_parameters, tournament_size, seed_number + time, num_evaluate) \n",
        "            # print(f\"num_individuals_upper = {num_individuals_upper}\")\n",
        "            if num_individuals_upper == 0:\n",
        "                continue\n",
        "            num_individual, num_evaluate = find_MRPS_Trap_UX(num_individuals_upper, num_parameters, tournament_size, seed_number + time, num_evaluate)\n",
        "            result.append(num_individual)\n",
        "            num_of_evaluation.append(num_evaluate)\n",
        "            print(f\"Num_individual = {num_individual}, Num_evaluations = {num_evaluate}\")\n",
        "\n",
        "        mean_individual.append(np.mean(result))\n",
        "        stddev_individual.append(np.std(result))\n",
        "        mean_evaluate_fitness.append(np.mean(num_of_evaluation))\n",
        "        stddev_evaluate_fitness.append(np.std(num_of_evaluation))\n",
        "        print(f\"Mean individual = {np.mean(result)}, Mean fitness evaluation = {np.mean(num_of_evaluation)}, Stddev individual = {np.std(result)}, Stddev fitness evaluation = {np.std(num_of_evaluation)}\")\n",
        "    return mean_individual, stddev_individual, mean_evaluate_fitness, stddev_evaluate_fitness"
      ],
      "execution_count": 23,
      "outputs": []
    },
    {
      "cell_type": "code",
      "metadata": {
        "id": "nu6IdLPPTkyv",
        "colab": {
          "base_uri": "https://localhost:8080/",
          "height": 1000
        },
        "outputId": "663647df-2711-4b8e-835a-126dd8d886f7"
      },
      "source": [
        "\"\"\" Trap 5 with UX crossover\"\"\"\n",
        "seed_number = 19520925\n",
        "num_individuals_initialize = 4\n",
        "num_parameters = 10\n",
        "tournament_size = 4\n",
        "num_evaluations = 0\n",
        "\n",
        "mean_individual_Trap_UX, stddev_individual_TrapUX, mean_evaluate_fitness_Trap_UX = main_Trap_UX(num_individuals_initialize, tournament_size, problem_size, seed_number, num_evaluations)\n",
        "mean_individual_Trap_UX, stddev_individual_TrapUX, mean_evaluate_fitness_Trap_UX"
      ],
      "execution_count": 24,
      "outputs": [
        {
          "output_type": "stream",
          "name": "stdout",
          "text": [
            "Num_parameters = 10\n",
            "Num_individual = 416, Num_evaluations = 891\n",
            "Num_individual = 544, Num_evaluations = 1115\n",
            "Num_individual = 272, Num_evaluations = 1085\n",
            "Num_individual = 480, Num_evaluations = 931\n",
            "Num_individual = 416, Num_evaluations = 886\n",
            "Num_individual = 240, Num_evaluations = 834\n",
            "Num_individual = 256, Num_evaluations = 803\n",
            "Num_individual = 544, Num_evaluations = 1166\n",
            "Num_individual = 272, Num_evaluations = 997\n",
            "Num_individual = 272, Num_evaluations = 1048\n",
            "Mean individual = 371.2, Mean fitness evaluation = 975.6, Stddev individual = 116.43779455142561, Stddev fitness evaluation = 118.47717079674041\n",
            "Num_parameters = 20\n",
            "Num_individual = 2176, Num_evaluations = 2286\n",
            "Num_individual = 2176, Num_evaluations = 2300\n",
            "Num_individual = 4352, Num_evaluations = 2587\n",
            "Num_individual = 4096, Num_evaluations = 2246\n",
            "Num_individual = 2176, Num_evaluations = 2356\n",
            "Num_individual = 2176, Num_evaluations = 2364\n",
            "Num_individual = 3328, Num_evaluations = 2185\n",
            "Num_individual = 4352, Num_evaluations = 2608\n",
            "Num_individual = 3328, Num_evaluations = 2171\n",
            "Num_individual = 3328, Num_evaluations = 2169\n",
            "Mean individual = 3148.8, Mean fitness evaluation = 2327.2, Stddev individual = 876.0288579721561, Stddev fitness evaluation = 150.7334070470113\n",
            "Num_parameters = 40\n"
          ]
        },
        {
          "output_type": "stream",
          "name": "stderr",
          "text": [
            "/usr/local/lib/python3.7/dist-packages/numpy/core/fromnumeric.py:3373: RuntimeWarning: Mean of empty slice.\n",
            "  out=out, **kwargs)\n",
            "/usr/local/lib/python3.7/dist-packages/numpy/core/_methods.py:170: RuntimeWarning: invalid value encountered in double_scalars\n",
            "  ret = ret.dtype.type(ret / rcount)\n",
            "/usr/local/lib/python3.7/dist-packages/numpy/core/_methods.py:234: RuntimeWarning: Degrees of freedom <= 0 for slice\n",
            "  keepdims=keepdims)\n",
            "/usr/local/lib/python3.7/dist-packages/numpy/core/_methods.py:195: RuntimeWarning: invalid value encountered in true_divide\n",
            "  arrmean, rcount, out=arrmean, casting='unsafe', subok=False)\n",
            "/usr/local/lib/python3.7/dist-packages/numpy/core/_methods.py:226: RuntimeWarning: invalid value encountered in double_scalars\n",
            "  ret = ret.dtype.type(ret / rcount)\n"
          ]
        },
        {
          "output_type": "stream",
          "name": "stdout",
          "text": [
            "Mean individual = nan, Mean fitness evaluation = nan, Stddev individual = nan, Stddev fitness evaluation = nan\n",
            "Num_parameters = 80\n"
          ]
        },
        {
          "output_type": "error",
          "ename": "KeyboardInterrupt",
          "evalue": "ignored",
          "traceback": [
            "\u001b[0;31m---------------------------------------------------------------------------\u001b[0m",
            "\u001b[0;31mKeyboardInterrupt\u001b[0m                         Traceback (most recent call last)",
            "\u001b[0;32m<ipython-input-24-c3c38ba79cb2>\u001b[0m in \u001b[0;36m<module>\u001b[0;34m()\u001b[0m\n\u001b[1;32m      6\u001b[0m \u001b[0mnum_evaluations\u001b[0m \u001b[0;34m=\u001b[0m \u001b[0;36m0\u001b[0m\u001b[0;34m\u001b[0m\u001b[0;34m\u001b[0m\u001b[0m\n\u001b[1;32m      7\u001b[0m \u001b[0;34m\u001b[0m\u001b[0m\n\u001b[0;32m----> 8\u001b[0;31m \u001b[0mmean_individual_Trap_UX\u001b[0m\u001b[0;34m,\u001b[0m \u001b[0mstddev_individual_TrapUX\u001b[0m\u001b[0;34m,\u001b[0m \u001b[0mmean_evaluate_fitness_Trap_UX\u001b[0m \u001b[0;34m=\u001b[0m \u001b[0mmain_Trap_UX\u001b[0m\u001b[0;34m(\u001b[0m\u001b[0mnum_individuals_initialize\u001b[0m\u001b[0;34m,\u001b[0m \u001b[0mtournament_size\u001b[0m\u001b[0;34m,\u001b[0m \u001b[0mproblem_size\u001b[0m\u001b[0;34m,\u001b[0m \u001b[0mseed_number\u001b[0m\u001b[0;34m,\u001b[0m \u001b[0mnum_evaluations\u001b[0m\u001b[0;34m)\u001b[0m\u001b[0;34m\u001b[0m\u001b[0;34m\u001b[0m\u001b[0m\n\u001b[0m\u001b[1;32m      9\u001b[0m \u001b[0mmean_individual_Trap_UX\u001b[0m\u001b[0;34m,\u001b[0m \u001b[0mstddev_individual_TrapUX\u001b[0m\u001b[0;34m,\u001b[0m \u001b[0mmean_evaluate_fitness_Trap_UX\u001b[0m\u001b[0;34m\u001b[0m\u001b[0;34m\u001b[0m\u001b[0m\n",
            "\u001b[0;32m<ipython-input-23-2b293ac9941f>\u001b[0m in \u001b[0;36mmain_Trap_UX\u001b[0;34m(num_individuals_initialize, tournament_size, problem_size, seed_number, num_evaluations)\u001b[0m\n\u001b[1;32m     27\u001b[0m         \u001b[0;32mfor\u001b[0m \u001b[0mtime\u001b[0m \u001b[0;32min\u001b[0m \u001b[0mrange\u001b[0m\u001b[0;34m(\u001b[0m\u001b[0;36m0\u001b[0m\u001b[0;34m,\u001b[0m \u001b[0;36m100\u001b[0m\u001b[0;34m,\u001b[0m \u001b[0;36m10\u001b[0m\u001b[0;34m)\u001b[0m\u001b[0;34m:\u001b[0m\u001b[0;34m\u001b[0m\u001b[0;34m\u001b[0m\u001b[0m\n\u001b[1;32m     28\u001b[0m             \u001b[0mnum_evaluate\u001b[0m \u001b[0;34m=\u001b[0m \u001b[0;36m0\u001b[0m\u001b[0;34m\u001b[0m\u001b[0;34m\u001b[0m\u001b[0m\n\u001b[0;32m---> 29\u001b[0;31m             \u001b[0mnum_individuals_upper\u001b[0m\u001b[0;34m,\u001b[0m \u001b[0mnum_evaluate\u001b[0m \u001b[0;34m=\u001b[0m \u001b[0mfind_MRPS_upper_bound_Trap_UX\u001b[0m\u001b[0;34m(\u001b[0m\u001b[0mnum_idv_init\u001b[0m\u001b[0;34m,\u001b[0m \u001b[0mnum_parameters\u001b[0m\u001b[0;34m,\u001b[0m \u001b[0mtournament_size\u001b[0m\u001b[0;34m,\u001b[0m \u001b[0mseed_number\u001b[0m \u001b[0;34m+\u001b[0m \u001b[0mtime\u001b[0m\u001b[0;34m,\u001b[0m \u001b[0mnum_evaluate\u001b[0m\u001b[0;34m)\u001b[0m\u001b[0;34m\u001b[0m\u001b[0;34m\u001b[0m\u001b[0m\n\u001b[0m\u001b[1;32m     30\u001b[0m             \u001b[0;31m# print(f\"num_individuals_upper = {num_individuals_upper}\")\u001b[0m\u001b[0;34m\u001b[0m\u001b[0;34m\u001b[0m\u001b[0;34m\u001b[0m\u001b[0m\n\u001b[1;32m     31\u001b[0m             \u001b[0;32mif\u001b[0m \u001b[0mnum_individuals_upper\u001b[0m \u001b[0;34m==\u001b[0m \u001b[0;36m0\u001b[0m\u001b[0;34m:\u001b[0m\u001b[0;34m\u001b[0m\u001b[0;34m\u001b[0m\u001b[0m\n",
            "\u001b[0;32m<ipython-input-14-55187f1e5603>\u001b[0m in \u001b[0;36mfind_MRPS_upper_bound_Trap_UX\u001b[0;34m(num_individuals_initialize, num_parameters, tournament_size, seed_number, num_evaluations)\u001b[0m\n\u001b[1;32m     23\u001b[0m         \u001b[0;32mfor\u001b[0m \u001b[0mi\u001b[0m \u001b[0;32min\u001b[0m \u001b[0mrange\u001b[0m\u001b[0;34m(\u001b[0m\u001b[0;36m0\u001b[0m\u001b[0;34m,\u001b[0m \u001b[0;36m10\u001b[0m\u001b[0;34m,\u001b[0m \u001b[0;36m1\u001b[0m\u001b[0;34m)\u001b[0m\u001b[0;34m:\u001b[0m\u001b[0;34m\u001b[0m\u001b[0;34m\u001b[0m\u001b[0m\n\u001b[1;32m     24\u001b[0m             \u001b[0mnp\u001b[0m\u001b[0;34m.\u001b[0m\u001b[0mrandom\u001b[0m\u001b[0;34m.\u001b[0m\u001b[0mseed\u001b[0m\u001b[0;34m(\u001b[0m\u001b[0mseed\u001b[0m \u001b[0;34m+\u001b[0m \u001b[0mi\u001b[0m\u001b[0;34m)\u001b[0m\u001b[0;34m\u001b[0m\u001b[0;34m\u001b[0m\u001b[0m\n\u001b[0;32m---> 25\u001b[0;31m             \u001b[0mpop_fitness\u001b[0m\u001b[0;34m,\u001b[0m \u001b[0mnum_evaluations\u001b[0m \u001b[0;34m=\u001b[0m \u001b[0mpopop_trap\u001b[0m\u001b[0;34m(\u001b[0m\u001b[0mnum_individuals_initialize\u001b[0m\u001b[0;34m,\u001b[0m \u001b[0mnum_parameters\u001b[0m\u001b[0;34m,\u001b[0m \u001b[0mtournament_size\u001b[0m\u001b[0;34m,\u001b[0m \u001b[0mnum_evaluations\u001b[0m\u001b[0;34m)\u001b[0m\u001b[0;34m\u001b[0m\u001b[0;34m\u001b[0m\u001b[0m\n\u001b[0m\u001b[1;32m     26\u001b[0m             \u001b[0;32mif\u001b[0m \u001b[0mis_successful\u001b[0m\u001b[0;34m(\u001b[0m\u001b[0mpop_fitness\u001b[0m\u001b[0;34m,\u001b[0m \u001b[0mnum_parameters\u001b[0m\u001b[0;34m,\u001b[0m \u001b[0mnum_individuals_initialize\u001b[0m\u001b[0;34m)\u001b[0m \u001b[0;34m==\u001b[0m \u001b[0;32mTrue\u001b[0m\u001b[0;34m:\u001b[0m\u001b[0;34m\u001b[0m\u001b[0;34m\u001b[0m\u001b[0m\n\u001b[1;32m     27\u001b[0m                 \u001b[0msuccess_count\u001b[0m \u001b[0;34m+=\u001b[0m \u001b[0;36m1\u001b[0m\u001b[0;34m\u001b[0m\u001b[0;34m\u001b[0m\u001b[0m\n",
            "\u001b[0;32m<ipython-input-11-99b1293a0d79>\u001b[0m in \u001b[0;36mpopop_trap\u001b[0;34m(num_individuals, num_parameters, tournament_size, num_evaluations)\u001b[0m\n\u001b[1;32m     22\u001b[0m \u001b[0;34m\u001b[0m\u001b[0m\n\u001b[1;32m     23\u001b[0m     \u001b[0;32mwhile\u001b[0m \u001b[0;32mnot\u001b[0m \u001b[0mhas_converged\u001b[0m\u001b[0;34m(\u001b[0m\u001b[0mpop_fitness\u001b[0m\u001b[0;34m)\u001b[0m\u001b[0;34m:\u001b[0m\u001b[0;34m\u001b[0m\u001b[0;34m\u001b[0m\u001b[0m\n\u001b[0;32m---> 24\u001b[0;31m         \u001b[0moffspring\u001b[0m \u001b[0;34m=\u001b[0m \u001b[0mvariation\u001b[0m\u001b[0;34m(\u001b[0m\u001b[0mpop\u001b[0m\u001b[0;34m)\u001b[0m\u001b[0;34m\u001b[0m\u001b[0;34m\u001b[0m\u001b[0m\n\u001b[0m\u001b[1;32m     25\u001b[0m         \u001b[0moffspring_fitness\u001b[0m \u001b[0;34m=\u001b[0m \u001b[0mevaluate_population_trap\u001b[0m\u001b[0;34m(\u001b[0m\u001b[0moffspring\u001b[0m\u001b[0;34m)\u001b[0m\u001b[0;34m\u001b[0m\u001b[0;34m\u001b[0m\u001b[0m\n\u001b[1;32m     26\u001b[0m         \u001b[0mnum_evaluations\u001b[0m \u001b[0;34m+=\u001b[0m \u001b[0;36m1\u001b[0m\u001b[0;34m\u001b[0m\u001b[0;34m\u001b[0m\u001b[0m\n",
            "\u001b[0;32m<ipython-input-22-6df409dc4b37>\u001b[0m in \u001b[0;36mvariation\u001b[0;34m(pop)\u001b[0m\n\u001b[1;32m     27\u001b[0m         \u001b[0;31m# Không cần cài đặt đột biến mutation.\u001b[0m\u001b[0;34m\u001b[0m\u001b[0;34m\u001b[0m\u001b[0;34m\u001b[0m\u001b[0m\n\u001b[1;32m     28\u001b[0m         \u001b[0;32mfor\u001b[0m \u001b[0midx\u001b[0m \u001b[0;32min\u001b[0m \u001b[0mrange\u001b[0m\u001b[0;34m(\u001b[0m\u001b[0;36m0\u001b[0m\u001b[0;34m,\u001b[0m \u001b[0mnum_parameters\u001b[0m\u001b[0;34m)\u001b[0m\u001b[0;34m:\u001b[0m\u001b[0;34m\u001b[0m\u001b[0;34m\u001b[0m\u001b[0m\n\u001b[0;32m---> 29\u001b[0;31m             \u001b[0mr\u001b[0m \u001b[0;34m=\u001b[0m \u001b[0mnp\u001b[0m\u001b[0;34m.\u001b[0m\u001b[0mrandom\u001b[0m\u001b[0;34m.\u001b[0m\u001b[0mrand\u001b[0m\u001b[0;34m(\u001b[0m\u001b[0;34m)\u001b[0m\u001b[0;34m\u001b[0m\u001b[0;34m\u001b[0m\u001b[0m\n\u001b[0m\u001b[1;32m     30\u001b[0m             \u001b[0;32mif\u001b[0m \u001b[0mr\u001b[0m \u001b[0;34m<\u001b[0m \u001b[0;36m0.5\u001b[0m\u001b[0;34m:\u001b[0m\u001b[0;34m\u001b[0m\u001b[0;34m\u001b[0m\u001b[0m\n\u001b[1;32m     31\u001b[0m                 \u001b[0mtmp\u001b[0m \u001b[0;34m=\u001b[0m \u001b[0moffspring2\u001b[0m\u001b[0;34m[\u001b[0m\u001b[0midx\u001b[0m\u001b[0;34m]\u001b[0m\u001b[0;34m\u001b[0m\u001b[0;34m\u001b[0m\u001b[0m\n",
            "\u001b[0;31mKeyboardInterrupt\u001b[0m: "
          ]
        }
      ]
    },
    {
      "cell_type": "code",
      "metadata": {
        "colab": {
          "base_uri": "https://localhost:8080/",
          "height": 442
        },
        "id": "UxjYPuCXNGrX",
        "outputId": "15fe233b-dded-456e-d0b0-e07a5f62e3c9"
      },
      "source": [
        "\"\"\" Trap 5 with UX crossover - run from num_parameters == 40\"\"\"\n",
        "seed_number = 19520925\n",
        "num_individuals_initialize = 4\n",
        "num_parameters = 10\n",
        "tournament_size = 4\n",
        "num_evaluations = 0\n",
        "  \n",
        "mean_individual_Trap_UX, stddev_individual_TrapUX, mean_evaluate_fitness_Trap_UX = main_Trap_UX(num_individuals_initialize, tournament_size, problem_size[2:], seed_number, num_evaluations)\n",
        "mean_individual_Trap_UX, stddev_individual_TrapUX, mean_evaluate_fitness_Trap_UX"
      ],
      "execution_count": 31,
      "outputs": [
        {
          "output_type": "stream",
          "name": "stdout",
          "text": [
            "Num_parameters = 40\n",
            "Num_individual = 0, Num_evaluations = 3458\n",
            "Num_individual = 0, Num_evaluations = 3354\n"
          ]
        },
        {
          "output_type": "error",
          "ename": "KeyboardInterrupt",
          "evalue": "ignored",
          "traceback": [
            "\u001b[0;31m---------------------------------------------------------------------------\u001b[0m",
            "\u001b[0;31mKeyboardInterrupt\u001b[0m                         Traceback (most recent call last)",
            "\u001b[0;32m<ipython-input-31-e7f11c3504e9>\u001b[0m in \u001b[0;36m<module>\u001b[0;34m()\u001b[0m\n\u001b[1;32m      6\u001b[0m \u001b[0mnum_evaluations\u001b[0m \u001b[0;34m=\u001b[0m \u001b[0;36m0\u001b[0m\u001b[0;34m\u001b[0m\u001b[0;34m\u001b[0m\u001b[0m\n\u001b[1;32m      7\u001b[0m \u001b[0;34m\u001b[0m\u001b[0m\n\u001b[0;32m----> 8\u001b[0;31m \u001b[0mmean_individual_Trap_UX\u001b[0m\u001b[0;34m,\u001b[0m \u001b[0mstddev_individual_TrapUX\u001b[0m\u001b[0;34m,\u001b[0m \u001b[0mmean_evaluate_fitness_Trap_UX\u001b[0m \u001b[0;34m=\u001b[0m \u001b[0mmain_Trap_UX\u001b[0m\u001b[0;34m(\u001b[0m\u001b[0mnum_individuals_initialize\u001b[0m\u001b[0;34m,\u001b[0m \u001b[0mtournament_size\u001b[0m\u001b[0;34m,\u001b[0m \u001b[0mproblem_size\u001b[0m\u001b[0;34m[\u001b[0m\u001b[0;36m2\u001b[0m\u001b[0;34m:\u001b[0m\u001b[0;34m]\u001b[0m\u001b[0;34m,\u001b[0m \u001b[0mseed_number\u001b[0m\u001b[0;34m,\u001b[0m \u001b[0mnum_evaluations\u001b[0m\u001b[0;34m)\u001b[0m\u001b[0;34m\u001b[0m\u001b[0;34m\u001b[0m\u001b[0m\n\u001b[0m\u001b[1;32m      9\u001b[0m \u001b[0mmean_individual_Trap_UX\u001b[0m\u001b[0;34m,\u001b[0m \u001b[0mstddev_individual_TrapUX\u001b[0m\u001b[0;34m,\u001b[0m \u001b[0mmean_evaluate_fitness_Trap_UX\u001b[0m\u001b[0;34m\u001b[0m\u001b[0;34m\u001b[0m\u001b[0m\n",
            "\u001b[0;32m<ipython-input-24-a37ca6c90e27>\u001b[0m in \u001b[0;36mmain_Trap_UX\u001b[0;34m(num_individuals_initialize, tournament_size, problem_size, seed_number, num_evaluations)\u001b[0m\n\u001b[1;32m     29\u001b[0m             \u001b[0mnum_individuals_upper\u001b[0m\u001b[0;34m,\u001b[0m \u001b[0mnum_evaluate\u001b[0m \u001b[0;34m=\u001b[0m \u001b[0mfind_MRPS_upper_bound_Trap_UX\u001b[0m\u001b[0;34m(\u001b[0m\u001b[0mnum_idv_init\u001b[0m\u001b[0;34m,\u001b[0m \u001b[0mnum_parameters\u001b[0m\u001b[0;34m,\u001b[0m \u001b[0mtournament_size\u001b[0m\u001b[0;34m,\u001b[0m \u001b[0mseed_number\u001b[0m \u001b[0;34m+\u001b[0m \u001b[0mtime\u001b[0m\u001b[0;34m,\u001b[0m \u001b[0mnum_evaluate\u001b[0m\u001b[0;34m)\u001b[0m\u001b[0;34m\u001b[0m\u001b[0;34m\u001b[0m\u001b[0m\n\u001b[1;32m     30\u001b[0m             \u001b[0;31m# print(f\"num_individuals_upper = {num_individuals_upper}\")\u001b[0m\u001b[0;34m\u001b[0m\u001b[0;34m\u001b[0m\u001b[0;34m\u001b[0m\u001b[0m\n\u001b[0;32m---> 31\u001b[0;31m             \u001b[0mnum_individual\u001b[0m\u001b[0;34m,\u001b[0m \u001b[0mnum_evaluate\u001b[0m \u001b[0;34m=\u001b[0m \u001b[0mfind_MRPS_Trap_UX\u001b[0m\u001b[0;34m(\u001b[0m\u001b[0mnum_individuals_upper\u001b[0m\u001b[0;34m,\u001b[0m \u001b[0mnum_parameters\u001b[0m\u001b[0;34m,\u001b[0m \u001b[0mtournament_size\u001b[0m\u001b[0;34m,\u001b[0m \u001b[0mseed_number\u001b[0m \u001b[0;34m+\u001b[0m \u001b[0mtime\u001b[0m\u001b[0;34m,\u001b[0m \u001b[0mnum_evaluate\u001b[0m\u001b[0;34m)\u001b[0m\u001b[0;34m\u001b[0m\u001b[0;34m\u001b[0m\u001b[0m\n\u001b[0m\u001b[1;32m     32\u001b[0m             \u001b[0mresult\u001b[0m\u001b[0;34m.\u001b[0m\u001b[0mappend\u001b[0m\u001b[0;34m(\u001b[0m\u001b[0mnum_individual\u001b[0m\u001b[0;34m)\u001b[0m\u001b[0;34m\u001b[0m\u001b[0;34m\u001b[0m\u001b[0m\n\u001b[1;32m     33\u001b[0m             \u001b[0mnum_of_evaluation\u001b[0m\u001b[0;34m.\u001b[0m\u001b[0mappend\u001b[0m\u001b[0;34m(\u001b[0m\u001b[0mnum_evaluate\u001b[0m\u001b[0;34m)\u001b[0m\u001b[0;34m\u001b[0m\u001b[0;34m\u001b[0m\u001b[0m\n",
            "\u001b[0;32m<ipython-input-30-79ed4ae03242>\u001b[0m in \u001b[0;36mfind_MRPS_Trap_UX\u001b[0;34m(num_individuals_upper, num_parameters, tournament_size, seed_number, num_evaluations)\u001b[0m\n\u001b[1;32m     25\u001b[0m         \u001b[0;32mfor\u001b[0m \u001b[0mi\u001b[0m \u001b[0;32min\u001b[0m \u001b[0mrange\u001b[0m\u001b[0;34m(\u001b[0m\u001b[0;36m0\u001b[0m\u001b[0;34m,\u001b[0m \u001b[0;36m10\u001b[0m\u001b[0;34m,\u001b[0m \u001b[0;36m1\u001b[0m\u001b[0;34m)\u001b[0m\u001b[0;34m:\u001b[0m\u001b[0;34m\u001b[0m\u001b[0;34m\u001b[0m\u001b[0m\n\u001b[1;32m     26\u001b[0m             \u001b[0mnp\u001b[0m\u001b[0;34m.\u001b[0m\u001b[0mrandom\u001b[0m\u001b[0;34m.\u001b[0m\u001b[0mseed\u001b[0m\u001b[0;34m(\u001b[0m\u001b[0mseed\u001b[0m \u001b[0;34m+\u001b[0m \u001b[0mi\u001b[0m\u001b[0;34m)\u001b[0m\u001b[0;34m\u001b[0m\u001b[0;34m\u001b[0m\u001b[0m\n\u001b[0;32m---> 27\u001b[0;31m             \u001b[0mpop_fitness\u001b[0m\u001b[0;34m,\u001b[0m \u001b[0mnum_evaluations\u001b[0m \u001b[0;34m=\u001b[0m \u001b[0mpopop_trap\u001b[0m\u001b[0;34m(\u001b[0m\u001b[0mnum_individuals\u001b[0m\u001b[0;34m,\u001b[0m \u001b[0mnum_parameters\u001b[0m\u001b[0;34m,\u001b[0m \u001b[0mtournament_size\u001b[0m\u001b[0;34m,\u001b[0m \u001b[0mnum_evaluations\u001b[0m\u001b[0;34m)\u001b[0m\u001b[0;34m\u001b[0m\u001b[0;34m\u001b[0m\u001b[0m\n\u001b[0m\u001b[1;32m     28\u001b[0m \u001b[0;34m\u001b[0m\u001b[0m\n\u001b[1;32m     29\u001b[0m             \u001b[0;32mif\u001b[0m \u001b[0mis_successful\u001b[0m\u001b[0;34m(\u001b[0m\u001b[0mpop_fitness\u001b[0m\u001b[0;34m,\u001b[0m \u001b[0mnum_parameters\u001b[0m\u001b[0;34m,\u001b[0m \u001b[0mnum_individuals\u001b[0m\u001b[0;34m)\u001b[0m \u001b[0;34m==\u001b[0m \u001b[0;32mTrue\u001b[0m\u001b[0;34m:\u001b[0m\u001b[0;34m\u001b[0m\u001b[0;34m\u001b[0m\u001b[0m\n",
            "\u001b[0;32m<ipython-input-12-09c59e8f49c6>\u001b[0m in \u001b[0;36mpopop_trap\u001b[0;34m(num_individuals, num_parameters, tournament_size, num_evaluations)\u001b[0m\n\u001b[1;32m     23\u001b[0m     \u001b[0;32mwhile\u001b[0m \u001b[0;32mnot\u001b[0m \u001b[0mhas_converged\u001b[0m\u001b[0;34m(\u001b[0m\u001b[0mpop_fitness\u001b[0m\u001b[0;34m)\u001b[0m\u001b[0;34m:\u001b[0m\u001b[0;34m\u001b[0m\u001b[0;34m\u001b[0m\u001b[0m\n\u001b[1;32m     24\u001b[0m         \u001b[0moffspring\u001b[0m \u001b[0;34m=\u001b[0m \u001b[0mvariation\u001b[0m\u001b[0;34m(\u001b[0m\u001b[0mpop\u001b[0m\u001b[0;34m)\u001b[0m\u001b[0;34m\u001b[0m\u001b[0;34m\u001b[0m\u001b[0m\n\u001b[0;32m---> 25\u001b[0;31m         \u001b[0moffspring_fitness\u001b[0m \u001b[0;34m=\u001b[0m \u001b[0mevaluate_population_trap\u001b[0m\u001b[0;34m(\u001b[0m\u001b[0moffspring\u001b[0m\u001b[0;34m)\u001b[0m\u001b[0;34m\u001b[0m\u001b[0;34m\u001b[0m\u001b[0m\n\u001b[0m\u001b[1;32m     26\u001b[0m         \u001b[0mnum_evaluations\u001b[0m \u001b[0;34m+=\u001b[0m \u001b[0;36m1\u001b[0m\u001b[0;34m\u001b[0m\u001b[0;34m\u001b[0m\u001b[0m\n\u001b[1;32m     27\u001b[0m \u001b[0;34m\u001b[0m\u001b[0m\n",
            "\u001b[0;32m<ipython-input-4-3a0408922943>\u001b[0m in \u001b[0;36mevaluate_population_trap\u001b[0;34m(pop)\u001b[0m\n\u001b[1;32m      9\u001b[0m     \u001b[0mvalues\u001b[0m \u001b[0;34m-\u001b[0m\u001b[0;34m-\u001b[0m \u001b[0mGiá\u001b[0m \u001b[0mtrị\u001b[0m \u001b[0mcủa\u001b[0m \u001b[0mtất\u001b[0m \u001b[0mcả\u001b[0m \u001b[0mcác\u001b[0m \u001b[0mcá\u001b[0m \u001b[0mthể\u001b[0m \u001b[0mtrong\u001b[0m \u001b[0mquần\u001b[0m \u001b[0mthể\u001b[0m\u001b[0;34m\u001b[0m\u001b[0;34m\u001b[0m\u001b[0m\n\u001b[1;32m     10\u001b[0m     \"\"\"\n\u001b[0;32m---> 11\u001b[0;31m     \u001b[0mvalues\u001b[0m \u001b[0;34m=\u001b[0m \u001b[0mnp\u001b[0m\u001b[0;34m.\u001b[0m\u001b[0marray\u001b[0m\u001b[0;34m(\u001b[0m\u001b[0;34m[\u001b[0m\u001b[0mconcatenated_trap_k\u001b[0m\u001b[0;34m(\u001b[0m\u001b[0mind\u001b[0m\u001b[0;34m,\u001b[0m \u001b[0;36m5\u001b[0m\u001b[0;34m)\u001b[0m \u001b[0;32mfor\u001b[0m \u001b[0mind\u001b[0m \u001b[0;32min\u001b[0m \u001b[0mpop\u001b[0m\u001b[0;34m]\u001b[0m\u001b[0;34m)\u001b[0m\u001b[0;34m\u001b[0m\u001b[0;34m\u001b[0m\u001b[0m\n\u001b[0m\u001b[1;32m     12\u001b[0m     \u001b[0;32mreturn\u001b[0m \u001b[0mvalues\u001b[0m\u001b[0;34m\u001b[0m\u001b[0;34m\u001b[0m\u001b[0m\n",
            "\u001b[0;32m<ipython-input-4-3a0408922943>\u001b[0m in \u001b[0;36m<listcomp>\u001b[0;34m(.0)\u001b[0m\n\u001b[1;32m      9\u001b[0m     \u001b[0mvalues\u001b[0m \u001b[0;34m-\u001b[0m\u001b[0;34m-\u001b[0m \u001b[0mGiá\u001b[0m \u001b[0mtrị\u001b[0m \u001b[0mcủa\u001b[0m \u001b[0mtất\u001b[0m \u001b[0mcả\u001b[0m \u001b[0mcác\u001b[0m \u001b[0mcá\u001b[0m \u001b[0mthể\u001b[0m \u001b[0mtrong\u001b[0m \u001b[0mquần\u001b[0m \u001b[0mthể\u001b[0m\u001b[0;34m\u001b[0m\u001b[0;34m\u001b[0m\u001b[0m\n\u001b[1;32m     10\u001b[0m     \"\"\"\n\u001b[0;32m---> 11\u001b[0;31m     \u001b[0mvalues\u001b[0m \u001b[0;34m=\u001b[0m \u001b[0mnp\u001b[0m\u001b[0;34m.\u001b[0m\u001b[0marray\u001b[0m\u001b[0;34m(\u001b[0m\u001b[0;34m[\u001b[0m\u001b[0mconcatenated_trap_k\u001b[0m\u001b[0;34m(\u001b[0m\u001b[0mind\u001b[0m\u001b[0;34m,\u001b[0m \u001b[0;36m5\u001b[0m\u001b[0;34m)\u001b[0m \u001b[0;32mfor\u001b[0m \u001b[0mind\u001b[0m \u001b[0;32min\u001b[0m \u001b[0mpop\u001b[0m\u001b[0;34m]\u001b[0m\u001b[0;34m)\u001b[0m\u001b[0;34m\u001b[0m\u001b[0;34m\u001b[0m\u001b[0m\n\u001b[0m\u001b[1;32m     12\u001b[0m     \u001b[0;32mreturn\u001b[0m \u001b[0mvalues\u001b[0m\u001b[0;34m\u001b[0m\u001b[0;34m\u001b[0m\u001b[0m\n",
            "\u001b[0;32m<ipython-input-3-c27cea2299fb>\u001b[0m in \u001b[0;36mconcatenated_trap_k\u001b[0;34m(ind, k)\u001b[0m\n\u001b[1;32m     15\u001b[0m         \u001b[0;32mfor\u001b[0m \u001b[0mj\u001b[0m \u001b[0;32min\u001b[0m \u001b[0mrange\u001b[0m\u001b[0;34m(\u001b[0m\u001b[0;36m0\u001b[0m\u001b[0;34m,\u001b[0m \u001b[0mk\u001b[0m\u001b[0;34m)\u001b[0m\u001b[0;34m:\u001b[0m\u001b[0;34m\u001b[0m\u001b[0;34m\u001b[0m\u001b[0m\n\u001b[1;32m     16\u001b[0m             \u001b[0mu\u001b[0m \u001b[0;34m+=\u001b[0m \u001b[0mind\u001b[0m\u001b[0;34m[\u001b[0m\u001b[0mi\u001b[0m\u001b[0;34m+\u001b[0m\u001b[0mj\u001b[0m\u001b[0;34m]\u001b[0m\u001b[0;34m\u001b[0m\u001b[0;34m\u001b[0m\u001b[0m\n\u001b[0;32m---> 17\u001b[0;31m         \u001b[0;32mif\u001b[0m \u001b[0mu\u001b[0m \u001b[0;34m==\u001b[0m \u001b[0mk\u001b[0m\u001b[0;34m:\u001b[0m\u001b[0;34m\u001b[0m\u001b[0;34m\u001b[0m\u001b[0m\n\u001b[0m\u001b[1;32m     18\u001b[0m             \u001b[0mfitness\u001b[0m \u001b[0;34m+=\u001b[0m \u001b[0mk\u001b[0m\u001b[0;34m\u001b[0m\u001b[0;34m\u001b[0m\u001b[0m\n\u001b[1;32m     19\u001b[0m         \u001b[0;32melse\u001b[0m\u001b[0;34m:\u001b[0m\u001b[0;34m\u001b[0m\u001b[0;34m\u001b[0m\u001b[0m\n",
            "\u001b[0;31mKeyboardInterrupt\u001b[0m: "
          ]
        }
      ]
    },
    {
      "cell_type": "code",
      "metadata": {
        "id": "zJ8gqQQ3iC7Q"
      },
      "source": [
        "'''\n",
        "Experimental results\n",
        "'''\n",
        "mean_individual_Onemax_1X = [33.8, 71.0, 189.6, 723.2, 2483.2]\n",
        "mean_fitness_evaluation_Onemax_1X = [484.6, 846.8, 1510.0, 2554.9, 4421.6]\n",
        "stddev_individual_Onemax_1X= [6.779380502671318, 19.209372712298546, 57.47208017811779, 231.7294974749654, 717.7137033664607]\n",
        "stddev_fitness_evaluation_Onemax_1X = [72.27475354506579, 82.90090469952665, 124.31170499997174, 220.27594058362345, 338.7802237439488]"
      ],
      "execution_count": null,
      "outputs": []
    },
    {
      "cell_type": "code",
      "metadata": {
        "colab": {
          "base_uri": "https://localhost:8080/",
          "height": 608
        },
        "id": "IH4mc0as-lxH",
        "outputId": "3a1d905c-e252-46cf-e79a-41cee440e8e1"
      },
      "source": [
        "'''\n",
        "Plot 1: MRPS in corresponding with increasing problem size\n",
        "'''\n",
        "# Onemax UX\n",
        "mean_individual_Onemax_UX = [20.4, 31.2, 52.2, 83.6, 135.2]\n",
        "stddev_individual_Onemax_UX = [3.6660605559646724, 4.995998398718719, 12.944496900227525, 24.88051446413438, 2.4]\n",
        "\n",
        "# Onemax 1X\n",
        "mean_individual_Onemax_1X = [33.8, 71.0, 189.6, 723.2, 2483.2]\n",
        "stddev_individual_Onemax_1X = [6.779380502671318, 19.209372712298546, 57.47208017811779, 231.7294974749654, 717.7137033664607]\n",
        "\n",
        "\n",
        "# Plot\n",
        "fig1 = plt.figure(u'Plot 1', figsize=(10, 10))\n",
        "e1_Onemax_UX = []\n",
        "for i in range(len(mean_individual_Onemax_UX)):\n",
        "    e1_Onemax_UX.append(mean_individual_Onemax_UX[i] + stddev_individual_Onemax_UX[i])\n",
        "\n",
        "e2_Onemax_UX = []\n",
        "for i in range(len(mean_individual_Onemax_1X)):\n",
        "    e2_Onemax_UX.append(mean_individual_Onemax_UX[i] - stddev_individual_Onemax_UX[i])\n",
        "\n",
        "e1_Onemax_1X = []\n",
        "for i in range(len(mean_individual_Onemax_1X)):\n",
        "    e1_Onemax_1X.append(mean_individual_Onemax_1X[i] + stddev_individual_Onemax_1X[i])\n",
        "\n",
        "e2_Onemax_1X = []\n",
        "for i in range(len(mean_individual_Onemax_1X)):\n",
        "    e2_Onemax_1X.append(mean_individual_Onemax_1X[i] - stddev_individual_Onemax_1X[i])\n",
        "\n",
        "error1 = e2_Onemax_UX\n",
        "error2 = e2_Onemax_1X\n",
        "\n",
        "plt.xlabel(\"Problem size\")\n",
        "plt.ylabel(\"MRPS\")\n",
        "\n",
        "plt.fill_between(problem_size, e1_Onemax_UX, e2_Onemax_UX, color='cyan')\n",
        "plt.fill_between(problem_size, e1_Onemax_1X, e2_Onemax_1X, color='orange')\n",
        "\n",
        "# plt.errorbar(problem_size, mean_individual_Onemax_1X, yerr=error2, fmt='-bo')\n",
        "# plt.errorbar(problem_size, mean_individual_Onemax_UX, yerr=error1, fmt='-ro')\n",
        "\n",
        "plt.plot(problem_size, mean_individual_Onemax_1X, '-b', label='1 point crossover')\n",
        "plt.plot(problem_size, mean_individual_Onemax_UX, '-r', label='Uniform crossover')\n",
        "plt.xscale(\"log\")\n",
        "plt.yscale(\"log\")\n",
        "# plt.title('Figure 1. Correlation between MRPS and problem size')\n",
        "\n",
        "plt.legend()\n",
        "plt.savefig('Plot-1.png')\n",
        "plt.show()"
      ],
      "execution_count": 48,
      "outputs": [
        {
          "output_type": "display_data",
          "data": {
            "image/png": "[encoded data removed]",
            "text/plain": [
              "<Figure size 720x720 with 1 Axes>"
            ]
          },
          "metadata": {
            "needs_background": "light"
          }
        }
      ]
    },
    {
      "cell_type": "code",
      "metadata": {
        "id": "h-5u3cSUIkwK",
        "colab": {
          "base_uri": "https://localhost:8080/",
          "height": 608
        },
        "outputId": "d1c4f8c6-300b-4713-b2dd-c4a6200f4459"
      },
      "source": [
        "'''\n",
        "Plot 2: Number of fitness evaluations in sGA between 1X and UX crossover\n",
        "'''\n",
        "mean_fitness_evaluation_Onemax_UX = [2210.4, 3745.3, 5708.3, 9430.7, 14205.0]\n",
        "stddev_fitness_evaluation_Onemax_UX = [14.40971894243604, 96.23907730231001, 106.12238218208259, 106.88797874410386, 163.9669478888962]\n",
        "\n",
        "\n",
        "mean_fitness_evaluation_Onemax_1X = [484.6, 846.8, 1510.0, 2554.9, 4421.6]\n",
        "stddev_fitness_evaluation_Onemax_1X = [72.27475354506579, 82.90090469952665, 124.31170499997174, 220.27594058362345, 338.7802237439488]\n",
        "\n",
        "\n",
        "fig1 = plt.figure(u'Plot 2', figsize=(10, 10))\n",
        "e1_Onemax_UX = []\n",
        "for i in range(len(mean_fitness_evaluation_Onemax_UX)):\n",
        "    e1_Onemax_UX.append(mean_fitness_evaluation_Onemax_UX[i] + stddev_fitness_evaluation_Onemax_UX[i])\n",
        "\n",
        "e2_Onemax_UX = []\n",
        "for i in range(len(mean_fitness_evaluation_Onemax_1X)):\n",
        "    e2_Onemax_UX.append(mean_fitness_evaluation_Onemax_UX[i] - stddev_fitness_evaluation_Onemax_UX[i])\n",
        "\n",
        "e1_Onemax_1X = []\n",
        "for i in range(len(mean_fitness_evaluation_Onemax_1X)):\n",
        "    e1_Onemax_1X.append(mean_fitness_evaluation_Onemax_1X[i] + stddev_fitness_evaluation_Onemax_1X[i])\n",
        "\n",
        "e2_Onemax_1X = []\n",
        "for i in range(len(mean_fitness_evaluation_Onemax_1X)):\n",
        "    e2_Onemax_1X.append(mean_fitness_evaluation_Onemax_1X[i] - stddev_fitness_evaluation_Onemax_1X[i])\n",
        "\n",
        "error1 = e2_Onemax_UX\n",
        "error2 = e2_Onemax_1X\n",
        "\n",
        "plt.xlabel(\"Problem size\")\n",
        "plt.ylabel(\"Number of fitness evaluation\")\n",
        "\n",
        "plt.fill_between(problem_size, e1_Onemax_UX, e2_Onemax_UX, color='cyan')\n",
        "plt.fill_between(problem_size, e1_Onemax_1X, e2_Onemax_1X, color='orange')\n",
        "\n",
        "# plt.errorbar(problem_size, mean_individual_Onemax_1X, yerr=error2, fmt='-bo')\n",
        "# plt.errorbar(problem_size, mean_individual_Onemax_UX, yerr=error1, fmt='-ro')\n",
        "\n",
        "plt.plot(problem_size, mean_fitness_evaluation_Onemax_1X, '-b', label='1 point crossover')\n",
        "plt.plot(problem_size, mean_fitness_evaluation_Onemax_UX, '-r', label='Uniform crossover')\n",
        "plt.xscale(\"log\")\n",
        "plt.yscale(\"log\")\n",
        "# plt.title('Figure 2. Correlation between number of fitness evaluation and problem size')\n",
        "\n",
        "plt.legend()\n",
        "plt.savefig('Plot-2.png')\n",
        "plt.show()\n"
      ],
      "execution_count": 33,
      "outputs": [
        {
          "output_type": "display_data",
          "data": {
            "image/png": "[encoded data removed]",
            "text/plain": [
              "<Figure size 720x720 with 1 Axes>"
            ]
          },
          "metadata": {
            "needs_background": "light"
          }
        }
      ]
    },
    {
      "cell_type": "code",
      "metadata": {
        "colab": {
          "base_uri": "https://localhost:8080/",
          "height": 608
        },
        "id": "v3c0K5Gpzan5",
        "outputId": "30bae5c4-86b4-4b6c-a5ed-5281c4c76fc7"
      },
      "source": [
        "'''\n",
        "Plot 3: Correlation between MRPS and problem size in Trap-5 function with sGA\n",
        "'''\n",
        "\n",
        "# Trap-5 1X\n",
        "mean_individual_Trap_1X = [78.8, 276.8, 825.6, 2444.8]\n",
        "stddev_individual_Trap_1X = [17.3896521,53.35999334,254.1264777,694.4319501]\n",
        "\n",
        "# Trap-5 UX\n",
        "mean_individual_Trap_UX = [371.2, 3148.8]\n",
        "stddev_individual_Trap_UX = [122.7362122, 923.4154957]\n",
        "\n",
        "\n",
        "# Plot\n",
        "fig3 = plt.figure(u'Plot 3', figsize=(10, 10))\n",
        "e1_Trap_UX, e2_Trap_UX, e1_Trap_1X, e2_Trap_1X = [], [], [], []\n",
        "for i in range(len(mean_individual_Trap_1X)):\n",
        "    e1_Trap_1X.append(mean_individual_Trap_1X[i] + stddev_individual_Trap_1X[i])\n",
        "    e2_Trap_1X.append(mean_individual_Trap_1X[i] - stddev_individual_Trap_1X[i])\n",
        "\n",
        "for i in range(len(mean_individual_Trap_UX)):\n",
        "    e1_Trap_UX.append(mean_individual_Trap_UX[i] + stddev_individual_Trap_UX[i])\n",
        "    e2_Trap_UX.append(mean_individual_Trap_UX[i] - stddev_individual_Trap_UX[i])\n",
        "\n",
        "\n",
        "plt.xlabel(\"Problem size\")\n",
        "plt.ylabel(\"MRPS\")\n",
        "\n",
        "p1 = [10, 20]\n",
        "p2 = [10, 20, 40, 80]\n",
        "plt.fill_between(p1, e1_Trap_UX, e2_Trap_UX, color='cyan')\n",
        "plt.fill_between(p2, e1_Trap_1X, e2_Trap_1X, color='orange')\n",
        "\n",
        "\n",
        "plt.plot(p2, mean_individual_Trap_1X, '-b', label='1 point crossover')\n",
        "plt.plot(p1, mean_individual_Trap_UX, '-r', label='Uniform crossover')\n",
        "plt.xscale(\"log\")\n",
        "plt.yscale(\"log\")\n",
        "# plt.title('Figure 1. Correlation between MRPS and problem size')\n",
        "\n",
        "plt.legend()\n",
        "plt.savefig('Plot-3.png')\n",
        "plt.show()"
      ],
      "execution_count": 39,
      "outputs": [
        {
          "output_type": "display_data",
          "data": {
            "image/png": "[encoded data removed]",
            "text/plain": [
              "<Figure size 720x720 with 1 Axes>"
            ]
          },
          "metadata": {
            "needs_background": "light"
          }
        }
      ]
    },
    {
      "cell_type": "code",
      "metadata": {
        "colab": {
          "base_uri": "https://localhost:8080/",
          "height": 608
        },
        "id": "uAApUL1138nd",
        "outputId": "5624788f-455a-475a-da0f-54d6b7f56aee"
      },
      "source": [
        "'''\n",
        "Plot 4: Correlation between number of fitness evaluation and problem size in Trap-5 function with sGA\n",
        "'''\n",
        "\n",
        "# Trap-5 1X\n",
        "num_evaluation_Trap_1X = [664.1,1158,1934,3096.4]\n",
        "stddev_num_evaluation_Trap_1X = [46.39552181,102.6179538,157.1064749,244.6326952]\n",
        "\n",
        "# Trap-5 UX\n",
        "num_evaluation_Trap_UX = [975.6, 2327.2]\n",
        "stddev_num_evaluation_Trap_UX = [124.8859035,158.8869619]\n",
        "\n",
        "\n",
        "# Plot\n",
        "fig3 = plt.figure(u'Plot 4', figsize=(10, 10))\n",
        "e1_Trap_UX, e2_Trap_UX, e1_Trap_1X, e2_Trap_1X = [], [], [], []\n",
        "for i in range(len(num_evaluation_Trap_1X)):\n",
        "    e1_Trap_1X.append(num_evaluation_Trap_1X[i] + stddev_num_evaluation_Trap_1X[i])\n",
        "    e2_Trap_1X.append(num_evaluation_Trap_1X[i] - stddev_num_evaluation_Trap_1X[i])\n",
        "\n",
        "for i in range(len(num_evaluation_Trap_UX)):\n",
        "    e1_Trap_UX.append(num_evaluation_Trap_UX[i] + stddev_num_evaluation_Trap_UX[i])\n",
        "    e2_Trap_UX.append(num_evaluation_Trap_UX[i] - stddev_num_evaluation_Trap_UX[i])\n",
        "\n",
        "\n",
        "plt.xlabel(\"Problem size\")\n",
        "plt.ylabel(\"MRPS\")\n",
        "\n",
        "p1 = [10, 20]\n",
        "p2 = [10, 20, 40, 80]\n",
        "plt.fill_between(p1, e1_Trap_UX, e2_Trap_UX, color='cyan')\n",
        "plt.fill_between(p2, e1_Trap_1X, e2_Trap_1X, color='orange')\n",
        "\n",
        "\n",
        "plt.plot(p2, num_evaluation_Trap_1X, '-b', label='1 point crossover')\n",
        "plt.plot(p1, num_evaluation_Trap_UX, '-r', label='Uniform crossover')\n",
        "plt.xscale(\"log\")\n",
        "plt.yscale(\"log\")\n",
        "# plt.title('Figure 1. Correlation between MRPS and problem size')\n",
        "\n",
        "plt.legend()\n",
        "plt.savefig('Plot-4.png')\n",
        "plt.show()"
      ],
      "execution_count": 43,
      "outputs": [
        {
          "output_type": "display_data",
          "data": {
            "image/png": "[encoded data removed]",
            "text/plain": [
              "<Figure size 720x720 with 1 Axes>"
            ]
          },
          "metadata": {
            "needs_background": "light"
          }
        }
      ]
    }
  ]
}